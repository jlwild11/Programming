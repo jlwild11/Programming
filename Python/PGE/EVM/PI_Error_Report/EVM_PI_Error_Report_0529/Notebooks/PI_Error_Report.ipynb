{
 "cells": [
  {
   "cell_type": "code",
   "execution_count": 1,
   "metadata": {},
   "outputs": [
    {
     "output_type": "stream",
     "name": "stdout",
     "text": "\u001b[1m\u001b[94mHome Directory: \u001b[0mc:\\Users\\Jameson\\GitHub\\Programming\\Python\\PGE\\EVM\\PI_Error_Report\\EVM_PI_Error_Report_0529\n\u001b[1m\u001b[94mToday's Date:\u001b[0m 20200529\n\u001b[1m\u001b[94mToday's Date and Time:\u001b[0m 20200529_2254\n\u001b[1m\u001b[94mStart Time:\u001b[0m 22:54:45.102387\n"
    }
   ],
   "source": [
    "from datetime import date, timedelta, datetime\n",
    "import os,sys,inspect\n",
    "import pandas as pd\n",
    "import numpy as np\n",
    "import glob\n",
    "import shutil\n",
    "\n",
    "start_time = datetime.now().time()\n",
    "\n",
    "Export_Day_Num = 4 \n",
    "# Number of days the PI Error Report is oging back.  This variable is manual and only used in file names.  May be updated later by calculating the date range of the data later.\n",
    "\n",
    "Sheet_Name = \"Circuits_Last_\"+str(Export_Day_Num)+\"_Days\"\n",
    "# Sheet name of the Excel Files.\n",
    "\n",
    "today = datetime.now() \n",
    "date = today.strftime(\"%Y%m%d\")\n",
    "#current date YYYY/MM/DD format\n",
    "\n",
    "today_and_time = datetime.now() \n",
    "date_time = today_and_time.strftime(\"%Y%m%d_%H%M\")\n",
    "date_time_format = today_and_time.strftime(\"%Y/%m/%d %H:%M\")\n",
    "#used to create time specifc folders for multiple data exports in the same day.\n",
    "\n",
    "home_dir = os.path.dirname(os.path.dirname(os.path.abspath(inspect.getfile(inspect.currentframe()))))\n",
    "#the home folder for PI_Error_Report\n",
    "\n",
    "parent_of_home_dir = os.path.dirname(os.path.dirname(os.path.dirname(os.path.abspath(inspect.getfile(inspect.currentframe())))))\n",
    "#the parent folder of the home folder for PI_Error_Report.  Will be used to access the Roster Table which will be used for other Reports.\n",
    "\n",
    "CSV_Staging = home_dir + \"\\\\\" + \"Excel_Data_Exports\" + \"\\\\\" + \"CSV_Staging\"\n",
    "#folder location to place all data exports to create the PI Error Report with\n",
    "\n",
    "Excel_Data_Export_Location = home_dir + \"\\\\\" + \"Excel_Data_Exports\" + \"\\\\\" + date_time\n",
    "#folder created with the current date and time where all data will be moved to and PI Error Report will be created.\n",
    "\n",
    "filenames = []\n",
    "#used to hold filenames in CSV Staging\n",
    "\n",
    "filenames_csv_path_df = [] \n",
    "#used to hold the temporary pandas dataframe names that is associated with each filename in CSV Staging\n",
    "\n",
    "out_Circuits_Combined = \"Circuits_Combined\"\n",
    "#Location of Excel file created when all CSV data exports are combined.\n",
    "\n",
    "circuits_xlsx_path = Excel_Data_Export_Location + \"\\\\\" + out_Circuits_Combined + \"\\\\\" +  \"EVM_\" + date + \"_PI_Error_Report_Data_Export_Circuits.xlsx\"\n",
    "#Name of excel file created of the cobined CSV files\n",
    "\n",
    "pi_error_report_dir = \"PI_Error_Report\"\n",
    "#Folder for the PI Error Report being created with the current data exported\n",
    "\n",
    "pi_error_report_xlsx_path = Excel_Data_Export_Location + \"\\\\\" + pi_error_report_dir + \"\\\\\" +  \"EVM_\" + date + \"_PI_Error_Report.xlsx\" #Filename of the PI Error Report created with all necessary columns, formatting, and tables to present and submit.\n",
    "\n",
    "roster_xlsx_path = home_dir + \"\\\\\" + \"Roster_For_Reports\" + \"\\\\\" + \"Roster_For_Reports.xlsx\" \n",
    "#location of roster of PIs.  Migh create a section to copy from a parent folder location so the same roster can be used in other reports.\n",
    "\n",
    "# colors for print commands\n",
    "PURPLE = '\\033[95m'\n",
    "CYAN = '\\033[96m'\n",
    "DARKCYAN = '\\033[36m'\n",
    "BLUE = '\\033[94m'\n",
    "GREEN = '\\033[92m'\n",
    "YELLOW = '\\033[93m'\n",
    "RED = '\\033[91m'\n",
    "BOLD = '\\033[1m'\n",
    "UNDERLINE = '\\033[4m'\n",
    "NORMAL = '\\033[0m'\n",
    "\n",
    "#set otion to display all columns when using \"dataframe\".head()\n",
    "pd.set_option('display.max_columns', None)\n",
    "\n",
    "print(BOLD + BLUE + \"Home Directory: \" + NORMAL + home_dir)\n",
    "print(BOLD + BLUE + \"Today's Date:\" + NORMAL, date)\n",
    "print(BOLD + BLUE + \"Today's Date and Time:\" + NORMAL, date_time)\n",
    "print(BOLD + BLUE + \"Start Time:\" + NORMAL, start_time)"
   ]
  },
  {
   "cell_type": "code",
   "execution_count": 2,
   "metadata": {},
   "outputs": [
    {
     "output_type": "stream",
     "name": "stdout",
     "text": "\u001b[1m\u001b[94mFilenames:\u001b[0m\nc:\\Users\\Jameson\\GitHub\\Programming\\Python\\PGE\\EVM\\PI_Error_Report\\EVM_PI_Error_Report_0529\\Excel_Data_Exports\\20200529_2254\\EVM_20200529_PI_Error_Report_Data_Export_BANGOR_1101.csv\n\nc:\\Users\\Jameson\\GitHub\\Programming\\Python\\PGE\\EVM\\PI_Error_Report\\EVM_PI_Error_Report_0529\\Excel_Data_Exports\\20200529_2254\\EVM_20200529_PI_Error_Report_Data_Export_BRUNSWICK_1105.csv\n\n\u001b[1m\u001b[92mDataframe name and Filename\u001b[0m\ndf_0 = c:\\Users\\Jameson\\GitHub\\Programming\\Python\\PGE\\EVM\\PI_Error_Report\\EVM_PI_Error_Report_0529\\Excel_Data_Exports\\20200529_2254\\EVM_20200529_PI_Error_Report_Data_Export_BANGOR_1101.csv\n\n\ndf_1 = c:\\Users\\Jameson\\GitHub\\Programming\\Python\\PGE\\EVM\\PI_Error_Report\\EVM_PI_Error_Report_0529\\Excel_Data_Exports\\20200529_2254\\EVM_20200529_PI_Error_Report_Data_Export_BRUNSWICK_1105.csv\n\n\n"
    },
    {
     "output_type": "execute_result",
     "data": {
      "text/plain": "   OID VEG_POINT_SOURCE                   AUTO_ID  CIRCUITNAME UNDERBUILD  \\\n0   -1               PI  VP_AT115-C08_910510_2019  BANGOR 1101         No   \n\n      UNIQUE_SEGMENT_ID           VP_STATUS WORK_VERIFICATION_STATUS  \\\n0  CIP_AT115-C08_320820  Tree Work Complete                      NaN   \n\n                  PI_COMPANY   SPECIES RWD_EXC DEAD_DYING  DIAMETER  HEIGHT  \\\n0  MBG_Mason, Bruce & Girard  Live Oak      No         No      47.0    40.0   \n\n  TAT_RESULT  TREE_MATRIX_SCORE  IMPACT_MATRIX_SCORE        PRESCRIP  \\\n0        NaN                4.0                  3.0  F4D_FS-R4B+Trt   \n\n        WOOD_MAN TRAFFIC ENVIRONMENTAL_CONCERN  \\\n0  Cut and Leave      No                   NaN   \n\n                                         PI_COMMENTS     TW_COMPANY TW_SUB  \\\n0  Poles 10C-Tap pole, 0.7 span, underneath lines...  MOW_Mowbray's    NaN   \n\n   TW_FOREMAN_ISN     TW_ACT_WORK        TW_WORK_DATE TW_COMMENTS  \\\n0       5872407.0  F4D_FS-R4B+Trt  5/12/2020 23:41:09         NaN   \n\n  TW_BILLING_TYPE TW_READY_TO_INVOICE TW_INVOICING_STATUS WM_COMPANY WM_SUB  \\\n0            Unit                 NaN                 NaN        NaN    NaN   \n\n  WM_DATE                            WM_COMMENTS EVM_LAST_EDITOR  \\\n0     NaN  Cut into 16 inch rounds, chips piled      rayalm_awrr   \n\n      EVM_LAST_EDITED  REGION   DIVISION   PARCEL_NAME        SITE_ADDRESS  \\\n0  5/12/2020 23:41:26  Sierra  SI_Sierra  1.012547e+09  6202 STONEHEDGE DR   \n\n  PROPERTY_CITY      Creator              Created              Editor  \\\n0     LOMA RICA  acoonm_awrr  11/12/2019 20:30:44  BE_geomartawrrprod   \n\n              Edited                                GlobalID  \\\n0  5/13/2020 0:32:46  {00000000-0000-0000-0000-000000000000}   \n\n       UNIQUE_PARCEL_ID                           EVM_SYNC_ID  \n0  LP_AT115-C08_1680531  21a5d88c-e0bb-430f-b53d-ebbad5c0f7ca  ",
      "text/html": "<div>\n<style scoped>\n    .dataframe tbody tr th:only-of-type {\n        vertical-align: middle;\n    }\n\n    .dataframe tbody tr th {\n        vertical-align: top;\n    }\n\n    .dataframe thead th {\n        text-align: right;\n    }\n</style>\n<table border=\"1\" class=\"dataframe\">\n  <thead>\n    <tr style=\"text-align: right;\">\n      <th></th>\n      <th>OID</th>\n      <th>VEG_POINT_SOURCE</th>\n      <th>AUTO_ID</th>\n      <th>CIRCUITNAME</th>\n      <th>UNDERBUILD</th>\n      <th>UNIQUE_SEGMENT_ID</th>\n      <th>VP_STATUS</th>\n      <th>WORK_VERIFICATION_STATUS</th>\n      <th>PI_COMPANY</th>\n      <th>SPECIES</th>\n      <th>RWD_EXC</th>\n      <th>DEAD_DYING</th>\n      <th>DIAMETER</th>\n      <th>HEIGHT</th>\n      <th>TAT_RESULT</th>\n      <th>TREE_MATRIX_SCORE</th>\n      <th>IMPACT_MATRIX_SCORE</th>\n      <th>PRESCRIP</th>\n      <th>WOOD_MAN</th>\n      <th>TRAFFIC</th>\n      <th>ENVIRONMENTAL_CONCERN</th>\n      <th>PI_COMMENTS</th>\n      <th>TW_COMPANY</th>\n      <th>TW_SUB</th>\n      <th>TW_FOREMAN_ISN</th>\n      <th>TW_ACT_WORK</th>\n      <th>TW_WORK_DATE</th>\n      <th>TW_COMMENTS</th>\n      <th>TW_BILLING_TYPE</th>\n      <th>TW_READY_TO_INVOICE</th>\n      <th>TW_INVOICING_STATUS</th>\n      <th>WM_COMPANY</th>\n      <th>WM_SUB</th>\n      <th>WM_DATE</th>\n      <th>WM_COMMENTS</th>\n      <th>EVM_LAST_EDITOR</th>\n      <th>EVM_LAST_EDITED</th>\n      <th>REGION</th>\n      <th>DIVISION</th>\n      <th>PARCEL_NAME</th>\n      <th>SITE_ADDRESS</th>\n      <th>PROPERTY_CITY</th>\n      <th>Creator</th>\n      <th>Created</th>\n      <th>Editor</th>\n      <th>Edited</th>\n      <th>GlobalID</th>\n      <th>UNIQUE_PARCEL_ID</th>\n      <th>EVM_SYNC_ID</th>\n    </tr>\n  </thead>\n  <tbody>\n    <tr>\n      <th>0</th>\n      <td>-1</td>\n      <td>PI</td>\n      <td>VP_AT115-C08_910510_2019</td>\n      <td>BANGOR 1101</td>\n      <td>No</td>\n      <td>CIP_AT115-C08_320820</td>\n      <td>Tree Work Complete</td>\n      <td>NaN</td>\n      <td>MBG_Mason, Bruce &amp; Girard</td>\n      <td>Live Oak</td>\n      <td>No</td>\n      <td>No</td>\n      <td>47.0</td>\n      <td>40.0</td>\n      <td>NaN</td>\n      <td>4.0</td>\n      <td>3.0</td>\n      <td>F4D_FS-R4B+Trt</td>\n      <td>Cut and Leave</td>\n      <td>No</td>\n      <td>NaN</td>\n      <td>Poles 10C-Tap pole, 0.7 span, underneath lines...</td>\n      <td>MOW_Mowbray's</td>\n      <td>NaN</td>\n      <td>5872407.0</td>\n      <td>F4D_FS-R4B+Trt</td>\n      <td>5/12/2020 23:41:09</td>\n      <td>NaN</td>\n      <td>Unit</td>\n      <td>NaN</td>\n      <td>NaN</td>\n      <td>NaN</td>\n      <td>NaN</td>\n      <td>NaN</td>\n      <td>Cut into 16 inch rounds, chips piled</td>\n      <td>rayalm_awrr</td>\n      <td>5/12/2020 23:41:26</td>\n      <td>Sierra</td>\n      <td>SI_Sierra</td>\n      <td>1.012547e+09</td>\n      <td>6202 STONEHEDGE DR</td>\n      <td>LOMA RICA</td>\n      <td>acoonm_awrr</td>\n      <td>11/12/2019 20:30:44</td>\n      <td>BE_geomartawrrprod</td>\n      <td>5/13/2020 0:32:46</td>\n      <td>{00000000-0000-0000-0000-000000000000}</td>\n      <td>LP_AT115-C08_1680531</td>\n      <td>21a5d88c-e0bb-430f-b53d-ebbad5c0f7ca</td>\n    </tr>\n  </tbody>\n</table>\n</div>"
     },
     "metadata": {},
     "execution_count": 2
    }
   ],
   "source": [
    "#move files in CSV Staging into Excel Data export location folder\n",
    "source  = CSV_Staging\n",
    "destination  = Excel_Data_Export_Location\n",
    "shutil.move(source, destination)\n",
    "\n",
    "#create new CSV Staging folder after previous one has been removed\n",
    "if not os.path.exists(CSV_Staging):\n",
    "    os.mkdir(CSV_Staging)\n",
    "#Create a folder for the excel file created by the combined csv files\n",
    "if not os.path.exists(Excel_Data_Export_Location + \"\\\\\" + out_Circuits_Combined):\n",
    "    os.mkdir(Excel_Data_Export_Location + \"\\\\\" + out_Circuits_Combined)\n",
    "#create a folder where the excel file for the PI Error Report will be located\n",
    "if not os.path.exists(Excel_Data_Export_Location + \"\\\\\" + pi_error_report_dir):\n",
    "    os.mkdir(Excel_Data_Export_Location + \"\\\\\" + pi_error_report_dir)\n",
    "\n",
    "#add all csv files in CSV Staging to filenames variable\n",
    "filenames = glob.glob(Excel_Data_Export_Location + '/*.csv')\n",
    "\n",
    "print(BOLD + BLUE + \"Filenames:\" + NORMAL)\n",
    "for x in filenames:\n",
    "    print(x + \"\\n\")\n",
    "\n",
    "#create the list of data frame varaible names to be assigned a filename\n",
    "i = 0\n",
    "filenames_csv_path_df = []\n",
    "while i < len(filenames):\n",
    "    filenames_csv_path_df.append(\"df_\"+str(i))\n",
    "    i=i+1\n",
    "\n",
    "#print the data frame variables created with each associated filename\n",
    "print(BOLD + GREEN + \"Dataframe name and Filename\"+ NORMAL)\n",
    "i = 0\n",
    "while i < len(filenames):\n",
    "    print(filenames_csv_path_df[i] + \" = \" + filenames[i] )\n",
    "    print('\\n')\n",
    "    i=i+1\n",
    "\n",
    "#associate a filename with each data frame variable name created  \n",
    "i = 0\n",
    "while i < len(filenames):\n",
    "    filenames_csv_path_df[i] = pd.read_csv(filenames[i])\n",
    "    i=i+1\n",
    "\n",
    "#combine all csv files in filenames using the list variable all the data frame varibles were created in\n",
    "Circuits_df = pd.concat(filenames_csv_path_df, axis=0)\n",
    "#write the combined csv variable to an excel file\n",
    "Circuits_df.to_excel(circuits_xlsx_path,sheet_name=Sheet_Name, index=False)\n",
    "#read the excel file and assign it to a variable\n",
    "Circuits = pd.read_excel(circuits_xlsx_path)\n",
    "#view the first row of the excel file\n",
    "Circuits_df.head(1)"
   ]
  },
  {
   "cell_type": "markdown",
   "metadata": {},
   "source": [
    "# Attach Roster and filter to only have rows where the EVM_LAST_EDITOR is in the Roster table"
   ]
  },
  {
   "cell_type": "code",
   "execution_count": 3,
   "metadata": {},
   "outputs": [
    {
     "output_type": "execute_result",
     "data": {
      "text/plain": "   OID VEG_POINT_SOURCE                    AUTO_ID     CIRCUITNAME UNDERBUILD  \\\n0   -1               PI  VP_AU115-C01_1437595_2020     BANGOR 1101         No   \n1   -1               PI  VP_AU115-B04_1438146_2020     BANGOR 1101         No   \n2   -1               PI        VP_AW115-G23_007747  BRUNSWICK 1105         No   \n3   -1               PI        VP_AW115-G23_007901  BRUNSWICK 1105         No   \n4   -1               PI        VP_AW115-G23_007893  BRUNSWICK 1105         No   \n\n      UNIQUE_SEGMENT_ID           VP_STATUS WORK_VERIFICATION_STATUS  \\\n0  CIP_AU115-C01_333031  Tree Work Complete                     Fail   \n1  CIP_AU115-B04_333325             Refusal                      NaN   \n2  CIP_AW115-G23_386253                Hold                      NaN   \n3  CIP_AW115-G23_386253                Hold                      NaN   \n4  CIP_AW115-G23_386253             Refusal                      NaN   \n\n                    PI_COMPANY         SPECIES RWD_EXC DEAD_DYING  DIAMETER  \\\n0   MGE_Mountain G Enterprises        Live Oak      No         No      60.0   \n1         FCO_Forester’s Co-op  Ponderosa Pine      No         No      23.0   \n2  Need to Update Company Name     Douglas Fir      No         No       0.0   \n3  Need to Update Company Name   Bigleaf Maple      No         No       0.0   \n4  Need to Update Company Name  Ponderosa Pine      No         No       0.0   \n\n   HEIGHT TAT_RESULT  TREE_MATRIX_SCORE  IMPACT_MATRIX_SCORE       PRESCRIP  \\\n0    55.0        NaN                4.0                  3.0           Trim   \n1   100.0        NaN                3.0                  3.0  F2B_FP-Rmv2 B   \n2    64.0        NaN                NaN                  NaN     NW_No Work   \n3    64.0        NaN                NaN                  NaN     NW_No Work   \n4    90.0        NaN                NaN                  NaN         Remove   \n\n       WOOD_MAN TRAFFIC ENVIRONMENTAL_CONCERN  \\\n0  Haul offsite      No                   NaN   \n1    Not Needed      No                   NaN   \n2  Haul offsite     Yes                   NaN   \n3  Haul offsite      No                   NaN   \n4  Haul offsite     Yes                   NaN   \n\n                                         PI_COMMENTS     TW_COMPANY  TW_SUB  \\\n0  pole 7 to pole 8, .3 span, 35ft west of line, ...  MOW_Mowbray's     NaN   \n1  No PI done yet. Flagged most of the trees that...            NaN     NaN   \n2                                      PLEASE DELETE            NaN     NaN   \n3                                      PLEASE DELETE            NaN     NaN   \n4                                      PLEASE DELETE            NaN     NaN   \n\n   TW_FOREMAN_ISN TW_ACT_WORK       TW_WORK_DATE  \\\n0       5456777.0        Trim  5/1/2020 23:34:20   \n1             NaN         NaN                NaN   \n2             NaN         NaN                NaN   \n3             NaN         NaN                NaN   \n4             NaN         NaN                NaN   \n\n                                         TW_COMMENTS TW_BILLING_TYPE  \\\n0  Home owner requested to trim only and not take...            Unit   \n1                                                NaN            Unit   \n2                                                NaN            Unit   \n3                                                NaN            Unit   \n4                                                NaN            Unit   \n\n  TW_READY_TO_INVOICE TW_INVOICING_STATUS  WM_COMPANY  WM_SUB  WM_DATE  \\\n0                 NaN                 NaN         NaN     NaN      NaN   \n1                 NaN                 NaN         NaN     NaN      NaN   \n2                 NaN                 NaN         NaN     NaN      NaN   \n3                 NaN                 NaN         NaN     NaN      NaN   \n4                 NaN                 NaN         NaN     NaN      NaN   \n\n                 WM_COMMENTS EVM_LAST_EDITOR     EVM_LAST_EDITED  REGION  \\\n0  Remove all wood and slash     sfrizf_awrr  5/13/2020 16:34:21  Sierra   \n1                        NaN     jgaulf_awrr  5/11/2020 16:25:55  Sierra   \n2              PLEASE DELETE     amchuj_awrr  5/11/2020 17:32:03  Sierra   \n3              PLEASE DELETE     amchuj_awrr  5/11/2020 17:33:39  Sierra   \n4                        NaN     amchuj_awrr  5/11/2020 22:00:59  Sierra   \n\n    DIVISION   PARCEL_NAME           SITE_ADDRESS PROPERTY_CITY  \\\n0  SI_Sierra  1.012547e+09    13326 DIXON HILL RD       DOBBINS   \n1  SI_Sierra  1.012531e+09       13420 TEHAMA WAY  OREGON HOUSE   \n2  SI_Sierra  1.051699e+09  13176 SUMMIT RIDGE DR   NEVADA CITY   \n3  SI_Sierra  1.051699e+09  13176 SUMMIT RIDGE DR   NEVADA CITY   \n4  SI_Sierra  1.051699e+09  13176 SUMMIT RIDGE DR   NEVADA CITY   \n\n         Creator             Created              Editor              Edited  \\\n0    rcrenm_awrr  2/24/2020 20:39:22  BE_geomartawrrprod  5/13/2020 18:32:19   \n1    flewif_awrr  2/24/2020 21:36:11  BE_geomartawrrprod  5/11/2020 16:31:29   \n2  admin_evmprod  5/18/2019 23:35:29  BE_geomartawrrprod   5/12/2020 0:33:32   \n3  admin_evmprod  5/18/2019 23:35:29  BE_geomartawrrprod   5/12/2020 0:33:32   \n4  admin_evmprod  5/18/2019 23:39:04  BE_geomartawrrprod   5/12/2020 0:33:32   \n\n                                 GlobalID      UNIQUE_PARCEL_ID  \\\n0  {00000000-0000-0000-0000-000000000000}  LP_AU115-C01_1683899   \n1  {00000000-0000-0000-0000-000000000000}  LP_AU115-B03_1683579   \n2  {00000000-0000-0000-0000-000000000000}   LP_AW115-G23_821069   \n3  {00000000-0000-0000-0000-000000000000}   LP_AW115-G23_821069   \n4  {00000000-0000-0000-0000-000000000000}   LP_AW115-G23_821069   \n\n                            EVM_SYNC_ID Username_awrr      Last   First  \\\n0  a0baa85b-eb69-471d-8c68-495d576c5ce8   sfrizf_awrr  Frizzell   Sandy   \n1  a5b8fec3-fdc3-459e-89dc-ba43aad9f0f5   jgaulf_awrr   Gauldin    Josh   \n2  bfa9d23f-a2d5-4d6a-9724-95cb99f9795d   amchuj_awrr    McHugh  Audrey   \n3  190757f9-a4c2-4aaf-88d9-5c1137f0b531   amchuj_awrr    McHugh  Audrey   \n4  89efe875-ed89-4aac-b59f-ecab35d53f62   amchuj_awrr    McHugh  Audrey   \n\n        Full_Name   Co                  Company  \\\n0  Sandy Frizzell  FCO     FCO_Forester’s Co-op   \n1    Josh Gauldin  FCO     FCO_Forester’s Co-op   \n2   Audrey McHugh  JEF  JEF_Jefferson Resources   \n3   Audrey McHugh  JEF  JEF_Jefferson Resources   \n4   Audrey McHugh  JEF  JEF_Jefferson Resources   \n\n                           Email Include_awrr_in_PIER  \n0             SANDY@FORCO-OP.COM                  Yes  \n1              JOSH@FORCO-OP.COM                  Yes  \n2  AMCHUGH@JEFFERSONRESOURCE.COM                  Yes  \n3  AMCHUGH@JEFFERSONRESOURCE.COM                  Yes  \n4  AMCHUGH@JEFFERSONRESOURCE.COM                  Yes  ",
      "text/html": "<div>\n<style scoped>\n    .dataframe tbody tr th:only-of-type {\n        vertical-align: middle;\n    }\n\n    .dataframe tbody tr th {\n        vertical-align: top;\n    }\n\n    .dataframe thead th {\n        text-align: right;\n    }\n</style>\n<table border=\"1\" class=\"dataframe\">\n  <thead>\n    <tr style=\"text-align: right;\">\n      <th></th>\n      <th>OID</th>\n      <th>VEG_POINT_SOURCE</th>\n      <th>AUTO_ID</th>\n      <th>CIRCUITNAME</th>\n      <th>UNDERBUILD</th>\n      <th>UNIQUE_SEGMENT_ID</th>\n      <th>VP_STATUS</th>\n      <th>WORK_VERIFICATION_STATUS</th>\n      <th>PI_COMPANY</th>\n      <th>SPECIES</th>\n      <th>RWD_EXC</th>\n      <th>DEAD_DYING</th>\n      <th>DIAMETER</th>\n      <th>HEIGHT</th>\n      <th>TAT_RESULT</th>\n      <th>TREE_MATRIX_SCORE</th>\n      <th>IMPACT_MATRIX_SCORE</th>\n      <th>PRESCRIP</th>\n      <th>WOOD_MAN</th>\n      <th>TRAFFIC</th>\n      <th>ENVIRONMENTAL_CONCERN</th>\n      <th>PI_COMMENTS</th>\n      <th>TW_COMPANY</th>\n      <th>TW_SUB</th>\n      <th>TW_FOREMAN_ISN</th>\n      <th>TW_ACT_WORK</th>\n      <th>TW_WORK_DATE</th>\n      <th>TW_COMMENTS</th>\n      <th>TW_BILLING_TYPE</th>\n      <th>TW_READY_TO_INVOICE</th>\n      <th>TW_INVOICING_STATUS</th>\n      <th>WM_COMPANY</th>\n      <th>WM_SUB</th>\n      <th>WM_DATE</th>\n      <th>WM_COMMENTS</th>\n      <th>EVM_LAST_EDITOR</th>\n      <th>EVM_LAST_EDITED</th>\n      <th>REGION</th>\n      <th>DIVISION</th>\n      <th>PARCEL_NAME</th>\n      <th>SITE_ADDRESS</th>\n      <th>PROPERTY_CITY</th>\n      <th>Creator</th>\n      <th>Created</th>\n      <th>Editor</th>\n      <th>Edited</th>\n      <th>GlobalID</th>\n      <th>UNIQUE_PARCEL_ID</th>\n      <th>EVM_SYNC_ID</th>\n      <th>Username_awrr</th>\n      <th>Last</th>\n      <th>First</th>\n      <th>Full_Name</th>\n      <th>Co</th>\n      <th>Company</th>\n      <th>Email</th>\n      <th>Include_awrr_in_PIER</th>\n    </tr>\n  </thead>\n  <tbody>\n    <tr>\n      <th>0</th>\n      <td>-1</td>\n      <td>PI</td>\n      <td>VP_AU115-C01_1437595_2020</td>\n      <td>BANGOR 1101</td>\n      <td>No</td>\n      <td>CIP_AU115-C01_333031</td>\n      <td>Tree Work Complete</td>\n      <td>Fail</td>\n      <td>MGE_Mountain G Enterprises</td>\n      <td>Live Oak</td>\n      <td>No</td>\n      <td>No</td>\n      <td>60.0</td>\n      <td>55.0</td>\n      <td>NaN</td>\n      <td>4.0</td>\n      <td>3.0</td>\n      <td>Trim</td>\n      <td>Haul offsite</td>\n      <td>No</td>\n      <td>NaN</td>\n      <td>pole 7 to pole 8, .3 span, 35ft west of line, ...</td>\n      <td>MOW_Mowbray's</td>\n      <td>NaN</td>\n      <td>5456777.0</td>\n      <td>Trim</td>\n      <td>5/1/2020 23:34:20</td>\n      <td>Home owner requested to trim only and not take...</td>\n      <td>Unit</td>\n      <td>NaN</td>\n      <td>NaN</td>\n      <td>NaN</td>\n      <td>NaN</td>\n      <td>NaN</td>\n      <td>Remove all wood and slash</td>\n      <td>sfrizf_awrr</td>\n      <td>5/13/2020 16:34:21</td>\n      <td>Sierra</td>\n      <td>SI_Sierra</td>\n      <td>1.012547e+09</td>\n      <td>13326 DIXON HILL RD</td>\n      <td>DOBBINS</td>\n      <td>rcrenm_awrr</td>\n      <td>2/24/2020 20:39:22</td>\n      <td>BE_geomartawrrprod</td>\n      <td>5/13/2020 18:32:19</td>\n      <td>{00000000-0000-0000-0000-000000000000}</td>\n      <td>LP_AU115-C01_1683899</td>\n      <td>a0baa85b-eb69-471d-8c68-495d576c5ce8</td>\n      <td>sfrizf_awrr</td>\n      <td>Frizzell</td>\n      <td>Sandy</td>\n      <td>Sandy Frizzell</td>\n      <td>FCO</td>\n      <td>FCO_Forester’s Co-op</td>\n      <td>SANDY@FORCO-OP.COM</td>\n      <td>Yes</td>\n    </tr>\n    <tr>\n      <th>1</th>\n      <td>-1</td>\n      <td>PI</td>\n      <td>VP_AU115-B04_1438146_2020</td>\n      <td>BANGOR 1101</td>\n      <td>No</td>\n      <td>CIP_AU115-B04_333325</td>\n      <td>Refusal</td>\n      <td>NaN</td>\n      <td>FCO_Forester’s Co-op</td>\n      <td>Ponderosa Pine</td>\n      <td>No</td>\n      <td>No</td>\n      <td>23.0</td>\n      <td>100.0</td>\n      <td>NaN</td>\n      <td>3.0</td>\n      <td>3.0</td>\n      <td>F2B_FP-Rmv2 B</td>\n      <td>Not Needed</td>\n      <td>No</td>\n      <td>NaN</td>\n      <td>No PI done yet. Flagged most of the trees that...</td>\n      <td>NaN</td>\n      <td>NaN</td>\n      <td>NaN</td>\n      <td>NaN</td>\n      <td>NaN</td>\n      <td>NaN</td>\n      <td>Unit</td>\n      <td>NaN</td>\n      <td>NaN</td>\n      <td>NaN</td>\n      <td>NaN</td>\n      <td>NaN</td>\n      <td>NaN</td>\n      <td>jgaulf_awrr</td>\n      <td>5/11/2020 16:25:55</td>\n      <td>Sierra</td>\n      <td>SI_Sierra</td>\n      <td>1.012531e+09</td>\n      <td>13420 TEHAMA WAY</td>\n      <td>OREGON HOUSE</td>\n      <td>flewif_awrr</td>\n      <td>2/24/2020 21:36:11</td>\n      <td>BE_geomartawrrprod</td>\n      <td>5/11/2020 16:31:29</td>\n      <td>{00000000-0000-0000-0000-000000000000}</td>\n      <td>LP_AU115-B03_1683579</td>\n      <td>a5b8fec3-fdc3-459e-89dc-ba43aad9f0f5</td>\n      <td>jgaulf_awrr</td>\n      <td>Gauldin</td>\n      <td>Josh</td>\n      <td>Josh Gauldin</td>\n      <td>FCO</td>\n      <td>FCO_Forester’s Co-op</td>\n      <td>JOSH@FORCO-OP.COM</td>\n      <td>Yes</td>\n    </tr>\n    <tr>\n      <th>2</th>\n      <td>-1</td>\n      <td>PI</td>\n      <td>VP_AW115-G23_007747</td>\n      <td>BRUNSWICK 1105</td>\n      <td>No</td>\n      <td>CIP_AW115-G23_386253</td>\n      <td>Hold</td>\n      <td>NaN</td>\n      <td>Need to Update Company Name</td>\n      <td>Douglas Fir</td>\n      <td>No</td>\n      <td>No</td>\n      <td>0.0</td>\n      <td>64.0</td>\n      <td>NaN</td>\n      <td>NaN</td>\n      <td>NaN</td>\n      <td>NW_No Work</td>\n      <td>Haul offsite</td>\n      <td>Yes</td>\n      <td>NaN</td>\n      <td>PLEASE DELETE</td>\n      <td>NaN</td>\n      <td>NaN</td>\n      <td>NaN</td>\n      <td>NaN</td>\n      <td>NaN</td>\n      <td>NaN</td>\n      <td>Unit</td>\n      <td>NaN</td>\n      <td>NaN</td>\n      <td>NaN</td>\n      <td>NaN</td>\n      <td>NaN</td>\n      <td>PLEASE DELETE</td>\n      <td>amchuj_awrr</td>\n      <td>5/11/2020 17:32:03</td>\n      <td>Sierra</td>\n      <td>SI_Sierra</td>\n      <td>1.051699e+09</td>\n      <td>13176 SUMMIT RIDGE DR</td>\n      <td>NEVADA CITY</td>\n      <td>admin_evmprod</td>\n      <td>5/18/2019 23:35:29</td>\n      <td>BE_geomartawrrprod</td>\n      <td>5/12/2020 0:33:32</td>\n      <td>{00000000-0000-0000-0000-000000000000}</td>\n      <td>LP_AW115-G23_821069</td>\n      <td>bfa9d23f-a2d5-4d6a-9724-95cb99f9795d</td>\n      <td>amchuj_awrr</td>\n      <td>McHugh</td>\n      <td>Audrey</td>\n      <td>Audrey McHugh</td>\n      <td>JEF</td>\n      <td>JEF_Jefferson Resources</td>\n      <td>AMCHUGH@JEFFERSONRESOURCE.COM</td>\n      <td>Yes</td>\n    </tr>\n    <tr>\n      <th>3</th>\n      <td>-1</td>\n      <td>PI</td>\n      <td>VP_AW115-G23_007901</td>\n      <td>BRUNSWICK 1105</td>\n      <td>No</td>\n      <td>CIP_AW115-G23_386253</td>\n      <td>Hold</td>\n      <td>NaN</td>\n      <td>Need to Update Company Name</td>\n      <td>Bigleaf Maple</td>\n      <td>No</td>\n      <td>No</td>\n      <td>0.0</td>\n      <td>64.0</td>\n      <td>NaN</td>\n      <td>NaN</td>\n      <td>NaN</td>\n      <td>NW_No Work</td>\n      <td>Haul offsite</td>\n      <td>No</td>\n      <td>NaN</td>\n      <td>PLEASE DELETE</td>\n      <td>NaN</td>\n      <td>NaN</td>\n      <td>NaN</td>\n      <td>NaN</td>\n      <td>NaN</td>\n      <td>NaN</td>\n      <td>Unit</td>\n      <td>NaN</td>\n      <td>NaN</td>\n      <td>NaN</td>\n      <td>NaN</td>\n      <td>NaN</td>\n      <td>PLEASE DELETE</td>\n      <td>amchuj_awrr</td>\n      <td>5/11/2020 17:33:39</td>\n      <td>Sierra</td>\n      <td>SI_Sierra</td>\n      <td>1.051699e+09</td>\n      <td>13176 SUMMIT RIDGE DR</td>\n      <td>NEVADA CITY</td>\n      <td>admin_evmprod</td>\n      <td>5/18/2019 23:35:29</td>\n      <td>BE_geomartawrrprod</td>\n      <td>5/12/2020 0:33:32</td>\n      <td>{00000000-0000-0000-0000-000000000000}</td>\n      <td>LP_AW115-G23_821069</td>\n      <td>190757f9-a4c2-4aaf-88d9-5c1137f0b531</td>\n      <td>amchuj_awrr</td>\n      <td>McHugh</td>\n      <td>Audrey</td>\n      <td>Audrey McHugh</td>\n      <td>JEF</td>\n      <td>JEF_Jefferson Resources</td>\n      <td>AMCHUGH@JEFFERSONRESOURCE.COM</td>\n      <td>Yes</td>\n    </tr>\n    <tr>\n      <th>4</th>\n      <td>-1</td>\n      <td>PI</td>\n      <td>VP_AW115-G23_007893</td>\n      <td>BRUNSWICK 1105</td>\n      <td>No</td>\n      <td>CIP_AW115-G23_386253</td>\n      <td>Refusal</td>\n      <td>NaN</td>\n      <td>Need to Update Company Name</td>\n      <td>Ponderosa Pine</td>\n      <td>No</td>\n      <td>No</td>\n      <td>0.0</td>\n      <td>90.0</td>\n      <td>NaN</td>\n      <td>NaN</td>\n      <td>NaN</td>\n      <td>Remove</td>\n      <td>Haul offsite</td>\n      <td>Yes</td>\n      <td>NaN</td>\n      <td>PLEASE DELETE</td>\n      <td>NaN</td>\n      <td>NaN</td>\n      <td>NaN</td>\n      <td>NaN</td>\n      <td>NaN</td>\n      <td>NaN</td>\n      <td>Unit</td>\n      <td>NaN</td>\n      <td>NaN</td>\n      <td>NaN</td>\n      <td>NaN</td>\n      <td>NaN</td>\n      <td>NaN</td>\n      <td>amchuj_awrr</td>\n      <td>5/11/2020 22:00:59</td>\n      <td>Sierra</td>\n      <td>SI_Sierra</td>\n      <td>1.051699e+09</td>\n      <td>13176 SUMMIT RIDGE DR</td>\n      <td>NEVADA CITY</td>\n      <td>admin_evmprod</td>\n      <td>5/18/2019 23:39:04</td>\n      <td>BE_geomartawrrprod</td>\n      <td>5/12/2020 0:33:32</td>\n      <td>{00000000-0000-0000-0000-000000000000}</td>\n      <td>LP_AW115-G23_821069</td>\n      <td>89efe875-ed89-4aac-b59f-ecab35d53f62</td>\n      <td>amchuj_awrr</td>\n      <td>McHugh</td>\n      <td>Audrey</td>\n      <td>Audrey McHugh</td>\n      <td>JEF</td>\n      <td>JEF_Jefferson Resources</td>\n      <td>AMCHUGH@JEFFERSONRESOURCE.COM</td>\n      <td>Yes</td>\n    </tr>\n  </tbody>\n</table>\n</div>"
     },
     "metadata": {},
     "execution_count": 3
    }
   ],
   "source": [
    "Circuits = pd.read_excel(circuits_xlsx_path)\n",
    "Roster = pd.read_excel(roster_xlsx_path)\n",
    "cols_to_keep = ['Username_awrr', 'Last', 'First','Full_Name','Co','Company','Email','Include_awrr_in_PIER']\n",
    "Roster = Roster[ cols_to_keep]\n",
    "\n",
    "pi_error_report_temp = pd.merge(left=Circuits,right=Roster, left_on='EVM_LAST_EDITOR', right_on = 'Username_awrr', how='inner')\n",
    "PI_Error_Report = pi_error_report_temp.to_excel(pi_error_report_xlsx_path,sheet_name=Sheet_Name, index = False)\n",
    "PI_Error_Report = pd.read_excel(pi_error_report_xlsx_path)\n",
    "PI_Error_Report.head()"
   ]
  },
  {
   "cell_type": "markdown",
   "metadata": {},
   "source": [
    "# Create Helper Columns"
   ]
  },
  {
   "cell_type": "code",
   "execution_count": 4,
   "metadata": {},
   "outputs": [],
   "source": [
    "#Total Veg Points Created - equals 1 for all rows\n",
    "PI_Error_Report['Total_Veg_Points_Created'] = 1\n",
    "\n",
    "#Diameter R-Scale\n",
    "\n",
    "\n",
    "#Prescription R-Scale\n",
    "\n",
    "\n",
    "#Week(M-Su)\n",
    "\n",
    "\n",
    "#EVM_LAST_EDITED_PST\n",
    "\n",
    "\n",
    "#EVM_LAST_EDITED_DAY\n",
    "\n",
    "\n",
    "#Created_PST\n",
    "\n",
    "\n",
    "#Created_Day\n",
    "\n",
    "\n",
    "#New_or_Old_Veg\n",
    "\n",
    "\n",
    "#Comments_Contain_Delete"
   ]
  },
  {
   "cell_type": "code",
   "execution_count": 5,
   "metadata": {},
   "outputs": [
    {
     "output_type": "execute_result",
     "data": {
      "text/plain": "   OID VEG_POINT_SOURCE                    AUTO_ID     CIRCUITNAME UNDERBUILD  \\\n0   -1               PI  VP_AU115-C01_1437595_2020     BANGOR 1101         No   \n1   -1               PI  VP_AU115-B04_1438146_2020     BANGOR 1101         No   \n2   -1               PI        VP_AW115-G23_007747  BRUNSWICK 1105         No   \n3   -1               PI        VP_AW115-G23_007901  BRUNSWICK 1105         No   \n4   -1               PI        VP_AW115-G23_007893  BRUNSWICK 1105         No   \n\n      UNIQUE_SEGMENT_ID           VP_STATUS WORK_VERIFICATION_STATUS  \\\n0  CIP_AU115-C01_333031  Tree Work Complete                     Fail   \n1  CIP_AU115-B04_333325             Refusal                      NaN   \n2  CIP_AW115-G23_386253                Hold                      NaN   \n3  CIP_AW115-G23_386253                Hold                      NaN   \n4  CIP_AW115-G23_386253             Refusal                      NaN   \n\n                    PI_COMPANY         SPECIES RWD_EXC DEAD_DYING  DIAMETER  \\\n0   MGE_Mountain G Enterprises        Live Oak      No         No      60.0   \n1         FCO_Forester’s Co-op  Ponderosa Pine      No         No      23.0   \n2  Need to Update Company Name     Douglas Fir      No         No       0.0   \n3  Need to Update Company Name   Bigleaf Maple      No         No       0.0   \n4  Need to Update Company Name  Ponderosa Pine      No         No       0.0   \n\n   HEIGHT TAT_RESULT  TREE_MATRIX_SCORE  IMPACT_MATRIX_SCORE       PRESCRIP  \\\n0    55.0        NaN                4.0                  3.0           Trim   \n1   100.0        NaN                3.0                  3.0  F2B_FP-Rmv2 B   \n2    64.0        NaN                NaN                  NaN     NW_No Work   \n3    64.0        NaN                NaN                  NaN     NW_No Work   \n4    90.0        NaN                NaN                  NaN         Remove   \n\n       WOOD_MAN TRAFFIC ENVIRONMENTAL_CONCERN  \\\n0  Haul offsite      No                   NaN   \n1    Not Needed      No                   NaN   \n2  Haul offsite     Yes                   NaN   \n3  Haul offsite      No                   NaN   \n4  Haul offsite     Yes                   NaN   \n\n                                         PI_COMMENTS     TW_COMPANY  TW_SUB  \\\n0  pole 7 to pole 8, .3 span, 35ft west of line, ...  MOW_Mowbray's     NaN   \n1  No PI done yet. Flagged most of the trees that...            NaN     NaN   \n2                                      PLEASE DELETE            NaN     NaN   \n3                                      PLEASE DELETE            NaN     NaN   \n4                                      PLEASE DELETE            NaN     NaN   \n\n   TW_FOREMAN_ISN TW_ACT_WORK       TW_WORK_DATE  \\\n0       5456777.0        Trim  5/1/2020 23:34:20   \n1             NaN         NaN                NaN   \n2             NaN         NaN                NaN   \n3             NaN         NaN                NaN   \n4             NaN         NaN                NaN   \n\n                                         TW_COMMENTS TW_BILLING_TYPE  \\\n0  Home owner requested to trim only and not take...            Unit   \n1                                                NaN            Unit   \n2                                                NaN            Unit   \n3                                                NaN            Unit   \n4                                                NaN            Unit   \n\n  TW_READY_TO_INVOICE TW_INVOICING_STATUS  WM_COMPANY  WM_SUB  WM_DATE  \\\n0                 NaN                 NaN         NaN     NaN      NaN   \n1                 NaN                 NaN         NaN     NaN      NaN   \n2                 NaN                 NaN         NaN     NaN      NaN   \n3                 NaN                 NaN         NaN     NaN      NaN   \n4                 NaN                 NaN         NaN     NaN      NaN   \n\n                 WM_COMMENTS EVM_LAST_EDITOR     EVM_LAST_EDITED  REGION  \\\n0  Remove all wood and slash     sfrizf_awrr  5/13/2020 16:34:21  Sierra   \n1                        NaN     jgaulf_awrr  5/11/2020 16:25:55  Sierra   \n2              PLEASE DELETE     amchuj_awrr  5/11/2020 17:32:03  Sierra   \n3              PLEASE DELETE     amchuj_awrr  5/11/2020 17:33:39  Sierra   \n4                        NaN     amchuj_awrr  5/11/2020 22:00:59  Sierra   \n\n    DIVISION   PARCEL_NAME           SITE_ADDRESS PROPERTY_CITY  \\\n0  SI_Sierra  1.012547e+09    13326 DIXON HILL RD       DOBBINS   \n1  SI_Sierra  1.012531e+09       13420 TEHAMA WAY  OREGON HOUSE   \n2  SI_Sierra  1.051699e+09  13176 SUMMIT RIDGE DR   NEVADA CITY   \n3  SI_Sierra  1.051699e+09  13176 SUMMIT RIDGE DR   NEVADA CITY   \n4  SI_Sierra  1.051699e+09  13176 SUMMIT RIDGE DR   NEVADA CITY   \n\n         Creator             Created              Editor              Edited  \\\n0    rcrenm_awrr  2/24/2020 20:39:22  BE_geomartawrrprod  5/13/2020 18:32:19   \n1    flewif_awrr  2/24/2020 21:36:11  BE_geomartawrrprod  5/11/2020 16:31:29   \n2  admin_evmprod  5/18/2019 23:35:29  BE_geomartawrrprod   5/12/2020 0:33:32   \n3  admin_evmprod  5/18/2019 23:35:29  BE_geomartawrrprod   5/12/2020 0:33:32   \n4  admin_evmprod  5/18/2019 23:39:04  BE_geomartawrrprod   5/12/2020 0:33:32   \n\n                                 GlobalID      UNIQUE_PARCEL_ID  \\\n0  {00000000-0000-0000-0000-000000000000}  LP_AU115-C01_1683899   \n1  {00000000-0000-0000-0000-000000000000}  LP_AU115-B03_1683579   \n2  {00000000-0000-0000-0000-000000000000}   LP_AW115-G23_821069   \n3  {00000000-0000-0000-0000-000000000000}   LP_AW115-G23_821069   \n4  {00000000-0000-0000-0000-000000000000}   LP_AW115-G23_821069   \n\n                            EVM_SYNC_ID Username_awrr      Last   First  \\\n0  a0baa85b-eb69-471d-8c68-495d576c5ce8   sfrizf_awrr  Frizzell   Sandy   \n1  a5b8fec3-fdc3-459e-89dc-ba43aad9f0f5   jgaulf_awrr   Gauldin    Josh   \n2  bfa9d23f-a2d5-4d6a-9724-95cb99f9795d   amchuj_awrr    McHugh  Audrey   \n3  190757f9-a4c2-4aaf-88d9-5c1137f0b531   amchuj_awrr    McHugh  Audrey   \n4  89efe875-ed89-4aac-b59f-ecab35d53f62   amchuj_awrr    McHugh  Audrey   \n\n        Full_Name   Co                  Company  \\\n0  Sandy Frizzell  FCO     FCO_Forester’s Co-op   \n1    Josh Gauldin  FCO     FCO_Forester’s Co-op   \n2   Audrey McHugh  JEF  JEF_Jefferson Resources   \n3   Audrey McHugh  JEF  JEF_Jefferson Resources   \n4   Audrey McHugh  JEF  JEF_Jefferson Resources   \n\n                           Email Include_awrr_in_PIER  \\\n0             SANDY@FORCO-OP.COM                  Yes   \n1              JOSH@FORCO-OP.COM                  Yes   \n2  AMCHUGH@JEFFERSONRESOURCE.COM                  Yes   \n3  AMCHUGH@JEFFERSONRESOURCE.COM                  Yes   \n4  AMCHUGH@JEFFERSONRESOURCE.COM                  Yes   \n\n   Total_Veg_Points_Created  \n0                         1  \n1                         1  \n2                         1  \n3                         1  \n4                         1  ",
      "text/html": "<div>\n<style scoped>\n    .dataframe tbody tr th:only-of-type {\n        vertical-align: middle;\n    }\n\n    .dataframe tbody tr th {\n        vertical-align: top;\n    }\n\n    .dataframe thead th {\n        text-align: right;\n    }\n</style>\n<table border=\"1\" class=\"dataframe\">\n  <thead>\n    <tr style=\"text-align: right;\">\n      <th></th>\n      <th>OID</th>\n      <th>VEG_POINT_SOURCE</th>\n      <th>AUTO_ID</th>\n      <th>CIRCUITNAME</th>\n      <th>UNDERBUILD</th>\n      <th>UNIQUE_SEGMENT_ID</th>\n      <th>VP_STATUS</th>\n      <th>WORK_VERIFICATION_STATUS</th>\n      <th>PI_COMPANY</th>\n      <th>SPECIES</th>\n      <th>RWD_EXC</th>\n      <th>DEAD_DYING</th>\n      <th>DIAMETER</th>\n      <th>HEIGHT</th>\n      <th>TAT_RESULT</th>\n      <th>TREE_MATRIX_SCORE</th>\n      <th>IMPACT_MATRIX_SCORE</th>\n      <th>PRESCRIP</th>\n      <th>WOOD_MAN</th>\n      <th>TRAFFIC</th>\n      <th>ENVIRONMENTAL_CONCERN</th>\n      <th>PI_COMMENTS</th>\n      <th>TW_COMPANY</th>\n      <th>TW_SUB</th>\n      <th>TW_FOREMAN_ISN</th>\n      <th>TW_ACT_WORK</th>\n      <th>TW_WORK_DATE</th>\n      <th>TW_COMMENTS</th>\n      <th>TW_BILLING_TYPE</th>\n      <th>TW_READY_TO_INVOICE</th>\n      <th>TW_INVOICING_STATUS</th>\n      <th>WM_COMPANY</th>\n      <th>WM_SUB</th>\n      <th>WM_DATE</th>\n      <th>WM_COMMENTS</th>\n      <th>EVM_LAST_EDITOR</th>\n      <th>EVM_LAST_EDITED</th>\n      <th>REGION</th>\n      <th>DIVISION</th>\n      <th>PARCEL_NAME</th>\n      <th>SITE_ADDRESS</th>\n      <th>PROPERTY_CITY</th>\n      <th>Creator</th>\n      <th>Created</th>\n      <th>Editor</th>\n      <th>Edited</th>\n      <th>GlobalID</th>\n      <th>UNIQUE_PARCEL_ID</th>\n      <th>EVM_SYNC_ID</th>\n      <th>Username_awrr</th>\n      <th>Last</th>\n      <th>First</th>\n      <th>Full_Name</th>\n      <th>Co</th>\n      <th>Company</th>\n      <th>Email</th>\n      <th>Include_awrr_in_PIER</th>\n      <th>Total_Veg_Points_Created</th>\n    </tr>\n  </thead>\n  <tbody>\n    <tr>\n      <th>0</th>\n      <td>-1</td>\n      <td>PI</td>\n      <td>VP_AU115-C01_1437595_2020</td>\n      <td>BANGOR 1101</td>\n      <td>No</td>\n      <td>CIP_AU115-C01_333031</td>\n      <td>Tree Work Complete</td>\n      <td>Fail</td>\n      <td>MGE_Mountain G Enterprises</td>\n      <td>Live Oak</td>\n      <td>No</td>\n      <td>No</td>\n      <td>60.0</td>\n      <td>55.0</td>\n      <td>NaN</td>\n      <td>4.0</td>\n      <td>3.0</td>\n      <td>Trim</td>\n      <td>Haul offsite</td>\n      <td>No</td>\n      <td>NaN</td>\n      <td>pole 7 to pole 8, .3 span, 35ft west of line, ...</td>\n      <td>MOW_Mowbray's</td>\n      <td>NaN</td>\n      <td>5456777.0</td>\n      <td>Trim</td>\n      <td>5/1/2020 23:34:20</td>\n      <td>Home owner requested to trim only and not take...</td>\n      <td>Unit</td>\n      <td>NaN</td>\n      <td>NaN</td>\n      <td>NaN</td>\n      <td>NaN</td>\n      <td>NaN</td>\n      <td>Remove all wood and slash</td>\n      <td>sfrizf_awrr</td>\n      <td>5/13/2020 16:34:21</td>\n      <td>Sierra</td>\n      <td>SI_Sierra</td>\n      <td>1.012547e+09</td>\n      <td>13326 DIXON HILL RD</td>\n      <td>DOBBINS</td>\n      <td>rcrenm_awrr</td>\n      <td>2/24/2020 20:39:22</td>\n      <td>BE_geomartawrrprod</td>\n      <td>5/13/2020 18:32:19</td>\n      <td>{00000000-0000-0000-0000-000000000000}</td>\n      <td>LP_AU115-C01_1683899</td>\n      <td>a0baa85b-eb69-471d-8c68-495d576c5ce8</td>\n      <td>sfrizf_awrr</td>\n      <td>Frizzell</td>\n      <td>Sandy</td>\n      <td>Sandy Frizzell</td>\n      <td>FCO</td>\n      <td>FCO_Forester’s Co-op</td>\n      <td>SANDY@FORCO-OP.COM</td>\n      <td>Yes</td>\n      <td>1</td>\n    </tr>\n    <tr>\n      <th>1</th>\n      <td>-1</td>\n      <td>PI</td>\n      <td>VP_AU115-B04_1438146_2020</td>\n      <td>BANGOR 1101</td>\n      <td>No</td>\n      <td>CIP_AU115-B04_333325</td>\n      <td>Refusal</td>\n      <td>NaN</td>\n      <td>FCO_Forester’s Co-op</td>\n      <td>Ponderosa Pine</td>\n      <td>No</td>\n      <td>No</td>\n      <td>23.0</td>\n      <td>100.0</td>\n      <td>NaN</td>\n      <td>3.0</td>\n      <td>3.0</td>\n      <td>F2B_FP-Rmv2 B</td>\n      <td>Not Needed</td>\n      <td>No</td>\n      <td>NaN</td>\n      <td>No PI done yet. Flagged most of the trees that...</td>\n      <td>NaN</td>\n      <td>NaN</td>\n      <td>NaN</td>\n      <td>NaN</td>\n      <td>NaN</td>\n      <td>NaN</td>\n      <td>Unit</td>\n      <td>NaN</td>\n      <td>NaN</td>\n      <td>NaN</td>\n      <td>NaN</td>\n      <td>NaN</td>\n      <td>NaN</td>\n      <td>jgaulf_awrr</td>\n      <td>5/11/2020 16:25:55</td>\n      <td>Sierra</td>\n      <td>SI_Sierra</td>\n      <td>1.012531e+09</td>\n      <td>13420 TEHAMA WAY</td>\n      <td>OREGON HOUSE</td>\n      <td>flewif_awrr</td>\n      <td>2/24/2020 21:36:11</td>\n      <td>BE_geomartawrrprod</td>\n      <td>5/11/2020 16:31:29</td>\n      <td>{00000000-0000-0000-0000-000000000000}</td>\n      <td>LP_AU115-B03_1683579</td>\n      <td>a5b8fec3-fdc3-459e-89dc-ba43aad9f0f5</td>\n      <td>jgaulf_awrr</td>\n      <td>Gauldin</td>\n      <td>Josh</td>\n      <td>Josh Gauldin</td>\n      <td>FCO</td>\n      <td>FCO_Forester’s Co-op</td>\n      <td>JOSH@FORCO-OP.COM</td>\n      <td>Yes</td>\n      <td>1</td>\n    </tr>\n    <tr>\n      <th>2</th>\n      <td>-1</td>\n      <td>PI</td>\n      <td>VP_AW115-G23_007747</td>\n      <td>BRUNSWICK 1105</td>\n      <td>No</td>\n      <td>CIP_AW115-G23_386253</td>\n      <td>Hold</td>\n      <td>NaN</td>\n      <td>Need to Update Company Name</td>\n      <td>Douglas Fir</td>\n      <td>No</td>\n      <td>No</td>\n      <td>0.0</td>\n      <td>64.0</td>\n      <td>NaN</td>\n      <td>NaN</td>\n      <td>NaN</td>\n      <td>NW_No Work</td>\n      <td>Haul offsite</td>\n      <td>Yes</td>\n      <td>NaN</td>\n      <td>PLEASE DELETE</td>\n      <td>NaN</td>\n      <td>NaN</td>\n      <td>NaN</td>\n      <td>NaN</td>\n      <td>NaN</td>\n      <td>NaN</td>\n      <td>Unit</td>\n      <td>NaN</td>\n      <td>NaN</td>\n      <td>NaN</td>\n      <td>NaN</td>\n      <td>NaN</td>\n      <td>PLEASE DELETE</td>\n      <td>amchuj_awrr</td>\n      <td>5/11/2020 17:32:03</td>\n      <td>Sierra</td>\n      <td>SI_Sierra</td>\n      <td>1.051699e+09</td>\n      <td>13176 SUMMIT RIDGE DR</td>\n      <td>NEVADA CITY</td>\n      <td>admin_evmprod</td>\n      <td>5/18/2019 23:35:29</td>\n      <td>BE_geomartawrrprod</td>\n      <td>5/12/2020 0:33:32</td>\n      <td>{00000000-0000-0000-0000-000000000000}</td>\n      <td>LP_AW115-G23_821069</td>\n      <td>bfa9d23f-a2d5-4d6a-9724-95cb99f9795d</td>\n      <td>amchuj_awrr</td>\n      <td>McHugh</td>\n      <td>Audrey</td>\n      <td>Audrey McHugh</td>\n      <td>JEF</td>\n      <td>JEF_Jefferson Resources</td>\n      <td>AMCHUGH@JEFFERSONRESOURCE.COM</td>\n      <td>Yes</td>\n      <td>1</td>\n    </tr>\n    <tr>\n      <th>3</th>\n      <td>-1</td>\n      <td>PI</td>\n      <td>VP_AW115-G23_007901</td>\n      <td>BRUNSWICK 1105</td>\n      <td>No</td>\n      <td>CIP_AW115-G23_386253</td>\n      <td>Hold</td>\n      <td>NaN</td>\n      <td>Need to Update Company Name</td>\n      <td>Bigleaf Maple</td>\n      <td>No</td>\n      <td>No</td>\n      <td>0.0</td>\n      <td>64.0</td>\n      <td>NaN</td>\n      <td>NaN</td>\n      <td>NaN</td>\n      <td>NW_No Work</td>\n      <td>Haul offsite</td>\n      <td>No</td>\n      <td>NaN</td>\n      <td>PLEASE DELETE</td>\n      <td>NaN</td>\n      <td>NaN</td>\n      <td>NaN</td>\n      <td>NaN</td>\n      <td>NaN</td>\n      <td>NaN</td>\n      <td>Unit</td>\n      <td>NaN</td>\n      <td>NaN</td>\n      <td>NaN</td>\n      <td>NaN</td>\n      <td>NaN</td>\n      <td>PLEASE DELETE</td>\n      <td>amchuj_awrr</td>\n      <td>5/11/2020 17:33:39</td>\n      <td>Sierra</td>\n      <td>SI_Sierra</td>\n      <td>1.051699e+09</td>\n      <td>13176 SUMMIT RIDGE DR</td>\n      <td>NEVADA CITY</td>\n      <td>admin_evmprod</td>\n      <td>5/18/2019 23:35:29</td>\n      <td>BE_geomartawrrprod</td>\n      <td>5/12/2020 0:33:32</td>\n      <td>{00000000-0000-0000-0000-000000000000}</td>\n      <td>LP_AW115-G23_821069</td>\n      <td>190757f9-a4c2-4aaf-88d9-5c1137f0b531</td>\n      <td>amchuj_awrr</td>\n      <td>McHugh</td>\n      <td>Audrey</td>\n      <td>Audrey McHugh</td>\n      <td>JEF</td>\n      <td>JEF_Jefferson Resources</td>\n      <td>AMCHUGH@JEFFERSONRESOURCE.COM</td>\n      <td>Yes</td>\n      <td>1</td>\n    </tr>\n    <tr>\n      <th>4</th>\n      <td>-1</td>\n      <td>PI</td>\n      <td>VP_AW115-G23_007893</td>\n      <td>BRUNSWICK 1105</td>\n      <td>No</td>\n      <td>CIP_AW115-G23_386253</td>\n      <td>Refusal</td>\n      <td>NaN</td>\n      <td>Need to Update Company Name</td>\n      <td>Ponderosa Pine</td>\n      <td>No</td>\n      <td>No</td>\n      <td>0.0</td>\n      <td>90.0</td>\n      <td>NaN</td>\n      <td>NaN</td>\n      <td>NaN</td>\n      <td>Remove</td>\n      <td>Haul offsite</td>\n      <td>Yes</td>\n      <td>NaN</td>\n      <td>PLEASE DELETE</td>\n      <td>NaN</td>\n      <td>NaN</td>\n      <td>NaN</td>\n      <td>NaN</td>\n      <td>NaN</td>\n      <td>NaN</td>\n      <td>Unit</td>\n      <td>NaN</td>\n      <td>NaN</td>\n      <td>NaN</td>\n      <td>NaN</td>\n      <td>NaN</td>\n      <td>NaN</td>\n      <td>amchuj_awrr</td>\n      <td>5/11/2020 22:00:59</td>\n      <td>Sierra</td>\n      <td>SI_Sierra</td>\n      <td>1.051699e+09</td>\n      <td>13176 SUMMIT RIDGE DR</td>\n      <td>NEVADA CITY</td>\n      <td>admin_evmprod</td>\n      <td>5/18/2019 23:39:04</td>\n      <td>BE_geomartawrrprod</td>\n      <td>5/12/2020 0:33:32</td>\n      <td>{00000000-0000-0000-0000-000000000000}</td>\n      <td>LP_AW115-G23_821069</td>\n      <td>89efe875-ed89-4aac-b59f-ecab35d53f62</td>\n      <td>amchuj_awrr</td>\n      <td>McHugh</td>\n      <td>Audrey</td>\n      <td>Audrey McHugh</td>\n      <td>JEF</td>\n      <td>JEF_Jefferson Resources</td>\n      <td>AMCHUGH@JEFFERSONRESOURCE.COM</td>\n      <td>Yes</td>\n      <td>1</td>\n    </tr>\n  </tbody>\n</table>\n</div>"
     },
     "metadata": {},
     "execution_count": 5
    }
   ],
   "source": [
    "PI_Error_Report.head()"
   ]
  },
  {
   "cell_type": "markdown",
   "metadata": {},
   "source": [
    "# Previous Prescription Column"
   ]
  },
  {
   "cell_type": "code",
   "execution_count": null,
   "metadata": {},
   "outputs": [],
   "source": [
    "#Previous Prescription\n",
    "\n",
    "\n",
    "#Prescription_Changed\n",
    "\n",
    "\n"
   ]
  },
  {
   "cell_type": "markdown",
   "metadata": {},
   "source": [
    "# Create errors"
   ]
  },
  {
   "cell_type": "code",
   "execution_count": null,
   "metadata": {},
   "outputs": [],
   "source": [
    "#Prescription and Status do not match\n",
    "\n",
    "#Missing_Species\n",
    "PI_Error_Report.loc[(PI_Error_Report['SPECIES'].notnull()), 'Missing_Species'] = 0\n",
    "PI_Error_Report.loc[(PI_Error_Report['SPECIES'].isnull()), 'Missing_Species'] = 1\n",
    "\n",
    "#Missing_Diameter\n",
    "PI_Error_Report.loc[(PI_Error_Report['DIAMETER'].notnull()), 'Missing_Diameter'] = 0\n",
    "PI_Error_Report.loc[(PI_Error_Report['DIAMETER'].isnull()), 'Missing_Diameter'] = 1\n",
    "\n",
    "#Missing Height\n",
    "PI_Error_Report.loc[(PI_Error_Report['HEIGHT'].notnull()), 'Missing_Height'] = 0\n",
    "PI_Error_Report.loc[(PI_Error_Report['HEIGHT'].isnull()), 'Missing_Height'] = 1\n",
    "\n",
    "#Missing TAT Result\n",
    "PI_Error_Report.loc[(PI_Error_Report['TAT_RESULT'].notnull()), 'Missing_TAT_Result'] = 0\n",
    "PI_Error_Report.loc[(PI_Error_Report['TAT_RESULT'].isnull()), 'Missing_TAT_Result'] = 1\n",
    "\n",
    "#TAT Result and Prescription fo not match\n",
    "\n",
    "\n",
    "#Prescription and Diameter R-Scales do not match\n",
    "\n",
    "\n",
    "#Brush Prescription should have WM Work Type be Not Needed\n",
    "\n",
    "\n",
    "#Prescription Edited and TAT is Blank\n",
    "\n",
    "\n",
    "\n",
    "#TEST COLUMN -  DELETE\n",
    "PI_Error_Report.loc[(PI_Error_Report['WORK_VERIFICATION_STATUS'].notnull()), 'Missing_WV_Status'] = 0\n",
    "PI_Error_Report.loc[(PI_Error_Report['WORK_VERIFICATION_STATUS'].isnull()), 'Missing_WV_Status'] = 1"
   ]
  },
  {
   "cell_type": "code",
   "execution_count": null,
   "metadata": {},
   "outputs": [],
   "source": [
    "#Sum of Errors\n",
    "\n",
    "\n",
    "#Veg Point Has Errors\n",
    "\n",
    "\n",
    "#Include_Veg_Point_In_PIER"
   ]
  },
  {
   "cell_type": "markdown",
   "metadata": {},
   "source": [
    "# Move columns and write back to excel file"
   ]
  },
  {
   "cell_type": "code",
   "execution_count": null,
   "metadata": {},
   "outputs": [],
   "source": [
    "cols_to_move = ['Missing_Species', 'Missing_Diameter', 'Missing_Height','Missing_TAT_Result','Missing_WV_Status']\n",
    "PI_Error_Report = PI_Error_Report[ cols_to_move + [ col for col in PI_Error_Report.columns if col not in cols_to_move ]]\n",
    "PI_Error_Report.to_excel(pi_error_report_xlsx_path,sheet_name=Sheet_Name, index = False)\n",
    "PI_Error_Report = pd.read_excel(pi_error_report_xlsx_path)\n",
    "PI_Error_Report.head()"
   ]
  },
  {
   "cell_type": "markdown",
   "metadata": {},
   "source": [
    "# Calculate run duration and write to log"
   ]
  },
  {
   "cell_type": "code",
   "execution_count": null,
   "metadata": {},
   "outputs": [],
   "source": [
    "end_time = datetime.now().time()\n",
    "\n",
    "t1 = timedelta(hours=start_time.hour, minutes=start_time.minute, seconds=start_time.second, microseconds=start_time.microsecond)\n",
    "t2 = timedelta(hours=end_time.hour, minutes=end_time.minute, seconds=end_time.second, microseconds=end_time.microsecond)\n",
    "\n",
    "time_elapsed = t2 - t1\n",
    "\n",
    "hour = str(time_elapsed).split(\":\")[0]\n",
    "mins = str(time_elapsed).split(\":\")[1]\n",
    "sec = str(time_elapsed).split(\":\")[2].split(\".\")[0]\n",
    "ms = str(time_elapsed).split(\":\")[2].split(\".\")[1]\n",
    "hhmmss = str(time_elapsed).split(\":\")[0] +\":\"+ str(time_elapsed).split(\":\")[1] + \":\" + str(time_elapsed).split(\":\")[2].split(\".\")[0]\n",
    "hhmmssms = str(time_elapsed).split(\":\")[0] +\":\"+ str(time_elapsed).split(\":\")[1] + \":\" + str(time_elapsed).split(\":\")[2].split(\".\")[0]+\".\"+str(time_elapsed).split(\":\")[2].split(\".\")[1]\n",
    "\n",
    "time_log = home_dir + \"\\\\\" + \"Logs\" + \"\\\\\" + \"Time_Logs.csv\"\n",
    "df = pd.DataFrame({'Date_Ran' : [date_time_format],'Time_Elapsed' : [time_elapsed],'HH:MM:SS' : [hhmmss],'HH:MM:SS.MS' : [hhmmssms],'Hours' : [hour],'Min' : [mins],'Sec' : [sec],'Ms' : [ms]})\n",
    "if not os.path.exists(time_log):\n",
    "    df.to_csv(time_log, mode='a',index=False)\n",
    "else:\n",
    "    df.to_csv(time_log, mode='a',index=False,header=False)\n",
    "    \n",
    "df = pd.read_csv(time_log)\n",
    "print(BOLD + BLUE + \"Start Time: \" + NORMAL + str(t1))\n",
    "print(BOLD + BLUE + \"End Time: \" + NORMAL + str(t2))\n",
    "print(BOLD + BLUE + \"Time Elapsed: \" + NORMAL + str(time_elapsed))\n",
    "df.tail(1)"
   ]
  },
  {
   "cell_type": "code",
   "execution_count": null,
   "metadata": {},
   "outputs": [],
   "source": []
  }
 ],
 "metadata": {
  "kernelspec": {
   "display_name": "Python 3.7.6 64-bit",
   "language": "python",
   "name": "python37664bitec1028d54bbb42a5b11b1a4b50886740"
  },
  "language_info": {
   "codemirror_mode": {
    "name": "ipython",
    "version": 3
   },
   "file_extension": ".py",
   "mimetype": "text/x-python",
   "name": "python",
   "nbconvert_exporter": "python",
   "pygments_lexer": "ipython3",
   "version": "3.7.6-final"
  }
 },
 "nbformat": 4,
 "nbformat_minor": 2
}