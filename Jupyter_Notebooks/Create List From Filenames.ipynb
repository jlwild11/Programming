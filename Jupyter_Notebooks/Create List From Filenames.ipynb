{
 "cells": [
  {
   "cell_type": "code",
   "execution_count": 8,
   "metadata": {},
   "outputs": [],
   "source": [
    "import os\n",
    "import pandas as pd"
   ]
  },
  {
   "cell_type": "code",
   "execution_count": 23,
   "metadata": {},
   "outputs": [],
   "source": [
    "\n",
    "FolderPath = r\"\\\\172.16.126.126\\GIS\\Projects\\PG&E\\EA_Inspection_Work_Form\\Exports\\Work_Orders\\ALVAH_Pole_Replacement\\ALVAH_Pole_Replacement_Work_Orders_20201104\\PDF_No_Maps\"\n"
   ]
  },
  {
   "cell_type": "code",
   "execution_count": 24,
   "metadata": {},
   "outputs": [],
   "source": [
    "ExportFilename = r\"C:\\Users\\jaw\\OneDrive - Mountain G. Enterprises, Inc\\Desktop\\Filenames.xlsx\""
   ]
  },
  {
   "cell_type": "code",
   "execution_count": 25,
   "metadata": {},
   "outputs": [],
   "source": [
    "\n",
    "SheetName = \"WorkOrder\""
   ]
  },
  {
   "cell_type": "code",
   "execution_count": 26,
   "metadata": {},
   "outputs": [],
   "source": [
    "fileList = []\n",
    "for root, dirs, files in os.walk(FolderPath11):\n",
    "    for filename in files:\n",
    "        fileList.append(filename)"
   ]
  },
  {
   "cell_type": "code",
   "execution_count": 27,
   "metadata": {
    "tags": []
   },
   "outputs": [
    {
     "output_type": "stream",
     "name": "stdout",
     "text": [
      "['ALVAH_Pole_Replacement_Work_Order_116827852.pdf', 'ALVAH_Pole_Replacement_Work_Order_117036859.pdf', 'ALVAH_Pole_Replacement_Work_Order_117039514.pdf', 'ALVAH_Pole_Replacement_Work_Order_117076132.pdf', 'ALVAH_Pole_Replacement_Work_Order_117093363.pdf', 'ALVAH_Pole_Replacement_Work_Order_117153192.pdf', 'ALVAH_Pole_Replacement_Work_Order_117153544.pdf', 'ALVAH_Pole_Replacement_Work_Order_117164394.pdf', 'ALVAH_Pole_Replacement_Work_Order_117188605.pdf', 'ALVAH_Pole_Replacement_Work_Order_117206954.pdf', 'ALVAH_Pole_Replacement_Work_Order_117210964.pdf', 'ALVAH_Pole_Replacement_Work_Order_117213527.pdf', 'ALVAH_Pole_Replacement_Work_Order_117243615.pdf', 'ALVAH_Pole_Replacement_Work_Order_117243665.pdf', 'ALVAH_Pole_Replacement_Work_Order_117245939.pdf', 'ALVAH_Pole_Replacement_Work_Order_117250178.pdf', 'ALVAH_Pole_Replacement_Work_Order_117254058.pdf', 'ALVAH_Pole_Replacement_Work_Order_117270915.pdf', 'ALVAH_Pole_Replacement_Work_Order_117279946.pdf', 'ALVAH_Pole_Replacement_Work_Order_117307506.pdf', 'ALVAH_Pole_Replacement_Work_Order_117308513.pdf', 'ALVAH_Pole_Replacement_Work_Order_117364508.pdf', 'ALVAH_Pole_Replacement_Work_Order_117416679.pdf', 'ALVAH_Pole_Replacement_Work_Order_117481979.pdf', 'ALVAH_Pole_Replacement_Work_Order_118149624.pdf']\n"
     ]
    }
   ],
   "source": [
    "print(fileList)"
   ]
  },
  {
   "cell_type": "code",
   "execution_count": 28,
   "metadata": {},
   "outputs": [
    {
     "output_type": "execute_result",
     "data": {
      "text/plain": [
       "                                         Filenames\n",
       "0  ALVAH_Pole_Replacement_Work_Order_116827852.pdf\n",
       "1  ALVAH_Pole_Replacement_Work_Order_117036859.pdf\n",
       "2  ALVAH_Pole_Replacement_Work_Order_117039514.pdf\n",
       "3  ALVAH_Pole_Replacement_Work_Order_117076132.pdf\n",
       "4  ALVAH_Pole_Replacement_Work_Order_117093363.pdf"
      ],
      "text/html": "<div>\n<style scoped>\n    .dataframe tbody tr th:only-of-type {\n        vertical-align: middle;\n    }\n\n    .dataframe tbody tr th {\n        vertical-align: top;\n    }\n\n    .dataframe thead th {\n        text-align: right;\n    }\n</style>\n<table border=\"1\" class=\"dataframe\">\n  <thead>\n    <tr style=\"text-align: right;\">\n      <th></th>\n      <th>Filenames</th>\n    </tr>\n  </thead>\n  <tbody>\n    <tr>\n      <th>0</th>\n      <td>ALVAH_Pole_Replacement_Work_Order_116827852.pdf</td>\n    </tr>\n    <tr>\n      <th>1</th>\n      <td>ALVAH_Pole_Replacement_Work_Order_117036859.pdf</td>\n    </tr>\n    <tr>\n      <th>2</th>\n      <td>ALVAH_Pole_Replacement_Work_Order_117039514.pdf</td>\n    </tr>\n    <tr>\n      <th>3</th>\n      <td>ALVAH_Pole_Replacement_Work_Order_117076132.pdf</td>\n    </tr>\n    <tr>\n      <th>4</th>\n      <td>ALVAH_Pole_Replacement_Work_Order_117093363.pdf</td>\n    </tr>\n  </tbody>\n</table>\n</div>"
     },
     "metadata": {},
     "execution_count": 28
    }
   ],
   "source": [
    "df = pd.DataFrame(fileList, columns=[\"Filenames\"])\n",
    "df.head()"
   ]
  },
  {
   "cell_type": "code",
   "execution_count": 21,
   "metadata": {},
   "outputs": [
    {
     "output_type": "error",
     "ename": "ValueError",
     "evalue": "Columns must be same length as key",
     "traceback": [
      "\u001b[1;31m---------------------------------------------------------------------------\u001b[0m",
      "\u001b[1;31mValueError\u001b[0m                                Traceback (most recent call last)",
      "\u001b[1;32m<ipython-input-21-73253d91482b>\u001b[0m in \u001b[0;36m<module>\u001b[1;34m\u001b[0m\n\u001b[0;32m      1\u001b[0m \u001b[1;31m#df[['ATTnum','Compartment','Three_Digit_Num','Plot_Numjpg','PhotoNumjpg']] = df.Filenames.str.split(\"_\",expand=True)\u001b[0m\u001b[1;33m\u001b[0m\u001b[1;33m\u001b[0m\u001b[1;33m\u001b[0m\u001b[0m\n\u001b[1;32m----> 2\u001b[1;33m \u001b[0mdf\u001b[0m\u001b[1;33m[\u001b[0m\u001b[1;33m[\u001b[0m\u001b[1;34m'ATTnum'\u001b[0m\u001b[1;33m,\u001b[0m\u001b[1;34m'Compartment'\u001b[0m\u001b[1;33m,\u001b[0m\u001b[1;34m'Three_Digit_Num'\u001b[0m\u001b[1;33m,\u001b[0m\u001b[1;34m'Plot_Numjpg'\u001b[0m\u001b[1;33m]\u001b[0m\u001b[1;33m]\u001b[0m \u001b[1;33m=\u001b[0m \u001b[0mdf\u001b[0m\u001b[1;33m.\u001b[0m\u001b[0mFilenames\u001b[0m\u001b[1;33m.\u001b[0m\u001b[0mstr\u001b[0m\u001b[1;33m.\u001b[0m\u001b[0msplit\u001b[0m\u001b[1;33m(\u001b[0m\u001b[1;34m\"_\"\u001b[0m\u001b[1;33m,\u001b[0m\u001b[0mexpand\u001b[0m\u001b[1;33m=\u001b[0m\u001b[1;32mTrue\u001b[0m\u001b[1;33m)\u001b[0m\u001b[1;33m\u001b[0m\u001b[1;33m\u001b[0m\u001b[0m\n\u001b[0m",
      "\u001b[1;32m~\\AppData\\Local\\ESRI\\conda\\envs\\arcgispro-py3-clone\\lib\\site-packages\\pandas\\core\\frame.py\u001b[0m in \u001b[0;36m__setitem__\u001b[1;34m(self, key, value)\u001b[0m\n\u001b[0;32m   3035\u001b[0m             \u001b[0mself\u001b[0m\u001b[1;33m.\u001b[0m\u001b[0m_setitem_frame\u001b[0m\u001b[1;33m(\u001b[0m\u001b[0mkey\u001b[0m\u001b[1;33m,\u001b[0m \u001b[0mvalue\u001b[0m\u001b[1;33m)\u001b[0m\u001b[1;33m\u001b[0m\u001b[1;33m\u001b[0m\u001b[0m\n\u001b[0;32m   3036\u001b[0m         \u001b[1;32melif\u001b[0m \u001b[0misinstance\u001b[0m\u001b[1;33m(\u001b[0m\u001b[0mkey\u001b[0m\u001b[1;33m,\u001b[0m \u001b[1;33m(\u001b[0m\u001b[0mSeries\u001b[0m\u001b[1;33m,\u001b[0m \u001b[0mnp\u001b[0m\u001b[1;33m.\u001b[0m\u001b[0mndarray\u001b[0m\u001b[1;33m,\u001b[0m \u001b[0mlist\u001b[0m\u001b[1;33m,\u001b[0m \u001b[0mIndex\u001b[0m\u001b[1;33m)\u001b[0m\u001b[1;33m)\u001b[0m\u001b[1;33m:\u001b[0m\u001b[1;33m\u001b[0m\u001b[1;33m\u001b[0m\u001b[0m\n\u001b[1;32m-> 3037\u001b[1;33m             \u001b[0mself\u001b[0m\u001b[1;33m.\u001b[0m\u001b[0m_setitem_array\u001b[0m\u001b[1;33m(\u001b[0m\u001b[0mkey\u001b[0m\u001b[1;33m,\u001b[0m \u001b[0mvalue\u001b[0m\u001b[1;33m)\u001b[0m\u001b[1;33m\u001b[0m\u001b[1;33m\u001b[0m\u001b[0m\n\u001b[0m\u001b[0;32m   3038\u001b[0m         \u001b[1;32melse\u001b[0m\u001b[1;33m:\u001b[0m\u001b[1;33m\u001b[0m\u001b[1;33m\u001b[0m\u001b[0m\n\u001b[0;32m   3039\u001b[0m             \u001b[1;31m# set column\u001b[0m\u001b[1;33m\u001b[0m\u001b[1;33m\u001b[0m\u001b[1;33m\u001b[0m\u001b[0m\n",
      "\u001b[1;32m~\\AppData\\Local\\ESRI\\conda\\envs\\arcgispro-py3-clone\\lib\\site-packages\\pandas\\core\\frame.py\u001b[0m in \u001b[0;36m_setitem_array\u001b[1;34m(self, key, value)\u001b[0m\n\u001b[0;32m   3061\u001b[0m             \u001b[1;32mif\u001b[0m \u001b[0misinstance\u001b[0m\u001b[1;33m(\u001b[0m\u001b[0mvalue\u001b[0m\u001b[1;33m,\u001b[0m \u001b[0mDataFrame\u001b[0m\u001b[1;33m)\u001b[0m\u001b[1;33m:\u001b[0m\u001b[1;33m\u001b[0m\u001b[1;33m\u001b[0m\u001b[0m\n\u001b[0;32m   3062\u001b[0m                 \u001b[1;32mif\u001b[0m \u001b[0mlen\u001b[0m\u001b[1;33m(\u001b[0m\u001b[0mvalue\u001b[0m\u001b[1;33m.\u001b[0m\u001b[0mcolumns\u001b[0m\u001b[1;33m)\u001b[0m \u001b[1;33m!=\u001b[0m \u001b[0mlen\u001b[0m\u001b[1;33m(\u001b[0m\u001b[0mkey\u001b[0m\u001b[1;33m)\u001b[0m\u001b[1;33m:\u001b[0m\u001b[1;33m\u001b[0m\u001b[1;33m\u001b[0m\u001b[0m\n\u001b[1;32m-> 3063\u001b[1;33m                     \u001b[1;32mraise\u001b[0m \u001b[0mValueError\u001b[0m\u001b[1;33m(\u001b[0m\u001b[1;34m\"Columns must be same length as key\"\u001b[0m\u001b[1;33m)\u001b[0m\u001b[1;33m\u001b[0m\u001b[1;33m\u001b[0m\u001b[0m\n\u001b[0m\u001b[0;32m   3064\u001b[0m                 \u001b[1;32mfor\u001b[0m \u001b[0mk1\u001b[0m\u001b[1;33m,\u001b[0m \u001b[0mk2\u001b[0m \u001b[1;32min\u001b[0m \u001b[0mzip\u001b[0m\u001b[1;33m(\u001b[0m\u001b[0mkey\u001b[0m\u001b[1;33m,\u001b[0m \u001b[0mvalue\u001b[0m\u001b[1;33m.\u001b[0m\u001b[0mcolumns\u001b[0m\u001b[1;33m)\u001b[0m\u001b[1;33m:\u001b[0m\u001b[1;33m\u001b[0m\u001b[1;33m\u001b[0m\u001b[0m\n\u001b[0;32m   3065\u001b[0m                     \u001b[0mself\u001b[0m\u001b[1;33m[\u001b[0m\u001b[0mk1\u001b[0m\u001b[1;33m]\u001b[0m \u001b[1;33m=\u001b[0m \u001b[0mvalue\u001b[0m\u001b[1;33m[\u001b[0m\u001b[0mk2\u001b[0m\u001b[1;33m]\u001b[0m\u001b[1;33m\u001b[0m\u001b[1;33m\u001b[0m\u001b[0m\n",
      "\u001b[1;31mValueError\u001b[0m: Columns must be same length as key"
     ]
    }
   ],
   "source": [
    "#df[['ATTnum','Compartment','Three_Digit_Num','Plot_Numjpg','PhotoNumjpg']] = df.Filenames.str.split(\"_\",expand=True)\n",
    "df[['ATTnum','Compartment','Three_Digit_Num','Plot_Numjpg']] = df.Filenames.str.split(\"_\",expand=True)"
   ]
  },
  {
   "cell_type": "code",
   "execution_count": null,
   "metadata": {},
   "outputs": [],
   "source": [
    "pd.set_option('display.max_rows', 9999)\n",
    "df.head(9999)"
   ]
  },
  {
   "cell_type": "code",
   "execution_count": null,
   "metadata": {},
   "outputs": [],
   "source": [
    "df[['Plot_Num','Type']] = df.Plot_Numjpg.str.split(\".\",expand=True)"
   ]
  },
  {
   "cell_type": "code",
   "execution_count": null,
   "metadata": {},
   "outputs": [],
   "source": [
    "df.head(9999)"
   ]
  },
  {
   "cell_type": "code",
   "execution_count": null,
   "metadata": {},
   "outputs": [],
   "source": [
    "#df[['Photo_Num','Type']] = df.PhotoNumjpg.str.split(\".\",expand=True)\n",
    "df['Photo_Num'] = \"\""
   ]
  },
  {
   "cell_type": "code",
   "execution_count": null,
   "metadata": {},
   "outputs": [],
   "source": [
    "df.head(9999)"
   ]
  },
  {
   "cell_type": "code",
   "execution_count": null,
   "metadata": {},
   "outputs": [],
   "source": [
    "df = df[['Filenames','ATTnum','Compartment','Three_Digit_Num','Plot_Num','Photo_Num']]"
   ]
  },
  {
   "cell_type": "code",
   "execution_count": null,
   "metadata": {},
   "outputs": [],
   "source": [
    "df.sort_values(by=['Compartment', 'Plot_Num','Three_Digit_Num','Photo_Num','ATTnum'])\n",
    "df = df[['Filenames','Compartment', 'Plot_Num','Three_Digit_Num','Photo_Num','ATTnum']]\n",
    "df.head(9999)"
   ]
  },
  {
   "cell_type": "code",
   "execution_count": null,
   "metadata": {},
   "outputs": [],
   "source": [
    "df.to_excel(ExportFilename,sheet_name=Sheetname, index=False)"
   ]
  },
  {
   "cell_type": "code",
   "execution_count": 30,
   "metadata": {},
   "outputs": [],
   "source": [
    "with pd.ExcelWriter(ExportFilename) as writer:  \n",
    "    df.to_excel(writer, sheet_name='20200814')"
   ]
  },
  {
   "cell_type": "code",
   "execution_count": null,
   "metadata": {},
   "outputs": [],
   "source": []
  }
 ],
 "metadata": {
  "kernelspec": {
   "display_name": "Python 3",
   "language": "python",
   "name": "python3"
  },
  "language_info": {
   "codemirror_mode": {
    "name": "ipython",
    "version": 3
   },
   "file_extension": ".py",
   "mimetype": "text/x-python",
   "name": "python",
   "nbconvert_exporter": "python",
   "pygments_lexer": "ipython3",
   "version": "3.6.12-final"
  }
 },
 "nbformat": 4,
 "nbformat_minor": 2
}