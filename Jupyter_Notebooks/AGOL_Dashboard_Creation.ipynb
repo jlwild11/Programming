{
 "cells": [
  {
   "cell_type": "code",
   "execution_count": 1,
   "metadata": {},
   "outputs": [],
   "source": [
    "import arcpy\n",
    "from arcgis import GIS\n",
    "from arcgis.apps import dashboard\n",
    "import keyring"
   ]
  },
  {
   "cell_type": "code",
   "execution_count": 2,
   "metadata": {},
   "outputs": [],
   "source": [
    "#Login to AGOL\n",
    "###store password with:\n",
    "#keyring.set_password(\"AGOL\", \"mge_gis\", \"type password here\")"
   ]
  },
  {
   "cell_type": "code",
   "execution_count": 3,
   "metadata": {},
   "outputs": [],
   "source": [
    "username1 = \"mge_gis\"\n",
    "password1 = keyring.get_password(\"AGOL\", \"mge_gis\")\n",
    "\n",
    "\n",
    "gis = GIS(url=\"https://arcgis.com\", username=username1, password=password1, key_file=None, cert_file=None, verify_cert=True, set_active=True)"
   ]
  },
  {
   "cell_type": "code",
   "execution_count": 4,
   "metadata": {},
   "outputs": [],
   "source": [
    "dash_title = \"A Test Dashboard\"\n",
    "dash_description = \"A Test Dashboard Description\"\n",
    "dash_summary = \"A Test Dashboard Summary\"\n",
    "dash_tags = \"a, test, dasboard, tag\"\n",
    "overwrite = True"
   ]
  },
  {
   "cell_type": "code",
   "execution_count": 5,
   "metadata": {},
   "outputs": [],
   "source": [
    "dash_new = dashboard.Dashboard()\n"
   ]
  },
  {
   "cell_type": "code",
   "execution_count": 6,
   "metadata": {},
   "outputs": [],
   "source": [
    "dash = dash_new.save(dash_title, dash_description, dash_summary, dash_tags, gis, overwrite)"
   ]
  },
  {
   "cell_type": "code",
   "execution_count": 12,
   "metadata": {},
   "outputs": [],
   "source": []
  },
  {
   "cell_type": "code",
   "execution_count": null,
   "metadata": {},
   "outputs": [],
   "source": []
  }
 ],
 "metadata": {
  "kernelspec": {
   "name": "python3",
   "display_name": "Python 3.6.12 64-bit (conda)",
   "metadata": {
    "interpreter": {
     "hash": "c62f96ebada6188df750a9b987b1dd9de0dd006595939d4d6101a4041e92e339"
    }
   }
  },
  "language_info": {
   "codemirror_mode": {
    "name": "ipython",
    "version": 3
   },
   "file_extension": ".py",
   "mimetype": "text/x-python",
   "name": "python",
   "nbconvert_exporter": "python",
   "pygments_lexer": "ipython3",
   "version": "3.6.12-final"
  }
 },
 "nbformat": 4,
 "nbformat_minor": 4
}