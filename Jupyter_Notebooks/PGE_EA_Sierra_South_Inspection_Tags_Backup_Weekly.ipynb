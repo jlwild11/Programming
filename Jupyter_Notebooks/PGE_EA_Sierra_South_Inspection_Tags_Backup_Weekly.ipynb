{
 "cells": [
  {
   "cell_type": "code",
   "execution_count": null,
   "metadata": {},
   "outputs": [],
   "source": [
    "import arcpy\n",
    "import datetime\n",
    "from datetime import date\n",
    "import os\n",
    "import pandas as pd"
   ]
  },
  {
   "cell_type": "code",
   "execution_count": null,
   "metadata": {},
   "outputs": [],
   "source": [
    "today_day = date.today()\n",
    "date = today_day.strftime(\"%Y%m%d\")\n",
    "today_time = datetime.datetime.now()\n",
    "date_time = today_time.strftime(\"%Y%m%d_%H%M\")\n",
    "backup_day = today_day.strftime(\"%A\")"
   ]
  },
  {
   "cell_type": "code",
   "execution_count": null,
   "metadata": {},
   "outputs": [],
   "source": [
    "# Set the preserveGlobalIds environment to True\n",
    "arcpy.env.preserveGlobalIds = True\n",
    "\n",
    "# Set the transferGDBAttributeProperties environment to True\n",
    "#Transferring domains, subtypes, attribute rules, field groups, and contingent values to the output of the geoprocessing operation will take additional time \n",
    "arcpy.env.transferGDBAttributeProperties = True\n",
    "\n",
    "# Set the maintainAttachments environment to False (no attachment copy)\n",
    "arcpy.env.maintainAttachments = True"
   ]
  },
  {
   "cell_type": "code",
   "execution_count": null,
   "metadata": {},
   "outputs": [],
   "source": [
    "# Set local variables for gdb and feature class names\n",
    "out_folder_path = r\"\\\\172.16.126.126\\GIS\\Projects\\PG&E\\Sierra_South\\Inspection_Tags\\AGOL_Backup\\Weekly_Backups\" + \"\\\\\" + backup_day\n",
    "backup_name = \"PGE_EA_Sierra_South_Inspection_Tags_Backup_\" + backup_day\n",
    "out_gdb = backup_name + \".gdb\"\n",
    "\n",
    "#Set variables to create a log\n",
    "log_folder = out_folder_path + \"\\\\\" + \"Log\"\n",
    "log_file = log_folder + \"\\\\\" + backup_name + \"_Log.csv\""
   ]
  },
  {
   "cell_type": "code",
   "execution_count": null,
   "metadata": {},
   "outputs": [],
   "source": [
    "#Create folder directory if it doesn't exist\n",
    "if not os.path.exists(out_folder_path):\n",
    "    os.makedirs(out_folder_path)\n",
    "       \n",
    "# Delete current and Create Empty File GDB\n",
    "if os.path.exists(out_folder_path + \"\\\\\" + out_gdb):\n",
    "    arcpy.management.Delete(out_folder_path + \"\\\\\" + out_gdb, '')\n",
    "arcpy.CreateFileGDB_management(out_folder_path, out_gdb)\n",
    "\n",
    "#Create log folder directory if it doesn't exist\n",
    "if not os.path.exists(log_folder):\n",
    "    os.makedirs(log_folder)\n",
    "\n",
    "# Set the workspace environment to local file geodatabase\n",
    "arcpy.env.workspace = out_folder_path + \"\\\\\" + out_gdb\n",
    "gdb = arcpy.env.workspace"
   ]
  },
  {
   "cell_type": "code",
   "execution_count": null,
   "metadata": {},
   "outputs": [],
   "source": [
    "################################\n",
    "################################\n",
    "#Add your code below\n",
    "################################"
   ]
  },
  {
   "cell_type": "code",
   "execution_count": null,
   "metadata": {},
   "outputs": [],
   "source": [
    "#location of feature layer in AGOL: https://mgeinc.maps.arcgis.com/home/item.html?id=da839ed2bbe84c6c89adfaeddcf4d127&sublayer=1\n",
    "in_features = \"https://services7.arcgis.com/K7kPjayR3FQAPcBi/arcgis/rest/services/service_9f329cc902804bffa054a7be8fc50621/FeatureServer/1\"\n",
    "\n",
    "out_name = backup_name + \"_\" + date_time\n",
    "\n",
    "arcpy.conversion.FeatureClassToFeatureClass(in_features, gdb, out_name)"
   ]
  },
  {
   "cell_type": "code",
   "execution_count": null,
   "metadata": {},
   "outputs": [],
   "source": [
    "###Create log file and write to it\n",
    "log = {'Date_Last_Ran':[date_time],'Date_Last_Ran2':[today_time]}\n",
    "\n",
    "df = pd.DataFrame(log, columns= ['Date_Last_Ran','Date_Last_Ran2'])\n",
    "\n",
    "if os.path.exists(log_file):\n",
    "    df.to_csv (log_file, index = False, mode='a', header=False)\n",
    "else:\n",
    "    df.to_csv (log_file, index = False, mode='a', header=True)"
   ]
  },
  {
   "cell_type": "code",
   "execution_count": null,
   "metadata": {},
   "outputs": [],
   "source": []
  }
 ],
 "metadata": {
  "kernelspec": {
   "display_name": "Python 3",
   "language": "python",
   "name": "python3"
  },
  "language_info": {
   "codemirror_mode": {
    "name": "ipython",
    "version": 3
   },
   "file_extension": ".py",
   "mimetype": "text/x-python",
   "name": "python",
   "nbconvert_exporter": "python",
   "pygments_lexer": "ipython3",
   "version": "3.6.10"
  }
 },
 "nbformat": 4,
 "nbformat_minor": 2
}
