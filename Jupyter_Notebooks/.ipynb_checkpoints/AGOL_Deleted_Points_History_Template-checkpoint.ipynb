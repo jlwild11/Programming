{
 "cells": [
  {
   "cell_type": "code",
   "execution_count": null,
   "metadata": {},
   "outputs": [],
   "source": [
    "import sys, os\n",
    "import arcpy\n",
    "import datetime\n",
    "from datetime import date\n",
    "import os\n",
    "import pandas as pd\n",
    "import numpy as np\n",
    "from arcgis.features import GeoAccessor, GeoSeriesAccessor\n",
    "from arcgis import GIS\n",
    "import keyring"
   ]
  },
  {
   "cell_type": "code",
   "execution_count": null,
   "metadata": {},
   "outputs": [],
   "source": [
    "today_day = date.today()\n",
    "date = today_day.strftime(\"%Y%m%d\")\n",
    "today_time = datetime.datetime.now()\n",
    "date_time = today_time.strftime(\"%Y%m%d_%H%M\")\n",
    "backup_day = today_day.strftime(\"%A\")"
   ]
  },
  {
   "cell_type": "code",
   "execution_count": null,
   "metadata": {},
   "outputs": [],
   "source": [
    "#Login to AGOL\n",
    "###store password with:\n",
    "###keyring.set_password(\"AGOL\", \"mge_gis\", \"type password here\")\n",
    "\n",
    "username = \"mge_gis\"\n",
    "password = keyring.get_password(\"AGOL\", \"mge_gis\")\n",
    "\n",
    "gis = GIS(\"https://arcgis.com\", username, password)"
   ]
  },
  {
   "cell_type": "code",
   "execution_count": null,
   "metadata": {},
   "outputs": [],
   "source": [
    "# Set the workspace environment to local file geodatabase\n",
    "# Set local variables\n",
    "out_folder_path = r\"\\\\172.16.126.126\\GIS\\Projects\\PG&E\\Sierra_North\\System_Hardening\\AGOL_Backup\\Deleted_Points_History\"\n",
    "out_gdb = \"PGE_EA_Sierra_North_System_Hardening_Deleted_Points_History.gdb\"\n",
    "delete_history = \"PGE_EA_Sierra_North_System_Hardening_Deleted_Points_History\"\n",
    "\n",
    "edit_history = r\"\\\\172.16.126.126\\GIS\\Projects\\PG&E\\Sierra_North\\System_Hardening\\AGOL_Backup\\Edit_History_Attachments_Included\\PGE_EA_Sierra_North_System_Hardening_Edit_History.gdb\\PGE_EA_Sierra_North_System_Hardening_Edit_History\"\n",
    "\n",
    "#Set variables to create a log\n",
    "log_folder = out_folder_path + \"\\\\\" + \"Log\"\n",
    "log_file = log_folder + \"\\\\\" + delete_history + \"_Log.csv\"\n",
    "\n",
    "#Set the feature service to create edit history from\n",
    "AGOL_feature_service = \"https://services7.arcgis.com/K7kPjayR3FQAPcBi/arcgis/rest/services/service_d758cf958e854eb5be47df3fcacc77fd/FeatureServer/1\"\n",
    "AGOL_feature_service_id = \"da839ed2bbe84c6c89adfaeddcf4d127\"\n",
    "layer_num = 1\n",
    "\n",
    "##add the below to the Append field map and use '+edit_history+' for the layer name in the field map\n",
    "#;AGOL_GlobalID \"AGOL_GlobalID\" true true false 255 Text 0 0,First,#,'+AGOL_GlobalID+',globalid,-1,-1"
   ]
  },
  {
   "cell_type": "code",
   "execution_count": null,
   "metadata": {},
   "outputs": [],
   "source": [
    "#Use the below to set the environment before running a geoprocess\n",
    "#with arcpy.EnvManager(transferDomains=\"TRANSFER_DOMAINS\", preserveGlobalIds=True, maintainAttachments = True):\n"
   ]
  },
  {
   "cell_type": "code",
   "execution_count": null,
   "metadata": {},
   "outputs": [],
   "source": [
    "#Create folder directory if it doesn't exist\n",
    "if not os.path.exists(out_folder_path):\n",
    "    os.makedirs(out_folder_path)"
   ]
  },
  {
   "cell_type": "code",
   "execution_count": null,
   "metadata": {},
   "outputs": [],
   "source": [
    "# Execute CreateFileGDB\n",
    "if not os.path.exists(out_folder_path + \"\\\\\" + out_gdb):\n",
    "    arcpy.CreateFileGDB_management(out_folder_path, out_gdb)"
   ]
  },
  {
   "cell_type": "code",
   "execution_count": null,
   "metadata": {},
   "outputs": [],
   "source": [
    "arcpy.env.workspace = out_folder_path + \"\\\\\" + out_gdb\n",
    "gdb = arcpy.env.workspace"
   ]
  },
  {
   "cell_type": "code",
   "execution_count": null,
   "metadata": {},
   "outputs": [],
   "source": [
    "#Create log folder directory if it doesn't exist\n",
    "if not os.path.exists(log_folder):\n",
    "    os.makedirs(log_folder)"
   ]
  },
  {
   "cell_type": "code",
   "execution_count": null,
   "metadata": {},
   "outputs": [],
   "source": [
    "################################\n",
    "################################\n",
    "#Add your code below\n",
    "################################"
   ]
  },
  {
   "cell_type": "code",
   "execution_count": null,
   "metadata": {},
   "outputs": [],
   "source": [
    "#create delete history feature class if it doesn't exist\n",
    "if not arcpy.Exists(out_folder_path+\"\\\\\"+ out_gdb +\"\\\\\" + delete_history):\n",
    "    arcpy.management.CreateFeatureclass(gdb, delete_history, \"POINT\", AGOL_feature_service, \"DISABLED\", \"DISABLED\", \"PROJCS['WGS_1984_Web_Mercator_Auxiliary_Sphere',GEOGCS['GCS_WGS_1984',DATUM['D_WGS_1984',SPHEROID['WGS_1984',6378137.0,298.257223563]],PRIMEM['Greenwich',0.0],UNIT['Degree',0.0174532925199433]],PROJECTION['Mercator_Auxiliary_Sphere'],PARAMETER['False_Easting',0.0],PARAMETER['False_Northing',0.0],PARAMETER['Central_Meridian',0.0],PARAMETER['Standard_Parallel_1',0.0],PARAMETER['Auxiliary_Sphere_Type',0.0],UNIT['Meter',1.0]];-20037700 -30241100 10000;-100000 10000;-100000 10000;0.001;0.001;0.001;IsHighPrecision\", '', 0, 0, 0, '')\n",
    "    arcpy.management.AddField(delete_history, \"AGOL_GlobalID\", \"TEXT\", None, None, None, \"AGOL_GlobalID\", \"NULLABLE\", \"NON_REQUIRED\", '')"
   ]
  },
  {
   "cell_type": "code",
   "execution_count": null,
   "metadata": {},
   "outputs": [],
   "source": [
    "pd.set_option('display.max_columns', None)"
   ]
  },
  {
   "cell_type": "code",
   "execution_count": null,
   "metadata": {},
   "outputs": [],
   "source": [
    "#Create a spatial data frame of the edit history\n",
    "eh_sdf = pd.DataFrame.spatial.from_featureclass(edit_history)"
   ]
  },
  {
   "cell_type": "code",
   "execution_count": null,
   "metadata": {},
   "outputs": [],
   "source": [
    "#eh_sdf.head()"
   ]
  },
  {
   "cell_type": "code",
   "execution_count": null,
   "metadata": {},
   "outputs": [],
   "source": [
    "#Create a spatial data frame of the delete history\n",
    "dh_sdf = pd.DataFrame.spatial.from_featureclass(delete_history)"
   ]
  },
  {
   "cell_type": "code",
   "execution_count": null,
   "metadata": {},
   "outputs": [],
   "source": [
    "#dh_sdf.head()"
   ]
  },
  {
   "cell_type": "code",
   "execution_count": null,
   "metadata": {},
   "outputs": [],
   "source": [
    "#Create a spatial data frame from AGOL layer\n",
    "item = gis.content.get(AGOL_feature_service_id)\n",
    "flayer = item.layers[layer_num]\n",
    "agol_sdf = pd.DataFrame.spatial.from_layer(flayer)\n",
    "#ea_sdf.head()"
   ]
  },
  {
   "cell_type": "code",
   "execution_count": null,
   "metadata": {
    "scrolled": false
   },
   "outputs": [],
   "source": [
    "#ea_sdf.head()"
   ]
  },
  {
   "cell_type": "code",
   "execution_count": null,
   "metadata": {},
   "outputs": [],
   "source": [
    "#Remove brackets from GlobalID field in edit history\n",
    "eh_sdf[\"AGOL_GlobalID\"] = eh_sdf[\"AGOL_GlobalID\"].str.replace(\"{\",\"\",case = False)\n",
    "eh_sdf[\"AGOL_GlobalID\"] = eh_sdf[\"AGOL_GlobalID\"].str.replace(\"}\",\"\",case = False)"
   ]
  },
  {
   "cell_type": "code",
   "execution_count": null,
   "metadata": {},
   "outputs": [],
   "source": [
    "#=eh_sdf.head()"
   ]
  },
  {
   "cell_type": "code",
   "execution_count": null,
   "metadata": {},
   "outputs": [],
   "source": [
    "#Create field to display if a row has been deleted from the AGOL layer by comparing it to the edit history.\n",
    "eh_sdf['Deleted_GlobalID'] = ~eh_sdf['AGOL_GlobalID'].isin(agol_sdf['globalid'])\n",
    "eh_sdf['Deleted_Added'] = eh_sdf['AGOL_GlobalID'].isin(dh_sdf['AGOL_GlobalID'])"
   ]
  },
  {
   "cell_type": "code",
   "execution_count": null,
   "metadata": {
    "scrolled": true
   },
   "outputs": [],
   "source": [
    "#eh_sdf.head()"
   ]
  },
  {
   "cell_type": "code",
   "execution_count": null,
   "metadata": {},
   "outputs": [],
   "source": [
    "#Create a filter with only deleted edits\n",
    "eh_sdf_deleted_edits_filter = eh_sdf['Deleted_GlobalID'].isin([True])"
   ]
  },
  {
   "cell_type": "code",
   "execution_count": null,
   "metadata": {},
   "outputs": [],
   "source": [
    "#Create a dataframe with only deleted edits\n",
    "eh_sdf_deleted_edits = eh_sdf[eh_sdf_deleted_edits_filter]"
   ]
  },
  {
   "cell_type": "code",
   "execution_count": null,
   "metadata": {},
   "outputs": [],
   "source": [
    "#eh_sdf_deleted_edits.head()"
   ]
  },
  {
   "cell_type": "code",
   "execution_count": null,
   "metadata": {},
   "outputs": [],
   "source": [
    "#Create a filter with only deleted edits that have not been added to the delete layer\n",
    "eh_sdf_deleted_edits_not_added_filter = eh_sdf_deleted_edits['Deleted_Added'].isin([False])"
   ]
  },
  {
   "cell_type": "code",
   "execution_count": null,
   "metadata": {},
   "outputs": [],
   "source": [
    "#Create a dataframe with only deleted edits that have not been added\n",
    "eh_sdf_deleted_edits_not_added = eh_sdf_deleted_edits[eh_sdf_deleted_edits_not_added_filter]"
   ]
  },
  {
   "cell_type": "code",
   "execution_count": null,
   "metadata": {
    "scrolled": true
   },
   "outputs": [],
   "source": [
    "#eh_sdf_deleted_edits_not_added.sort_values(by=['AGOL_GlobalID']).head(999999)"
   ]
  },
  {
   "cell_type": "code",
   "execution_count": null,
   "metadata": {},
   "outputs": [],
   "source": [
    "eh_sdf_deleted_edits_not_added['AGOL_GlobalID'] = \"{\"+eh_sdf_deleted_edits_not_added['AGOL_GlobalID']+\"}\""
   ]
  },
  {
   "cell_type": "code",
   "execution_count": null,
   "metadata": {},
   "outputs": [],
   "source": [
    "#Create a list of GlobalIDs from the new edits data frame\n",
    "deleted_edits_GlobalIDs_list = eh_sdf_deleted_edits_not_added['AGOL_GlobalID'].tolist()"
   ]
  },
  {
   "cell_type": "code",
   "execution_count": null,
   "metadata": {},
   "outputs": [],
   "source": [
    "#print(deleted_edits_GlobalIDs_list)"
   ]
  },
  {
   "cell_type": "code",
   "execution_count": null,
   "metadata": {},
   "outputs": [],
   "source": [
    "deleted_edits_GlobalIDs_string = \"','\".join([str(elem) for elem in deleted_edits_GlobalIDs_list]) \n",
    "deleted_edits_GlobalIDs_string = \"'\" + deleted_edits_GlobalIDs_string + \"'\""
   ]
  },
  {
   "cell_type": "code",
   "execution_count": null,
   "metadata": {},
   "outputs": [],
   "source": [
    "#print(deleted_edits_GlobalIDs_string)"
   ]
  },
  {
   "cell_type": "code",
   "execution_count": null,
   "metadata": {},
   "outputs": [],
   "source": [
    "if len(deleted_edits_GlobalIDs_string) >3:\n",
    "    with arcpy.EnvManager(maintainAttachments = True):\n",
    "        arcpy.management.Append(edit_history, delete_history, \"NO_TEST\", 'globalid \"GlobalID\" false false false 38 GlobalID 0 0,First,#,'+edit_history+',globalid,-1,-1;vegetation_point_id \"VP ID\" true true false 100 Text 0 0,First,#,'+edit_history+',vegetation_point_id,0,100;special_project \"Special Project\" true true false 255 Text 0 0,First,#,'+edit_history+',special_project,0,255;ea_lan_id \"EA LAN ID\" true true false 5 Text 0 0,First,#,'+edit_history+',ea_lan_id,0,5;date_inspected \"Date Inspected\" true true false 255 Date 0 0,First,#,'+edit_history+',date_inspected,-1,-1;phase \"Phase\" true true false 0 Double 0 0,First,#,'+edit_history+',phase,-1,-1;pm_num \"PM Num\" true true false 8 Text 0 0,First,#,'+edit_history+',pm_num,0,8;date_complete \"Date Complete\" true true false 255 Date 0 0,First,#,'+edit_history+',date_complete,-1,-1;units \"Units\" true true false 0 Long 0 0,First,#,'+edit_history+',units,-1,-1;species \"Species\" true true false 255 Text 0 0,First,#,'+edit_history+',species,0,255;dbh \"DBH\" true true false 0 Long 0 0,First,#,'+edit_history+',dbh,-1,-1;hgt \"HGT\" true true false 0 Long 0 0,First,#,'+edit_history+',hgt,-1,-1;rx \"RX\" true true false 255 Text 0 0,First,#,'+edit_history+',rx,0,255;clearance \"Clearance\" true true false 0 Long 0 0,First,#,'+edit_history+',clearance,-1,-1;spn \"SPN\" true true false 255 Text 0 0,First,#,'+edit_history+',spn,0,255;inspection_comments \"Inspection Comments\" true true false 500 Text 0 0,First,#,'+edit_history+',inspection_comments,0,500;latitude \"Latitude\" true true false 0 Double 0 0,First,#,'+edit_history+',latitude,-1,-1;longitude \"Longitude\" true true false 0 Double 0 0,First,#,'+edit_history+',longitude,-1,-1;lat_long \"Lat_Long\" true true false 255 Text 0 0,First,#,'+edit_history+',lat_long,0,255;hor_acc_meters \"Horizontal Accuracy Meters\" true true false 0 Double 0 0,First,#,'+edit_history+',hor_acc_meters,-1,-1;circuit \"Circuit\" true true false 255 Text 0 0,First,#,'+edit_history+',circuit,0,255;land_ownership \"Land Ownership\" true true false 255 Text 0 0,First,#,'+edit_history+',land_ownership,0,255;contact_attempt \"Contact Attempt\" true true false 255 Text 0 0,First,#,'+edit_history+',contact_attempt,0,255;contact_date \"Contact Date\" true true false 255 Date 0 0,First,#,'+edit_history+',contact_date,-1,-1;address_gps \"Address/GPS\" true true false 255 Text 0 0,First,#,'+edit_history+',address_gps,0,255;customer_contact \"Customer Contact\" true true false 255 Text 0 0,First,#,'+edit_history+',customer_contact,0,255;notify_first \"Notify First\" true true false 255 Text 0 0,First,#,'+edit_history+',notify_first,0,255;alerts \"Alerts\" true true false 255 Text 0 0,First,#,'+edit_history+',alerts,0,255;underbuild \"Underbuild\" true true false 255 Text 0 0,First,#,'+edit_history+',underbuild,0,255;po \"PO\" true true false 255 Text 0 0,First,#,'+edit_history+',po,0,255;contractor \"Contractor\" true true false 255 Text 0 0,First,#,'+edit_history+',contractor,0,255;equipment_type \"Equipment Type\" true true false 255 Text 0 0,First,#,'+edit_history+',equipment_type,0,255;crew_type \"Crew Type\" true true false 255 Text 0 0,First,#,'+edit_history+',crew_type,0,255;wood_management \"Wood Management\" true true false 255 Text 0 0,First,#,'+edit_history+',wood_management,0,255;Tree_Work_Status \"Tree Work Status\" true true false 100 Text 0 0,First,#,'+edit_history+',Tree_Work_Status,0,100;Tree_Work_Date \"Tree Work Date\" true true false 255 Date 0 0,First,#,'+edit_history+',Tree_Work_Date,-1,-1;Tree_Work_Comments \"Tree Work Comments\" true true false 500 Text 0 0,First,#,'+edit_history+',Tree_Work_Comments,0,500;WM_Status \"WM Status\" true true false 100 Text 0 0,First,#,'+edit_history+',WM_Status,0,100;WM_Date \"WM Date\" true true false 255 Date 0 0,First,#,'+edit_history+',WM_Date,-1,-1;WM_Comments \"WM Comments\" true true false 500 Text 0 0,First,#,'+edit_history+',WM_Comments,0,500;work_order_created \"Work Order Created\" true true false 100 Text 0 0,First,#,'+edit_history+',work_order_created,0,100;work_order_created_date \"Work Order Created Date\" true true false 255 Date 0 0,First,#,'+edit_history+',work_order_created_date,-1,-1;company_assigned \"Company Assigned\" true true false 100 Text 0 0,First,#,'+edit_history+',company_assigned,0,100;company_assigned_date \"Company Assigned Date\" true true false 255 Date 0 0,First,#,'+edit_history+',company_assigned_date,-1,-1;refusal_first_date_of_contact \"Refusal First Date of Contact\" true true false 255 Date 0 0,First,#,'+edit_history+',refusal_first_date_of_contact,-1,-1;refusal_customer_contact_info \"Refusal Customer Contact Info\" true true false 255 Text 0 0,First,#,'+edit_history+',refusal_customer_contact_info,0,255;refusal_reason \"Refusal Reason\" true true false 500 Text 0 0,First,#,'+edit_history+',refusal_reason,0,500;refusal_land_rights_requested \"Refusal Land Rights Requested\" true true false 3 Text 0 0,First,#,'+edit_history+',refusal_land_rights_requested,0,3;refusal_second_contact_date \"Refusal Second Contact Date\" true true false 255 Date 0 0,First,#,'+edit_history+',refusal_second_contact_date,-1,-1;refusal_resolution \"Refusal Resolution\" true true false 500 Text 0 0,First,#,'+edit_history+',refusal_resolution,0,500;refusal_intermediary_date \"Refusal Intermediary Date\" true true false 255 Date 0 0,First,#,'+edit_history+',refusal_intermediary_date,-1,-1;refusal_resolution_date \"Refusal Resolution Date\" true true false 255 Date 0 0,First,#,'+edit_history+',refusal_resolution_date,-1,-1;parent_id \"Parent ID\" true true false 100 Text 0 0,First,#,'+edit_history+',parent_id,0,100;parcel_GlobalID \"Parcel GlobalID\" true true false 255 Guid 0 0,First,#,'+edit_history+',parcel_GlobalID,-1,-1;parcel_id \"Parcel ID\" true true false 255 Text 0 0,First,#,'+edit_history+',parcel_id,0,255;original_creator \"Original Creator\" true true false 255 Text 0 0,First,#,'+edit_history+',original_creator,0,255;original_created_date \"Original Created Date\" true true false 255 Date 0 0,First,#,'+edit_history+',original_created_date,-1,-1;username_lanid \"Username_LANID\" true true false 50 Text 0 0,First,#,'+edit_history+',username_lanid,0,50;survey_start_date \"Survey Start Date\" true true false 255 Date 0 0,First,#,'+edit_history+',survey_start_date,-1,-1;survey_end_date \"Survey End Date\" true true false 255 Date 0 0,First,#,'+edit_history+',survey_end_date,-1,-1;parentglobalid \"ParentGlobalID\" true true false 38 Guid 0 0,First,#,'+edit_history+',parentglobalid,-1,-1;CreationDate \"CreationDate\" false true false 8 Date 0 0,First,#,'+edit_history+',CreationDate,-1,-1;Creator \"Creator\" false true false 128 Text 0 0,First,#,'+edit_history+',Creator,0,128;EditDate \"EditDate\" false true false 8 Date 0 0,First,#,'+edit_history+',EditDate,-1,-1;Editor \"Editor\" false true false 128 Text 0 0,First,#,'+edit_history+',Editor,0,128;AGOL_GlobalID \"AGOL_GlobalID\" true true false 255 Text 0 0,First,#,'+edit_history+',globalid,-1,-1', '', \"AGOL_GlobalID IN (\" + deleted_edits_GlobalIDs_string + \")\")"
   ]
  },
  {
   "cell_type": "code",
   "execution_count": null,
   "metadata": {},
   "outputs": [],
   "source": [
    "##################################\n",
    "##################################\n",
    "###Create log file and write to it\n",
    "##################################\n",
    "log = {'Date_Last_Ran':[date_time],'Date_Last_Ran_2':[today_time]}\n",
    "\n",
    "df = pd.DataFrame(log, columns= ['Date_Last_Ran','Date_Last_Ran_2'])\n",
    "\n",
    "if os.path.exists(log_file):\n",
    "    df.to_csv (log_file, index = False, mode='a', header=False)\n",
    "else:\n",
    "    df.to_csv (log_file, index = False, mode='a', header=True)"
   ]
  },
  {
   "cell_type": "code",
   "execution_count": null,
   "metadata": {},
   "outputs": [],
   "source": []
  }
 ],
 "metadata": {
  "kernelspec": {
   "display_name": "Python 3",
   "language": "python",
   "name": "python3"
  },
  "language_info": {
   "codemirror_mode": {
    "name": "ipython",
    "version": 3
   },
   "file_extension": ".py",
   "mimetype": "text/x-python",
   "name": "python",
   "nbconvert_exporter": "python",
   "pygments_lexer": "ipython3",
   "version": "3.6.10"
  }
 },
 "nbformat": 4,
 "nbformat_minor": 2
}
