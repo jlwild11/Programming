{
 "cells": [
  {
   "cell_type": "code",
   "execution_count": 2,
   "metadata": {},
   "outputs": [],
   "source": [
    "import arcpy\n",
    "from arcgis import GIS\n",
    "from arcgis.apps import dashboard\n",
    "import keyring"
   ]
  },
  {
   "cell_type": "code",
   "execution_count": 7,
   "metadata": {},
   "outputs": [],
   "source": [
    "#Login to AGOL\n",
    "###store password with:\n",
    "#keyring.set_password(\"AGOL\", \"mge_gis\", \"type password here\")"
   ]
  },
  {
   "cell_type": "code",
   "execution_count": 6,
   "metadata": {},
   "outputs": [],
   "source": [
    "username1 = \"mge_gis\"\n",
    "password1 = keyring.get_password(\"AGOL\", \"mge_gis\")\n",
    "\n",
    "\n",
    "gis = GIS(url=\"https://arcgis.com\", username=username1, password=password1, key_file=None, cert_file=None, verify_cert=True, set_active=True)"
   ]
  },
  {
   "cell_type": "code",
   "execution_count": 88,
   "metadata": {},
   "outputs": [],
   "source": [
    "dash_title = \"A Test Dashboard\"\n",
    "dash_description = \"A Test Dashboard Description\"\n",
    "dash_summary = \"A Test Dashboard Summary\"\n",
    "dash_tags = \"a, test, dasboard, tag\"\n",
    "overwrite = True\n",
    "\n",
    "dash = dashboard"
   ]
  },
  {
   "cell_type": "code",
   "execution_count": 89,
   "metadata": {},
   "outputs": [
    {
     "data": {
      "text/html": [
       "<div class=\"item_container\" style=\"height: auto; overflow: hidden; border: 1px solid #cfcfcf; border-radius: 2px; background: #f6fafa; line-height: 1.21429em; padding: 10px;\">\n",
       "                    <div class=\"item_left\" style=\"width: 210px; float: left;\">\n",
       "                       <a href='https://mgeinc.maps.arcgis.com/home/item.html?id=4b0643bb1ea048728c73a6f21d822223' target='_blank'>\n",
       "                        <img src='http://static.arcgis.com/images/desktopapp.png' class=\"itemThumbnail\">\n",
       "                       </a>\n",
       "                    </div>\n",
       "\n",
       "                    <div class=\"item_right\"     style=\"float: none; width: auto; overflow: hidden;\">\n",
       "                        <a href='https://mgeinc.maps.arcgis.com/home/item.html?id=4b0643bb1ea048728c73a6f21d822223' target='_blank'><b>A Test Dashboard</b>\n",
       "                        </a>\n",
       "                        <br/><img src='https://mgeinc.maps.arcgis.com/home/js/jsapi/esri/css/images/item_type_icons/layers16.png' style=\"vertical-align:middle;\">Dashboard by mge_gis\n",
       "                        <br/>Last Modified: February 01, 2021\n",
       "                        <br/>0 comments, 0 views\n",
       "                    </div>\n",
       "                </div>\n",
       "                "
      ],
      "text/plain": [
       "<Item title:\"A Test Dashboard\" type:Dashboard owner:mge_gis>"
      ]
     },
     "execution_count": 89,
     "metadata": {},
     "output_type": "execute_result"
    }
   ],
   "source": [
    "dash.Dashboard().save(dash_title, dash_description, dash_summary, dash_tags, gis, overwrite)"
   ]
  },
  {
   "cell_type": "code",
   "execution_count": null,
   "metadata": {},
   "outputs": [],
   "source": []
  }
 ],
 "metadata": {
  "kernelspec": {
   "display_name": "Python 3",
   "language": "python",
   "name": "python3"
  },
  "language_info": {
   "codemirror_mode": {
    "name": "ipython",
    "version": 3
   },
   "file_extension": ".py",
   "mimetype": "text/x-python",
   "name": "python",
   "nbconvert_exporter": "python",
   "pygments_lexer": "ipython3",
   "version": "3.7.9"
  }
 },
 "nbformat": 4,
 "nbformat_minor": 4
}
