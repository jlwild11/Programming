{
 "cells": [
  {
   "cell_type": "code",
   "execution_count": null,
   "metadata": {},
   "outputs": [],
   "source": [
    "import os\n",
    "import pandas as pd"
   ]
  },
  {
   "cell_type": "code",
   "execution_count": null,
   "metadata": {},
   "outputs": [],
   "source": [
    "FolderPath1 = r\"N:\\GIS\\Projects\\USFS\\Stand_Exams\\PHOTO EXPORT\\20200512_\"\n",
    "FolderPath2 = r\"N:\\GIS\\Projects\\USFS\\Stand_Exams\\PHOTO EXPORT\\20200515_\"\n",
    "FolderPath3 = r\"N:\\GIS\\Projects\\USFS\\Stand_Exams\\PHOTO EXPORT\\20200522_\"\n",
    "FolderPath4 = r\"N:\\GIS\\Projects\\USFS\\Stand_Exams\\PHOTO EXPORT\\20200529_\"\n",
    "FolderPath5 = r\"N:\\GIS\\Projects\\USFS\\Stand_Exams\\PHOTO EXPORT\\20200605_\"\n",
    "FolderPath6 = r\"N:\\GIS\\Projects\\USFS\\Stand_Exams\\PHOTO EXPORT\\20200619_\"\n",
    "FolderPath7 = r\"N:\\GIS\\Projects\\USFS\\Stand_Exams\\PHOTO EXPORT\\20200626_\"\n",
    "FolderPath8 = r\"N:\\GIS\\Projects\\USFS\\Stand_Exams\\PHOTO EXPORT\\20200717_\"\n",
    "FolderPath9 = r\"N:\\GIS\\Projects\\USFS\\Stand_Exams\\PHOTO EXPORT\\20200724_\""
   ]
  },
  {
   "cell_type": "code",
   "execution_count": null,
   "metadata": {},
   "outputs": [],
   "source": [
    "ExportFilename = r\"C:\\Users\\jaw\\OneDrive - Mountain G. Enterprises, Inc\\Desktop\\CSV\\Filenames\""
   ]
  },
  {
   "cell_type": "code",
   "execution_count": null,
   "metadata": {},
   "outputs": [],
   "source": [
    "Sheet1 = \"20200512_\"\n",
    "Sheet2 = \"20200515_\"\n",
    "Sheet3 = \"20200522_\"\n",
    "Sheet4 = \"20200529_\"\n",
    "Sheet5 = \"20200605_\"\n",
    "Sheet6 = \"20200619_\"\n",
    "Sheet7 = \"20200626_\"\n",
    "Sheet8 = \"20200717_\"\n",
    "Sheet9 = \"20200724_\""
   ]
  },
  {
   "cell_type": "code",
   "execution_count": null,
   "metadata": {},
   "outputs": [],
   "source": [
    "FolderPath = FolderPath1"
   ]
  },
  {
   "cell_type": "code",
   "execution_count": null,
   "metadata": {},
   "outputs": [],
   "source": [
    "fileList = []\n",
    "for root, dirs, files in os.walk(FolderPath):\n",
    "    for filename in files:\n",
    "        fileList.append(filename)"
   ]
  },
  {
   "cell_type": "code",
   "execution_count": null,
   "metadata": {},
   "outputs": [],
   "source": [
    "df = pd.DataFrame(fileList, columns=[\"Filenames\"])\n",
    "df.head()"
   ]
  },
  {
   "cell_type": "code",
   "execution_count": null,
   "metadata": {},
   "outputs": [],
   "source": [
    "#df[['ATTnum','Compartment','Three_Digit_Num','Plot_Numjpg','PhotoNumjpg']] = df.Filenames.str.split(\"_\",expand=True)\n",
    "#df[['ATTnum','Compartment','Three_Digit_Num','Plot_Numjpg']] = df.Filenames.str.split(\"_\",expand=True)\n",
    "#df[['Compartment','Three_Digit_Num','Plot_Numjpg','PhotoNumjpg']] = df.Filenames.str.split(\"_\",expand=True)\n",
    "#df[['Row','RowNum','Col','ColNum','ATTidjpg','PhotoNumjpg']] = df.Filenames.str.split(\"_\",expand=True)\n",
    "df[['Row','RowNum','Col','ColNum','ATTidjpg']] = df.Filenames.str.split(\"_\",expand=True)"
   ]
  },
  {
   "cell_type": "code",
   "execution_count": null,
   "metadata": {},
   "outputs": [],
   "source": [
    "pd.set_option('display.max_rows', 9999)\n",
    "df.head(9999)"
   ]
  },
  {
   "cell_type": "code",
   "execution_count": null,
   "metadata": {},
   "outputs": [],
   "source": [
    "#df[['Plot_Num','Type']] = df.Plot_Numjpg.str.split(\".\",expand=True)"
   ]
  },
  {
   "cell_type": "code",
   "execution_count": null,
   "metadata": {},
   "outputs": [],
   "source": [
    "df.head(9999)"
   ]
  },
  {
   "cell_type": "code",
   "execution_count": null,
   "metadata": {},
   "outputs": [],
   "source": [
    "#df[['Photo_Num','Type']] = df.PhotoNumjpg.str.split(\".\",expand=True)\n",
    "df['Photo_Num'] = \"\"\n",
    "#df['ATTnum'] = \"\"\n",
    "df['Grid Location'] = df['Row']+\"_\"+df['RowNum']+\"_\"+df['Col']+\"_\"+df['ColNum']"
   ]
  },
  {
   "cell_type": "code",
   "execution_count": null,
   "metadata": {},
   "outputs": [],
   "source": [
    "df.head(9999)"
   ]
  },
  {
   "cell_type": "code",
   "execution_count": null,
   "metadata": {},
   "outputs": [],
   "source": [
    "#df = df[['Filenames','ATTnum','Compartment','Three_Digit_Num','Plot_Num','Photo_Num']]\n",
    "df = df[['Filenames','Grid Location','RowNum','ColNum','Photo_Num']]"
   ]
  },
  {
   "cell_type": "code",
   "execution_count": null,
   "metadata": {},
   "outputs": [],
   "source": [
    "#df.sort_values(by=['Compartment', 'Plot_Num','Three_Digit_Num','Photo_Num','ATTnum'])\n",
    "#df = df[['Filenames','Compartment', 'Plot_Num','Three_Digit_Num','Photo_Num','ATTnum']]\n",
    "\n",
    "df.sort_values(by=['Grid Location'])\n",
    "\n",
    "df.head(9999)"
   ]
  },
  {
   "cell_type": "code",
   "execution_count": null,
   "metadata": {},
   "outputs": [],
   "source": [
    "Sheet = Sheet1\n",
    "df.to_excel(ExportFilename+\"_\"+Sheet+\".xlsx\",sheet_name=Sheet, index=False)"
   ]
  },
  {
   "cell_type": "code",
   "execution_count": null,
   "metadata": {},
   "outputs": [],
   "source": []
  }
 ],
 "metadata": {
  "kernelspec": {
   "display_name": "Python 3",
   "language": "python",
   "name": "python3"
  },
  "language_info": {
   "codemirror_mode": {
    "name": "ipython",
    "version": 3
   },
   "file_extension": ".py",
   "mimetype": "text/x-python",
   "name": "python",
   "nbconvert_exporter": "python",
   "pygments_lexer": "ipython3",
   "version": "3.6.9"
  }
 },
 "nbformat": 4,
 "nbformat_minor": 2
}
