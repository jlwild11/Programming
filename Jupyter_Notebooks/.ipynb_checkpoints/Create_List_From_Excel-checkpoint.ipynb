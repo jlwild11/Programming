{
 "cells": [
  {
   "cell_type": "code",
   "execution_count": 14,
   "metadata": {},
   "outputs": [
    {
     "name": "stdout",
     "output_type": "stream",
     "text": [
      "['117251636', '117164876', '116817998', '116792504', '116842236', '117138536', '117161169', '116736817', '110602576', '116953241', '117043131', '116938093', '116972708', '116968244', '117067323', '117067319', '117043989', '117035427', '117682322', '116958843', '117017663', '116899866', '116950956', '117026788', '116877158', '116877127', '117003033', '116938819', '117682345', '116983079', '117682495', '116841574', '116854711', '117303410', '110461380', '110461388']\n"
     ]
    }
   ],
   "source": [
    "import pandas as pd\n",
    "xlsx_name = \"Work_Orders_Requested_20201103.xlsx\"\n",
    "\n",
    "df = pd.read_excel(r\"\\\\172.16.126.126\\MGE\\GIS\\Projects\\PG&E\\EA_Inspection_Work_Form\\FME\\Work_Orders_Creation\\Work_Orders_Requested\"+\"\\\\\"+xlsx_name)\n",
    "\n",
    "# Create an empty list \n",
    "Row_list =[] \n",
    "\n",
    "# Iterate over each row \n",
    "for index, rows in df.iterrows(): \n",
    "    # Create list for the current row \n",
    "    my_list =rows.Notification\n",
    "      \n",
    "    # append the list to the final list \n",
    "    Row_list.append(str(my_list).strip()) \n",
    "  \n",
    "# Print the list \n",
    "print(Row_list)"
   ]
  },
  {
   "cell_type": "code",
   "execution_count": null,
   "metadata": {},
   "outputs": [],
   "source": []
  }
 ],
 "metadata": {
  "kernelspec": {
   "display_name": "Python 3",
   "language": "python",
   "name": "python3"
  },
  "language_info": {
   "codemirror_mode": {
    "name": "ipython",
    "version": 3
   },
   "file_extension": ".py",
   "mimetype": "text/x-python",
   "name": "python",
   "nbconvert_exporter": "python",
   "pygments_lexer": "ipython3",
   "version": "3.7.4"
  }
 },
 "nbformat": 4,
 "nbformat_minor": 2
}
