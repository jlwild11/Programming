{
 "cells": [
  {
   "cell_type": "code",
   "execution_count": null,
   "source": [
    "####START"
   ],
   "outputs": [],
   "metadata": {}
  },
  {
   "cell_type": "code",
   "execution_count": 1,
   "source": [
    "#pip install selenium\r\n",
    "#pip install webdriver_manager\r\n",
    "from selenium import webdriver\r\n",
    "from selenium.webdriver.chrome.options import Options\r\n",
    "from webdriver_manager.chrome import ChromeDriverManager\r\n",
    "from selenium.webdriver.common.by import By\r\n",
    "from selenium.webdriver.support.ui import WebDriverWait\r\n",
    "from selenium.webdriver.support import expected_conditions as EC\r\n",
    "from selenium.webdriver.support.ui import Select\r\n",
    "from selenium.common.exceptions import NoSuchElementException\r\n",
    "opts = Options()\r\n",
    "opts.set_headless()\r\n",
    "assert opts.headless  # Operating in headless mode\r\n",
    "import pandas as pd\r\n",
    "import re"
   ],
   "outputs": [
    {
     "output_type": "stream",
     "name": "stderr",
     "text": [
      "<ipython-input-1-1dead860565f>:12: DeprecationWarning: use setter for headless property instead of set_headless\n",
      "  opts.set_headless()\n"
     ]
    }
   ],
   "metadata": {}
  },
  {
   "cell_type": "code",
   "execution_count": 91,
   "source": [
    "country = \"United States\"\r\n",
    "state_list = []\r\n",
    "city_list = []\r\n",
    "page_list = []\r\n",
    "page_list_len = 0\r\n",
    "name_list = []\r\n",
    "name_list_len = 0\r\n",
    "select_name_num = 0\r\n",
    "global Name\r\n",
    "global State\r\n",
    "global City\r\n",
    "global Address\r\n",
    "global Phone\r\n",
    "global Mobile\r\n",
    "global Email\r\n",
    "global Credentials\r\n",
    "global Services_Offered\r\n",
    "global Link_to_Profile"
   ],
   "outputs": [],
   "metadata": {}
  },
  {
   "cell_type": "code",
   "execution_count": 123,
   "source": [
    "def select_USA():\r\n",
    "    browser.get('https://www.treesaregood.org/findanarborist/findanarborist')\r\n",
    "    wait = WebDriverWait(browser, 50)\r\n",
    "    element = wait.until(EC.element_to_be_clickable((By.ID, \"dnn_ctr437_FindAnArborist_ddl_strCountry\")))\r\n",
    "    search_form = browser.find_element_by_id('dnn_ctr437_FindAnArborist_ddl_strCountry')\r\n",
    "    search_form.send_keys(country)\r\n",
    "    \r\n",
    "def create_state_list():\r\n",
    "    wait = WebDriverWait(browser, 50)\r\n",
    "    element = wait.until(EC.element_to_be_clickable((By.ID, \"dnn_ctr437_FindAnArborist_ddl_strStateProv\")))\r\n",
    "    element = wait.until(EC.text_to_be_present_in_element((By.ID, \"dnn_ctr437_FindAnArborist_ddl_strStateProv\"),\"Please select...\"))\r\n",
    "    search_form2 = browser.find_element_by_id('dnn_ctr437_FindAnArborist_ddl_strStateProv')\r\n",
    "    list1 = search_form2.text\r\n",
    "    list1 = re.sub(\"[^\\w]\", \" \",  list1).split()\r\n",
    "    global state_list\r\n",
    "    state_list = list1[2:]\r\n",
    "\r\n",
    "def create_city_list():\r\n",
    "    global city_list\r\n",
    "    wait = WebDriverWait(browser, 50)\r\n",
    "    element = wait.until(EC.element_to_be_clickable((By.ID, \"dnn_ctr437_FindAnArborist_ddl_strCity\")))\r\n",
    "    element = wait.until(EC.text_to_be_present_in_element((By.ID, \"dnn_ctr437_FindAnArborist_ddl_strCity\"),\"Any...\"))\r\n",
    "    search_form3 = browser.find_element_by_id('dnn_ctr437_FindAnArborist_ddl_strCity')\r\n",
    "    list1 = search_form3.text\r\n",
    "    list2 = re.sub(\"[-]\", \"||\", list1)\r\n",
    "    list2 = re.sub(\"[\\']\", \"'\", list1)\r\n",
    "    list3 = list2.split(\"_\")\r\n",
    "    list3 = list3[0].split(\"\\n\")\r\n",
    "    list4 = [sub.strip() for sub in list3]\r\n",
    "    while(\"\" in list4): \r\n",
    "        list4.remove(\"\")\r\n",
    "    list5 = list4[1:]\r\n",
    "    city_list = list5\r\n",
    "\r\n",
    "def select_State(text):\r\n",
    "    wait = WebDriverWait(browser, 50)\r\n",
    "    element = wait.until(EC.element_to_be_clickable((By.ID, \"dnn_ctr437_FindAnArborist_ddl_strStateProv\")))\r\n",
    "    element = wait.until(EC.text_to_be_present_in_element((By.ID, \"dnn_ctr437_FindAnArborist_ddl_strStateProv\"),\"Please select...\"))\r\n",
    "    search_form2 = browser.find_element_by_id('dnn_ctr437_FindAnArborist_ddl_strStateProv')\r\n",
    "    search_form2 = browser.find_element_by_xpath(\"//select[@id='dnn_ctr437_FindAnArborist_ddl_strStateProv']/option[text()='\"+text+\"']\").click()\r\n",
    "    #browser.find_element_by_name('dnn$ctr437$FindAnArborist$btnLocationSearch').click() #we are searching by city so we are commenting out this code\r\n",
    "\r\n",
    "def select_City(text):\r\n",
    "    wait = WebDriverWait(browser, 50)\r\n",
    "    element = wait.until(EC.element_to_be_clickable((By.ID, \"dnn_ctr437_FindAnArborist_ddl_strCity\")))\r\n",
    "    element = wait.until(EC.text_to_be_present_in_element((By.ID, \"dnn_ctr437_FindAnArborist_ddl_strCity\"),\"Any...\")) \r\n",
    "    search_form3 = browser.find_element_by_id('dnn_ctr437_FindAnArborist_ddl_strCity')\r\n",
    "    element = wait.until(EC.text_to_be_present_in_element((By.ID, \"dnn_ctr437_FindAnArborist_ddl_strCity\"),text))\r\n",
    "    try:\r\n",
    "        search_form3 = browser.find_element_by_xpath(\"//select[@id='dnn_ctr437_FindAnArborist_ddl_strCity']/option[text()=\\\"\"+text+\"\\\"]\").click()\r\n",
    "    except NoSuchElementException:\r\n",
    "        try:\r\n",
    "            search_form3 = browser.find_element_by_xpath(\"//select[@id='dnn_ctr437_FindAnArborist_ddl_strCity']/option[text()=\\\"\"+text+\" \"+\"\\\"]\").click()\r\n",
    "        except NoSuchElementException:\r\n",
    "            search_form3 = browser.find_element_by_xpath(\"//select[@id='dnn_ctr437_FindAnArborist_ddl_strCity']/option[text()=\\\"\"+\" \"+text+\"\\\"]\").click()\r\n",
    "    browser.find_element_by_name('dnn$ctr437$FindAnArborist$btnLocationSearch').click()\r\n",
    "\r\n",
    "def pages_length():\r\n",
    "    wait = WebDriverWait(browser, 50)\r\n",
    "    element = wait.until(EC.element_to_be_clickable((By.ID, \"dnn_ctr437_FindAnArborist_GridViewFindAnArborist\")))\r\n",
    "    page_href = browser.find_elements_by_xpath(\"//*[@href]\")\r\n",
    "    page_list = []\r\n",
    "    global page_list_len\r\n",
    "    page_list_len = 0\r\n",
    "    for ii in page_href:\r\n",
    "        #print(ii.get_attribute('href'))\r\n",
    "        x = ii.get_attribute('href')\r\n",
    "        page_list.append(x)\r\n",
    "        matching = [s for s in page_list if \"javascript:__doPostBack('dnn$ctr437$FindAnArborist$GridViewFindAnArborist','Page$\" in s]\r\n",
    "        page_list = matching\r\n",
    "        page_list_len = len(page_list)\r\n",
    "\r\n",
    "\r\n",
    "def name_list_length():\r\n",
    "    wait = WebDriverWait(browser, 50)\r\n",
    "    element = wait.until(EC.element_to_be_clickable((By.ID, \"dnn_ctr437_FindAnArborist_GridViewFindAnArborist\")))\r\n",
    "    global name_list_len\r\n",
    "    try:\r\n",
    "        name_list = browser.find_elements_by_xpath(\"//*[contains(@id, 'dnn_ctr437_FindAnArborist_GridViewFindAnArborist_linkbutton_SelectArborist_')]\")\r\n",
    "        name_list_len = len(name_list)\r\n",
    "    except NoSuchElementException:\r\n",
    "        name_list_len = 0\r\n",
    "    \r\n",
    "\r\n",
    "def select_name(num):\r\n",
    "    try:\r\n",
    "        id = \"dnn_ctr437_FindAnArborist_GridViewFindAnArborist_linkbutton_SelectArborist_\"+str(num)\r\n",
    "        wait = WebDriverWait(browser, 50)\r\n",
    "        element = wait.until(EC.element_to_be_clickable((By.ID, id)))\r\n",
    "        browser.find_element_by_id(id).click()\r\n",
    "    except NoSuchElementException:\r\n",
    "        pass\r\n",
    "\r\n",
    "def Arborist_info():\r\n",
    "    global Name\r\n",
    "    global Address\r\n",
    "    global Phone\r\n",
    "    global Mobile\r\n",
    "    global Email\r\n",
    "    global Credentials\r\n",
    "    global Services_Offered\r\n",
    "    global Link_to_Profile\r\n",
    "    wait = WebDriverWait(browser, 50)\r\n",
    "    element = wait.until(EC.element_to_be_clickable((By.ID, \"dnn_ctr437_FindAnArborist_panelArboristDetails\")))\r\n",
    "    try:\r\n",
    "        Name = browser.find_element_by_id(\"dnn_ctr437_FindAnArborist_lbl_strName\")\r\n",
    "        Name = Name.text\r\n",
    "    except NoSuchElementException:\r\n",
    "        Name = \"\"  \r\n",
    "    try:\r\n",
    "        Address = browser.find_element_by_id(\"dnn_ctr437_FindAnArborist_lbl_strAddress\")\r\n",
    "        Address = Address.text\r\n",
    "    except NoSuchElementException:\r\n",
    "        Address = \"\"\r\n",
    "    try:\r\n",
    "        Phone = browser.find_element_by_id(\"dnn_ctr437_FindAnArborist_lbl_strPhone\")\r\n",
    "        Phone = Phone.text\r\n",
    "    except NoSuchElementException:\r\n",
    "        Phone = \"\"\r\n",
    "    try:\r\n",
    "        Mobile = browser.find_element_by_id(\"dnn_ctr437_FindAnArborist_lbl_strMobile\")\r\n",
    "        Mobile = Mobile.text\r\n",
    "    except NoSuchElementException:\r\n",
    "        Mobile = \"\"\r\n",
    "    try:    \r\n",
    "        Email = browser.find_element_by_id(\"dnn_ctr437_FindAnArborist_lbl_strEmail\")\r\n",
    "        Email = Email.text\r\n",
    "    except NoSuchElementException:\r\n",
    "        Email = \"\"\r\n",
    "    try:\r\n",
    "        Credentials = browser.find_element_by_id(\"dnn_ctr437_FindAnArborist_panelCredentials\")\r\n",
    "        Credentials = Credentials.text\r\n",
    "    except NoSuchElementException:\r\n",
    "        Credentials = \"\"\r\n",
    "    try:\r\n",
    "        Services_Offered = browser.find_element_by_id(\"dnn_ctr437_FindAnArborist_panelServices\")\r\n",
    "        Services_Offered = Services_Offered.text\r\n",
    "    except NoSuchElementException:\r\n",
    "        Services_Offered = \"\"\r\n",
    "    try:   \r\n",
    "        Direct_Link_Button = browser.find_element_by_id(\"dnn_ctr437_FindAnArborist_lblDirectLink\")\r\n",
    "        Link_to_Profile = Direct_Link_Button.get_attribute('innerHTML')\r\n",
    "        Link_to_Profile = Link_to_Profile.split(\"\\\"\")\r\n",
    "        Link_to_Profile = Link_to_Profile[1]\r\n",
    "        Link_to_Profile = Link_to_Profile.split(\"=\")\r\n",
    "        ProfileID = Link_to_Profile[1]\r\n",
    "        Link_to_Profile = \"https://www.treesaregood.org/findanarborist/findanarborist/id/\"+str(ProfileID)\r\n",
    "        Link_to_Profile = Link_to_Profile\r\n",
    "    except NoSuchElementException:\r\n",
    "        Link_to_Profile = \"\"\r\n",
    "    #write to csv\r\n",
    "    Arborist_Info = {'Name':[Name],\r\n",
    "                    'State':[State],\r\n",
    "                    'City' :[City],\r\n",
    "                    'Address': [Address],\r\n",
    "                    'Phone': [Phone],\r\n",
    "                    'Mobile': [Mobile],\r\n",
    "                    'Email': [Email],\r\n",
    "                    'Credentials': [Credentials],\r\n",
    "                    'Services_Offered': [Services_Offered],\r\n",
    "                    'Link_to_Profile': [Link_to_Profile]\r\n",
    "                    }\r\n",
    "    df = pd.DataFrame(Arborist_Info, columns= ['Name','State','City', 'Address','Phone','Mobile','Email','Credentials','Services_Offered','Link_to_Profile'])\r\n",
    "    df.to_csv (r'C:\\Users\\jaw\\OneDrive - Mountain G. Enterprises, Inc\\Documents\\Programming\\Jupyter_Notebooks\\Webscrape_Arborists_Emails\\Arborists\\Export_20210719\\By_City\\Aroborists.csv',mode='a', index = False, header=False)\r\n",
    "    #go back to previous page and wait until it loads\r\n",
    "    browser.execute_script(\"window.history.go(-1)\")\r\n",
    "\r\n",
    "def select_page(num):\r\n",
    "    try:\r\n",
    "        elem = browser.find_element_by_link_text(num)\r\n",
    "        elem.click()\r\n",
    "    except NoSuchElementException:\r\n",
    "        pass\r\n",
    "\r\n",
    "def Arborists_Counts(s,c,p,n):\r\n",
    "    Arborists_Counts = {'State':[s],'City':[c],'Page': [p],'Number': [n]}\r\n",
    "    df = pd.DataFrame(Arborists_Counts, columns= ['State','City', 'Page','Number'])\r\n",
    "    df.to_csv (r'C:\\Users\\jaw\\OneDrive - Mountain G. Enterprises, Inc\\Documents\\Programming\\Jupyter_Notebooks\\Webscrape_Arborists_Emails\\Arborists\\Export_20210719\\By_City\\Aroborists_City_Counts.csv',mode='a', index = False, header=False)"
   ],
   "outputs": [],
   "metadata": {}
  },
  {
   "cell_type": "code",
   "execution_count": 124,
   "source": [
    "browser = webdriver.Chrome(ChromeDriverManager().install())\r\n",
    "browser.get('https://www.treesaregood.org/findanarborist/findanarborist')"
   ],
   "outputs": [
    {
     "output_type": "stream",
     "name": "stderr",
     "text": [
      "[WDM] - Current google-chrome version is 91.0.4472\n",
      "[WDM] - Get LATEST driver version for 91.0.4472\n",
      "[WDM] - Driver [C:\\Users\\jaw\\.wdm\\drivers\\chromedriver\\win32\\91.0.4472.101\\chromedriver.exe] found in cache\n"
     ]
    },
    {
     "output_type": "stream",
     "name": "stdout",
     "text": [
      " \n"
     ]
    }
   ],
   "metadata": {
    "tags": []
   }
  },
  {
   "cell_type": "code",
   "execution_count": 125,
   "source": [
    "select_USA()"
   ],
   "outputs": [],
   "metadata": {}
  },
  {
   "cell_type": "code",
   "execution_count": 126,
   "source": [
    "create_state_list()"
   ],
   "outputs": [],
   "metadata": {
    "tags": []
   }
  },
  {
   "cell_type": "code",
   "execution_count": 127,
   "source": [
    "state_i = 0\r\n",
    "city_i = 0\r\n",
    "page_i = 1\r\n",
    "name_i = 0\r\n",
    "State = state_list[state_i]\r\n",
    "print(state_list)\r\n",
    "print(State)"
   ],
   "outputs": [
    {
     "output_type": "stream",
     "name": "stdout",
     "text": [
      "['AA', 'AK', 'AL', 'AP', 'AR', 'AZ', 'CA', 'CO', 'CT', 'DC', 'DE', 'FL', 'GA', 'GU', 'HI', 'IA', 'ID', 'IL', 'IN', 'KS', 'KY', 'LA', 'MA', 'MD', 'ME', 'MI', 'MN', 'MO', 'MS', 'MT', 'NC', 'ND', 'NE', 'NH', 'NJ', 'NM', 'NV', 'NY', 'OH', 'OK', 'OR', 'PA', 'PR', 'RI', 'SC', 'SD', 'TN', 'TX', 'UT', 'VA', 'VI', 'VT', 'WA', 'WI', 'WV', 'WY']\n",
      "OH\n"
     ]
    }
   ],
   "metadata": {
    "tags": []
   }
  },
  {
   "cell_type": "code",
   "execution_count": 128,
   "source": [
    "#select_State(State)"
   ],
   "outputs": [],
   "metadata": {}
  },
  {
   "cell_type": "code",
   "execution_count": 129,
   "source": [
    "#create_city_list()"
   ],
   "outputs": [],
   "metadata": {}
  },
  {
   "cell_type": "code",
   "execution_count": 130,
   "source": [
    "#print(city_list)"
   ],
   "outputs": [
    {
     "output_type": "stream",
     "name": "stdout",
     "text": [
      "['New Franklin', 'Aberdeen', 'Akron', 'Alexandria', 'Alger', 'Alliance', 'Amelia', 'Amherst', 'Archbold', 'Ashland', 'Ashville', 'Athens', 'Avon', 'Baltimore', 'Batavia', 'Bay Village', 'Beavercreek', 'Bedford', 'Bellaire', 'Bellevue', 'Belmont', 'Beloit', 'Belpre', 'Blacklick', 'Boardman', 'Bowling Green', 'Brecksville', 'Brooklyn', 'Brooklyn Heights', 'Brookville', 'Brunswick', 'Bryan', 'Bucyrus', 'Burton', 'Camden', 'Campbell', 'Canton', 'Cardington', 'Centerburg', 'Centerville', 'Chagrin Falls', 'Chardon', 'Chillicothe', 'Cincinnati', 'Cleveland', 'Cleves', 'Clyde', 'Coldwater', 'Columbia Station', 'Columbus', 'Concord', 'Copley', 'Cortland', 'Covington', 'Custar', 'Cuyahoga Falls', 'Dayton', 'Defiance', 'Delaware', 'Delta', 'Doylestown', 'Dublin', 'East Claridon', 'East Liverpool', 'Eastlake', 'Euclid', 'Fairfield', 'Farmersville', 'Findlay', 'Franklin', 'Fremont', 'Gahanna', 'GALENA', 'Galion', 'Gallipolis', 'Galloway', 'Garfield Heights', 'Genoa', 'Georgetown', 'Germantown', 'Glenford', 'Glouster', 'Grand Rapids', 'Granville', 'Gratis', 'Greenville', 'Grove City', 'Guysville', 'Hamersville', 'Hamilton', 'Highland Hills', 'Hilliard', 'Hillsboro', 'Holland', 'Hudson', 'Huntsburg', 'Huron', 'Independence', 'Jackson', 'Jenera', 'Johnstown', 'Kent', 'Kettering', 'Kingsville', 'Kirtland', 'Lake Milton', 'Lakewood', 'Lancaster', 'Lebanon', 'Lewis Center', 'Lima', 'Lisbon', 'Lorain', 'Loveland', 'Luckey', 'Macedonia', 'Mansfield', 'Mantua', 'Marengo', 'Marietta', 'Marion', 'Marysville', 'Mason', 'Massillon', 'Maumee', 'Mayfield Village', 'Medina', 'Mentor', 'Miamisburg', 'Middlefield', 'Middletown', 'Milan', 'Milford', 'Millersburg', 'Mogadore', 'Monclova', 'Monroe', 'Morrow', 'Mount Gilead', 'Mount Perry', 'Mowrystown', 'Mt. Vernon', 'Munroe Falls', 'Napoleon', 'New Bremen', 'New Carlisle', 'New Concord', 'New Knoxville', 'New Philadelphia', 'Newark', 'Newbury', 'Newton Falls', 'North Canton', 'North Royalton', 'Northfield', 'Norton', 'Norwalk', 'Norwood', 'Novelty', 'Oakwood', 'Oberlin', 'Olmsted Falls', 'Oregonia', 'Orient', 'Orrville', 'Ostrander', 'Ottawa', 'Oxford', 'Painesville', 'Parma', 'Pataskala', 'Paulding', 'Pickerington', 'Poland', 'Portage', 'Portsmouth', 'Powell', 'Ravenna', 'Reynoldsburg', 'Rittman', 'Rock Creek', 'Rocky River', 'Russell', 'Saint Paris', 'Salem', 'Salineville', 'Seven Hills', 'Seville', 'Shaker Heights', 'Sidney', 'Solon', 'South Amherst', 'South Vienna', 'Spring Valley', 'Springboro', 'Springfield', 'Stoutsville', 'Stow', 'Streetsboro', 'Strongsville', 'Sunbury', 'Swanton', 'Sylvania', 'Tallmadge', 'Terrace Park', 'Thornville', 'Tiffin', 'Tipp City', 'Toledo', 'Troy', 'Twinsburg', 'Union City', 'Uniontown', 'Upper Arlington', 'Utica', 'Valley City', 'Vandalia', 'Vienna', 'Wadsworth', 'Walton Hills', 'Warren', 'Washington Court House', 'Waterville', 'Wauseon', 'Waynesville', 'Wellington', 'WEST CHESTER', 'Westerville', 'Westlake', 'Wickliffe', 'Willoughby', 'Wilmington', 'Windsor', 'Wooster', 'Worthington', 'Wyoming', 'Xenia', 'Yellow Spgs', 'Yellow Springs', 'Youngstown', 'Zanesville']\n"
     ]
    }
   ],
   "metadata": {
    "tags": []
   }
  },
  {
   "cell_type": "code",
   "execution_count": 131,
   "source": [
    "#city_i = 0\r\n",
    "#City = city_list[city_i]\r\n",
    "#select_City(City)"
   ],
   "outputs": [],
   "metadata": {}
  },
  {
   "cell_type": "code",
   "execution_count": 105,
   "source": [
    "state_i = 38\r\n",
    "city_i = 0\r\n",
    "while state_i < len(state_list): #len(state_list):\r\n",
    "    city_i = 0\r\n",
    "    page_i = 1\r\n",
    "    name_i = 0\r\n",
    "    State = state_list[state_i]\r\n",
    "    select_State(State)\r\n",
    "    #get the city list for that state and loop through the citys\r\n",
    "    create_city_list()\r\n",
    "    print(\"state_list = \"+str(state_list))\r\n",
    "    print(\"state_i = \"+str(state_i))\r\n",
    "    print(\"State = \"+State)\r\n",
    "    while city_i < len(city_list):\r\n",
    "        print(\"city_list = \"+str(city_list))\r\n",
    "        page_i = 1\r\n",
    "        name_i = 0\r\n",
    "        City = city_list[city_i]\r\n",
    "        print(\"city_i = \"+str(city_i))\r\n",
    "        print(\"City = \"+str(City))\r\n",
    "        select_State(State)\r\n",
    "        select_City(City)\r\n",
    "        #Get the number of pages for the current city selected\r\n",
    "        wait = WebDriverWait(browser, 50)\r\n",
    "        element = wait.until(EC.element_to_be_clickable((By.ID, 'dnn_ctr437_FindAnArborist_panelFindArboristOuput')))\r\n",
    "        pages_length()\r\n",
    "        #Get the length of the list of names for the current page\r\n",
    "        wait = WebDriverWait(browser, 50)\r\n",
    "        element = wait.until(EC.element_to_be_clickable((By.ID, 'dnn_ctr437_FindAnArborist_panelFindArboristOuput')))\r\n",
    "        name_list_length()\r\n",
    "        #Start on first page and proceed thhough all the pages for the city\r\n",
    "        if page_list_len == 0:\r\n",
    "            page_list_len = 1\r\n",
    "        else:\r\n",
    "            page_list_len = page_list_len + 1\r\n",
    "        print(\"page_list_len = \"+str(page_list_len))\r\n",
    "        while page_i <= page_list_len:#page_list_len\r\n",
    "            name_i = 0\r\n",
    "            name_list_length()\r\n",
    "            print(\"page_i = \"+str(page_i))\r\n",
    "            #Select names and get info and write info to csv\r\n",
    "            if name_list_len == 0:\r\n",
    "                name_list_len = 0\r\n",
    "            else:\r\n",
    "                name_list_len = name_list_len\r\n",
    "            print(\"name_list_len = \"+str(name_list_len))\r\n",
    "            #write State,City, Page Number and List number to csv\r\n",
    "            Arborists_Counts(State,City,page_i,name_list_len)\r\n",
    "            while name_i < name_list_len:#name_list_len\r\n",
    "                #select the name\r\n",
    "                print(\"name_i = \"+str(name_i))\r\n",
    "                select_name(name_i)\r\n",
    "                #wait for page to load and get info\r\n",
    "                wait = WebDriverWait(browser, 50)\r\n",
    "                element = wait.until(EC.element_to_be_clickable((By.ID, 'dnn_ctr437_FindAnArborist_lbl_strName')))\r\n",
    "                #get Arborist info and write to csv\r\n",
    "                Arborist_info()\r\n",
    "                wait = WebDriverWait(browser, 50)\r\n",
    "                element = wait.until(EC.element_to_be_clickable((By.ID, 'dnn_ctr437_FindAnArborist_GridViewFindAnArborist_linkbutton_SelectArborist_0')))\r\n",
    "                #continue to the next name on the list\r\n",
    "                name_i += 1\r\n",
    "            #continue to the next page for that city\r\n",
    "            page_i += 1\r\n",
    "            select_page(str(page_i))\r\n",
    "        #continue to the next city in that state\r\n",
    "        city_i += 1\r\n",
    "        select_USA()\r\n",
    "        wait = WebDriverWait(browser, 50)\r\n",
    "        element = wait.until(EC.element_to_be_clickable((By.ID, 'dnn_ctr437_FindAnArborist_ddl_strStateProv')))\r\n",
    "    #continue to the next state\r\n",
    "    state_i += 1\r\n",
    "    select_USA()\r\n",
    "    wait = WebDriverWait(browser, 50)\r\n",
    "    element = wait.until(EC.element_to_be_clickable((By.ID, 'dnn_ctr437_FindAnArborist_ddl_strStateProv')))\r\n",
    "\r\n",
    "browser.close()\r\n",
    "quit()\r\n"
   ],
   "outputs": [
    {
     "output_type": "stream",
     "name": "stdout",
     "text": [
      "state_list = ['AA', 'AK', 'AL', 'AP', 'AR', 'AZ', 'CA', 'CO', 'CT', 'DC', 'DE', 'FL', 'GA', 'GU', 'HI', 'IA', 'ID', 'IL', 'IN', 'KS', 'KY', 'LA', 'MA', 'MD', 'ME', 'MI', 'MN', 'MO', 'MS', 'MT', 'NC', 'ND', 'NE', 'NH', 'NJ', 'NM', 'NV', 'NY', 'OH', 'OK', 'OR', 'PA', 'PR', 'RI', 'SC', 'SD', 'TN', 'TX', 'UT', 'VA', 'VI', 'VT', 'WA', 'WI', 'WV', 'WY']\n",
      "state_i = 38\n",
      "State = OH\n",
      "city_list = ['New Franklin', 'Aberdeen', 'Akron', 'Alexandria', 'Alger', 'Alliance', 'Amelia', 'Amherst', 'Archbold', 'Ashland', 'Ashville', 'Athens', 'Avon', 'Baltimore', 'Batavia', 'Bay Village', 'Beavercreek', 'Bedford', 'Bellaire', 'Bellevue', 'Belmont', 'Beloit', 'Belpre', 'Blacklick', 'Boardman', 'Bowling Green', 'Brecksville', 'Brooklyn', 'Brooklyn Heights', 'Brookville', 'Brunswick', 'Bryan', 'Bucyrus', 'Burton', 'Camden', 'Campbell', 'Canton', 'Cardington', 'Centerburg', 'Centerville', 'Chagrin Falls', 'Chardon', 'Chillicothe', 'Cincinnati', 'Cleveland', 'Cleves', 'Clyde', 'Coldwater', 'Columbia Station', 'Columbus', 'Concord', 'Copley', 'Cortland', 'Covington', 'Custar', 'Cuyahoga Falls', 'Dayton', 'Defiance', 'Delaware', 'Delta', 'Doylestown', 'Dublin', 'East Claridon', 'East Liverpool', 'Eastlake', 'Euclid', 'Fairfield', 'Farmersville', 'Findlay', 'Franklin', 'Fremont', 'Gahanna', 'GALENA', 'Galion', 'Gallipolis', 'Galloway', 'Garfield Heights', 'Genoa', 'Georgetown', 'Germantown', 'Glenford', 'Glouster', 'Grand Rapids', 'Granville', 'Gratis', 'Greenville', 'Grove City', 'Guysville', 'Hamersville', 'Hamilton', 'Highland Hills', 'Hilliard', 'Hillsboro', 'Holland', 'Hudson', 'Huntsburg', 'Huron', 'Independence', 'Jackson', 'Jenera', 'Johnstown', 'Kent', 'Kettering', 'Kingsville', 'Kirtland', 'Lake Milton', 'Lakewood', 'Lancaster', 'Lebanon', 'Lewis Center', 'Lima', 'Lisbon', 'Lorain', 'Loveland', 'Luckey', 'Macedonia', 'Mansfield', 'Mantua', 'Marengo', 'Marietta', 'Marion', 'Marysville', 'Mason', 'Massillon', 'Maumee', 'Mayfield Village', 'Medina', 'Mentor', 'Miamisburg', 'Middlefield', 'Middletown', 'Milan', 'Milford', 'Millersburg', 'Mogadore', 'Monclova', 'Monroe', 'Morrow', 'Mount Gilead', 'Mount Perry', 'Mowrystown', 'Mt. Vernon', 'Munroe Falls', 'Napoleon', 'New Bremen', 'New Carlisle', 'New Concord', 'New Knoxville', 'New Philadelphia', 'Newark', 'Newbury', 'Newton Falls', 'North Canton', 'North Royalton', 'Northfield', 'Norton', 'Norwalk', 'Norwood', 'Novelty', 'Oakwood', 'Oberlin', 'Olmsted Falls', 'Oregonia', 'Orient', 'Orrville', 'Ostrander', 'Ottawa', 'Oxford', 'Painesville', 'Parma', 'Pataskala', 'Paulding', 'Pickerington', 'Poland', 'Portage', 'Portsmouth', 'Powell', 'Ravenna', 'Reynoldsburg', 'Rittman', 'Rock Creek', 'Rocky River', 'Russell', 'Saint Paris', 'Salem', 'Salineville', 'Seven Hills', 'Seville', 'Shaker Heights', 'Sidney', 'Solon', 'South Amherst', 'South Vienna', 'Spring Valley', 'Springboro', 'Springfield', 'Stoutsville', 'Stow', 'Streetsboro', 'Strongsville', 'Sunbury', 'Swanton', 'Sylvania', 'Tallmadge', 'Terrace Park', 'Thornville', 'Tiffin', 'Tipp City', 'Toledo', 'Troy', 'Twinsburg', 'Union City', 'Uniontown', 'Upper Arlington', 'Utica', 'Valley City', 'Vandalia', 'Vienna', 'Wadsworth', 'Walton Hills', 'Warren', 'Washington Court House', 'Waterville', 'Wauseon', 'Waynesville', 'Wellington', 'WEST CHESTER', 'Westerville', 'Westlake', 'Wickliffe', 'Willoughby', 'Wilmington', 'Windsor', 'Wooster', 'Worthington', 'Wyoming', 'Xenia', 'Yellow Spgs', 'Yellow Springs', 'Youngstown', 'Zanesville']\n",
      "city_i = 0\n",
      "City = New Franklin\n"
     ]
    },
    {
     "output_type": "error",
     "ename": "NoSuchElementException",
     "evalue": "Message: no such element: Unable to locate element: {\"method\":\"xpath\",\"selector\":\"//select[@id='dnn_ctr437_FindAnArborist_ddl_strCity']/option[text()=\"New Franklin \"]\"}\n  (Session info: chrome=91.0.4472.124)\n",
     "traceback": [
      "\u001b[1;31m---------------------------------------------------------------------------\u001b[0m",
      "\u001b[1;31mNoSuchElementException\u001b[0m                    Traceback (most recent call last)",
      "\u001b[1;32m<ipython-input-92-5bee79a254af>\u001b[0m in \u001b[0;36mselect_City\u001b[1;34m(text)\u001b[0m\n\u001b[0;32m     49\u001b[0m     \u001b[1;32mtry\u001b[0m\u001b[1;33m:\u001b[0m\u001b[1;33m\u001b[0m\u001b[1;33m\u001b[0m\u001b[0m\n\u001b[1;32m---> 50\u001b[1;33m         \u001b[0msearch_form3\u001b[0m \u001b[1;33m=\u001b[0m \u001b[0mbrowser\u001b[0m\u001b[1;33m.\u001b[0m\u001b[0mfind_element_by_xpath\u001b[0m\u001b[1;33m(\u001b[0m\u001b[1;34m\"//select[@id='dnn_ctr437_FindAnArborist_ddl_strCity']/option[text()=\\\"\"\u001b[0m\u001b[1;33m+\u001b[0m\u001b[0mtext\u001b[0m\u001b[1;33m+\u001b[0m\u001b[1;34m\"\\\"]\"\u001b[0m\u001b[1;33m)\u001b[0m\u001b[1;33m.\u001b[0m\u001b[0mclick\u001b[0m\u001b[1;33m(\u001b[0m\u001b[1;33m)\u001b[0m\u001b[1;33m\u001b[0m\u001b[1;33m\u001b[0m\u001b[0m\n\u001b[0m\u001b[0;32m     51\u001b[0m     \u001b[1;32mexcept\u001b[0m \u001b[0mNoSuchElementException\u001b[0m\u001b[1;33m:\u001b[0m\u001b[1;33m\u001b[0m\u001b[1;33m\u001b[0m\u001b[0m\n",
      "\u001b[1;32m~\\Anaconda3\\lib\\site-packages\\selenium\\webdriver\\remote\\webdriver.py\u001b[0m in \u001b[0;36mfind_element_by_xpath\u001b[1;34m(self, xpath)\u001b[0m\n\u001b[0;32m    393\u001b[0m         \"\"\"\n\u001b[1;32m--> 394\u001b[1;33m         \u001b[1;32mreturn\u001b[0m \u001b[0mself\u001b[0m\u001b[1;33m.\u001b[0m\u001b[0mfind_element\u001b[0m\u001b[1;33m(\u001b[0m\u001b[0mby\u001b[0m\u001b[1;33m=\u001b[0m\u001b[0mBy\u001b[0m\u001b[1;33m.\u001b[0m\u001b[0mXPATH\u001b[0m\u001b[1;33m,\u001b[0m \u001b[0mvalue\u001b[0m\u001b[1;33m=\u001b[0m\u001b[0mxpath\u001b[0m\u001b[1;33m)\u001b[0m\u001b[1;33m\u001b[0m\u001b[1;33m\u001b[0m\u001b[0m\n\u001b[0m\u001b[0;32m    395\u001b[0m \u001b[1;33m\u001b[0m\u001b[0m\n",
      "\u001b[1;32m~\\Anaconda3\\lib\\site-packages\\selenium\\webdriver\\remote\\webdriver.py\u001b[0m in \u001b[0;36mfind_element\u001b[1;34m(self, by, value)\u001b[0m\n\u001b[0;32m    975\u001b[0m                 \u001b[0mvalue\u001b[0m \u001b[1;33m=\u001b[0m \u001b[1;34m'[name=\"%s\"]'\u001b[0m \u001b[1;33m%\u001b[0m \u001b[0mvalue\u001b[0m\u001b[1;33m\u001b[0m\u001b[1;33m\u001b[0m\u001b[0m\n\u001b[1;32m--> 976\u001b[1;33m         return self.execute(Command.FIND_ELEMENT, {\n\u001b[0m\u001b[0;32m    977\u001b[0m             \u001b[1;34m'using'\u001b[0m\u001b[1;33m:\u001b[0m \u001b[0mby\u001b[0m\u001b[1;33m,\u001b[0m\u001b[1;33m\u001b[0m\u001b[1;33m\u001b[0m\u001b[0m\n",
      "\u001b[1;32m~\\Anaconda3\\lib\\site-packages\\selenium\\webdriver\\remote\\webdriver.py\u001b[0m in \u001b[0;36mexecute\u001b[1;34m(self, driver_command, params)\u001b[0m\n\u001b[0;32m    320\u001b[0m         \u001b[1;32mif\u001b[0m \u001b[0mresponse\u001b[0m\u001b[1;33m:\u001b[0m\u001b[1;33m\u001b[0m\u001b[1;33m\u001b[0m\u001b[0m\n\u001b[1;32m--> 321\u001b[1;33m             \u001b[0mself\u001b[0m\u001b[1;33m.\u001b[0m\u001b[0merror_handler\u001b[0m\u001b[1;33m.\u001b[0m\u001b[0mcheck_response\u001b[0m\u001b[1;33m(\u001b[0m\u001b[0mresponse\u001b[0m\u001b[1;33m)\u001b[0m\u001b[1;33m\u001b[0m\u001b[1;33m\u001b[0m\u001b[0m\n\u001b[0m\u001b[0;32m    322\u001b[0m             response['value'] = self._unwrap_value(\n",
      "\u001b[1;32m~\\Anaconda3\\lib\\site-packages\\selenium\\webdriver\\remote\\errorhandler.py\u001b[0m in \u001b[0;36mcheck_response\u001b[1;34m(self, response)\u001b[0m\n\u001b[0;32m    241\u001b[0m             \u001b[1;32mraise\u001b[0m \u001b[0mexception_class\u001b[0m\u001b[1;33m(\u001b[0m\u001b[0mmessage\u001b[0m\u001b[1;33m,\u001b[0m \u001b[0mscreen\u001b[0m\u001b[1;33m,\u001b[0m \u001b[0mstacktrace\u001b[0m\u001b[1;33m,\u001b[0m \u001b[0malert_text\u001b[0m\u001b[1;33m)\u001b[0m\u001b[1;33m\u001b[0m\u001b[1;33m\u001b[0m\u001b[0m\n\u001b[1;32m--> 242\u001b[1;33m         \u001b[1;32mraise\u001b[0m \u001b[0mexception_class\u001b[0m\u001b[1;33m(\u001b[0m\u001b[0mmessage\u001b[0m\u001b[1;33m,\u001b[0m \u001b[0mscreen\u001b[0m\u001b[1;33m,\u001b[0m \u001b[0mstacktrace\u001b[0m\u001b[1;33m)\u001b[0m\u001b[1;33m\u001b[0m\u001b[1;33m\u001b[0m\u001b[0m\n\u001b[0m\u001b[0;32m    243\u001b[0m \u001b[1;33m\u001b[0m\u001b[0m\n",
      "\u001b[1;31mNoSuchElementException\u001b[0m: Message: no such element: Unable to locate element: {\"method\":\"xpath\",\"selector\":\"//select[@id='dnn_ctr437_FindAnArborist_ddl_strCity']/option[text()=\"New Franklin\"]\"}\n  (Session info: chrome=91.0.4472.124)\n",
      "\nDuring handling of the above exception, another exception occurred:\n",
      "\u001b[1;31mNoSuchElementException\u001b[0m                    Traceback (most recent call last)",
      "\u001b[1;32m<ipython-input-105-1346d57a4aec>\u001b[0m in \u001b[0;36m<module>\u001b[1;34m\u001b[0m\n\u001b[0;32m     20\u001b[0m         \u001b[0mprint\u001b[0m\u001b[1;33m(\u001b[0m\u001b[1;34m\"City = \"\u001b[0m\u001b[1;33m+\u001b[0m\u001b[0mstr\u001b[0m\u001b[1;33m(\u001b[0m\u001b[0mCity\u001b[0m\u001b[1;33m)\u001b[0m\u001b[1;33m)\u001b[0m\u001b[1;33m\u001b[0m\u001b[1;33m\u001b[0m\u001b[0m\n\u001b[0;32m     21\u001b[0m         \u001b[0mselect_State\u001b[0m\u001b[1;33m(\u001b[0m\u001b[0mState\u001b[0m\u001b[1;33m)\u001b[0m\u001b[1;33m\u001b[0m\u001b[1;33m\u001b[0m\u001b[0m\n\u001b[1;32m---> 22\u001b[1;33m         \u001b[0mselect_City\u001b[0m\u001b[1;33m(\u001b[0m\u001b[0mCity\u001b[0m\u001b[1;33m)\u001b[0m\u001b[1;33m\u001b[0m\u001b[1;33m\u001b[0m\u001b[0m\n\u001b[0m\u001b[0;32m     23\u001b[0m         \u001b[1;31m#Get the number of pages for the current city selected\u001b[0m\u001b[1;33m\u001b[0m\u001b[1;33m\u001b[0m\u001b[1;33m\u001b[0m\u001b[0m\n\u001b[0;32m     24\u001b[0m         \u001b[0mwait\u001b[0m \u001b[1;33m=\u001b[0m \u001b[0mWebDriverWait\u001b[0m\u001b[1;33m(\u001b[0m\u001b[0mbrowser\u001b[0m\u001b[1;33m,\u001b[0m \u001b[1;36m50\u001b[0m\u001b[1;33m)\u001b[0m\u001b[1;33m\u001b[0m\u001b[1;33m\u001b[0m\u001b[0m\n",
      "\u001b[1;32m<ipython-input-92-5bee79a254af>\u001b[0m in \u001b[0;36mselect_City\u001b[1;34m(text)\u001b[0m\n\u001b[0;32m     50\u001b[0m         \u001b[0msearch_form3\u001b[0m \u001b[1;33m=\u001b[0m \u001b[0mbrowser\u001b[0m\u001b[1;33m.\u001b[0m\u001b[0mfind_element_by_xpath\u001b[0m\u001b[1;33m(\u001b[0m\u001b[1;34m\"//select[@id='dnn_ctr437_FindAnArborist_ddl_strCity']/option[text()=\\\"\"\u001b[0m\u001b[1;33m+\u001b[0m\u001b[0mtext\u001b[0m\u001b[1;33m+\u001b[0m\u001b[1;34m\"\\\"]\"\u001b[0m\u001b[1;33m)\u001b[0m\u001b[1;33m.\u001b[0m\u001b[0mclick\u001b[0m\u001b[1;33m(\u001b[0m\u001b[1;33m)\u001b[0m\u001b[1;33m\u001b[0m\u001b[1;33m\u001b[0m\u001b[0m\n\u001b[0;32m     51\u001b[0m     \u001b[1;32mexcept\u001b[0m \u001b[0mNoSuchElementException\u001b[0m\u001b[1;33m:\u001b[0m\u001b[1;33m\u001b[0m\u001b[1;33m\u001b[0m\u001b[0m\n\u001b[1;32m---> 52\u001b[1;33m         \u001b[0msearch_form3\u001b[0m \u001b[1;33m=\u001b[0m \u001b[0mbrowser\u001b[0m\u001b[1;33m.\u001b[0m\u001b[0mfind_element_by_xpath\u001b[0m\u001b[1;33m(\u001b[0m\u001b[1;34m\"//select[@id='dnn_ctr437_FindAnArborist_ddl_strCity']/option[text()=\\\"\"\u001b[0m\u001b[1;33m+\u001b[0m\u001b[0mtext\u001b[0m\u001b[1;33m+\u001b[0m\u001b[1;34m\" \"\u001b[0m\u001b[1;33m+\u001b[0m\u001b[1;34m\"\\\"]\"\u001b[0m\u001b[1;33m)\u001b[0m\u001b[1;33m.\u001b[0m\u001b[0mclick\u001b[0m\u001b[1;33m(\u001b[0m\u001b[1;33m)\u001b[0m\u001b[1;33m\u001b[0m\u001b[1;33m\u001b[0m\u001b[0m\n\u001b[0m\u001b[0;32m     53\u001b[0m     \u001b[1;32mexcept\u001b[0m \u001b[0mNoSuchElementException\u001b[0m\u001b[1;33m:\u001b[0m\u001b[1;33m\u001b[0m\u001b[1;33m\u001b[0m\u001b[0m\n\u001b[0;32m     54\u001b[0m         \u001b[0msearch_form3\u001b[0m \u001b[1;33m=\u001b[0m \u001b[0mbrowser\u001b[0m\u001b[1;33m.\u001b[0m\u001b[0mfind_element_by_xpath\u001b[0m\u001b[1;33m(\u001b[0m\u001b[1;34m\"//select[@id='dnn_ctr437_FindAnArborist_ddl_strCity']/option[text()=\\\"\"\u001b[0m\u001b[1;33m+\u001b[0m\u001b[1;34m\" \"\u001b[0m\u001b[1;33m+\u001b[0m\u001b[0mtext\u001b[0m\u001b[1;33m+\u001b[0m\u001b[1;34m\"\\\"]\"\u001b[0m\u001b[1;33m)\u001b[0m\u001b[1;33m.\u001b[0m\u001b[0mclick\u001b[0m\u001b[1;33m(\u001b[0m\u001b[1;33m)\u001b[0m\u001b[1;33m\u001b[0m\u001b[1;33m\u001b[0m\u001b[0m\n",
      "\u001b[1;32m~\\Anaconda3\\lib\\site-packages\\selenium\\webdriver\\remote\\webdriver.py\u001b[0m in \u001b[0;36mfind_element_by_xpath\u001b[1;34m(self, xpath)\u001b[0m\n\u001b[0;32m    392\u001b[0m             \u001b[0melement\u001b[0m \u001b[1;33m=\u001b[0m \u001b[0mdriver\u001b[0m\u001b[1;33m.\u001b[0m\u001b[0mfind_element_by_xpath\u001b[0m\u001b[1;33m(\u001b[0m\u001b[1;34m'//div/td[1]'\u001b[0m\u001b[1;33m)\u001b[0m\u001b[1;33m\u001b[0m\u001b[1;33m\u001b[0m\u001b[0m\n\u001b[0;32m    393\u001b[0m         \"\"\"\n\u001b[1;32m--> 394\u001b[1;33m         \u001b[1;32mreturn\u001b[0m \u001b[0mself\u001b[0m\u001b[1;33m.\u001b[0m\u001b[0mfind_element\u001b[0m\u001b[1;33m(\u001b[0m\u001b[0mby\u001b[0m\u001b[1;33m=\u001b[0m\u001b[0mBy\u001b[0m\u001b[1;33m.\u001b[0m\u001b[0mXPATH\u001b[0m\u001b[1;33m,\u001b[0m \u001b[0mvalue\u001b[0m\u001b[1;33m=\u001b[0m\u001b[0mxpath\u001b[0m\u001b[1;33m)\u001b[0m\u001b[1;33m\u001b[0m\u001b[1;33m\u001b[0m\u001b[0m\n\u001b[0m\u001b[0;32m    395\u001b[0m \u001b[1;33m\u001b[0m\u001b[0m\n\u001b[0;32m    396\u001b[0m     \u001b[1;32mdef\u001b[0m \u001b[0mfind_elements_by_xpath\u001b[0m\u001b[1;33m(\u001b[0m\u001b[0mself\u001b[0m\u001b[1;33m,\u001b[0m \u001b[0mxpath\u001b[0m\u001b[1;33m)\u001b[0m\u001b[1;33m:\u001b[0m\u001b[1;33m\u001b[0m\u001b[1;33m\u001b[0m\u001b[0m\n",
      "\u001b[1;32m~\\Anaconda3\\lib\\site-packages\\selenium\\webdriver\\remote\\webdriver.py\u001b[0m in \u001b[0;36mfind_element\u001b[1;34m(self, by, value)\u001b[0m\n\u001b[0;32m    974\u001b[0m                 \u001b[0mby\u001b[0m \u001b[1;33m=\u001b[0m \u001b[0mBy\u001b[0m\u001b[1;33m.\u001b[0m\u001b[0mCSS_SELECTOR\u001b[0m\u001b[1;33m\u001b[0m\u001b[1;33m\u001b[0m\u001b[0m\n\u001b[0;32m    975\u001b[0m                 \u001b[0mvalue\u001b[0m \u001b[1;33m=\u001b[0m \u001b[1;34m'[name=\"%s\"]'\u001b[0m \u001b[1;33m%\u001b[0m \u001b[0mvalue\u001b[0m\u001b[1;33m\u001b[0m\u001b[1;33m\u001b[0m\u001b[0m\n\u001b[1;32m--> 976\u001b[1;33m         return self.execute(Command.FIND_ELEMENT, {\n\u001b[0m\u001b[0;32m    977\u001b[0m             \u001b[1;34m'using'\u001b[0m\u001b[1;33m:\u001b[0m \u001b[0mby\u001b[0m\u001b[1;33m,\u001b[0m\u001b[1;33m\u001b[0m\u001b[1;33m\u001b[0m\u001b[0m\n\u001b[0;32m    978\u001b[0m             'value': value})['value']\n",
      "\u001b[1;32m~\\Anaconda3\\lib\\site-packages\\selenium\\webdriver\\remote\\webdriver.py\u001b[0m in \u001b[0;36mexecute\u001b[1;34m(self, driver_command, params)\u001b[0m\n\u001b[0;32m    319\u001b[0m         \u001b[0mresponse\u001b[0m \u001b[1;33m=\u001b[0m \u001b[0mself\u001b[0m\u001b[1;33m.\u001b[0m\u001b[0mcommand_executor\u001b[0m\u001b[1;33m.\u001b[0m\u001b[0mexecute\u001b[0m\u001b[1;33m(\u001b[0m\u001b[0mdriver_command\u001b[0m\u001b[1;33m,\u001b[0m \u001b[0mparams\u001b[0m\u001b[1;33m)\u001b[0m\u001b[1;33m\u001b[0m\u001b[1;33m\u001b[0m\u001b[0m\n\u001b[0;32m    320\u001b[0m         \u001b[1;32mif\u001b[0m \u001b[0mresponse\u001b[0m\u001b[1;33m:\u001b[0m\u001b[1;33m\u001b[0m\u001b[1;33m\u001b[0m\u001b[0m\n\u001b[1;32m--> 321\u001b[1;33m             \u001b[0mself\u001b[0m\u001b[1;33m.\u001b[0m\u001b[0merror_handler\u001b[0m\u001b[1;33m.\u001b[0m\u001b[0mcheck_response\u001b[0m\u001b[1;33m(\u001b[0m\u001b[0mresponse\u001b[0m\u001b[1;33m)\u001b[0m\u001b[1;33m\u001b[0m\u001b[1;33m\u001b[0m\u001b[0m\n\u001b[0m\u001b[0;32m    322\u001b[0m             response['value'] = self._unwrap_value(\n\u001b[0;32m    323\u001b[0m                 response.get('value', None))\n",
      "\u001b[1;32m~\\Anaconda3\\lib\\site-packages\\selenium\\webdriver\\remote\\errorhandler.py\u001b[0m in \u001b[0;36mcheck_response\u001b[1;34m(self, response)\u001b[0m\n\u001b[0;32m    240\u001b[0m                 \u001b[0malert_text\u001b[0m \u001b[1;33m=\u001b[0m \u001b[0mvalue\u001b[0m\u001b[1;33m[\u001b[0m\u001b[1;34m'alert'\u001b[0m\u001b[1;33m]\u001b[0m\u001b[1;33m.\u001b[0m\u001b[0mget\u001b[0m\u001b[1;33m(\u001b[0m\u001b[1;34m'text'\u001b[0m\u001b[1;33m)\u001b[0m\u001b[1;33m\u001b[0m\u001b[1;33m\u001b[0m\u001b[0m\n\u001b[0;32m    241\u001b[0m             \u001b[1;32mraise\u001b[0m \u001b[0mexception_class\u001b[0m\u001b[1;33m(\u001b[0m\u001b[0mmessage\u001b[0m\u001b[1;33m,\u001b[0m \u001b[0mscreen\u001b[0m\u001b[1;33m,\u001b[0m \u001b[0mstacktrace\u001b[0m\u001b[1;33m,\u001b[0m \u001b[0malert_text\u001b[0m\u001b[1;33m)\u001b[0m\u001b[1;33m\u001b[0m\u001b[1;33m\u001b[0m\u001b[0m\n\u001b[1;32m--> 242\u001b[1;33m         \u001b[1;32mraise\u001b[0m \u001b[0mexception_class\u001b[0m\u001b[1;33m(\u001b[0m\u001b[0mmessage\u001b[0m\u001b[1;33m,\u001b[0m \u001b[0mscreen\u001b[0m\u001b[1;33m,\u001b[0m \u001b[0mstacktrace\u001b[0m\u001b[1;33m)\u001b[0m\u001b[1;33m\u001b[0m\u001b[1;33m\u001b[0m\u001b[0m\n\u001b[0m\u001b[0;32m    243\u001b[0m \u001b[1;33m\u001b[0m\u001b[0m\n\u001b[0;32m    244\u001b[0m     \u001b[1;32mdef\u001b[0m \u001b[0m_value_or_default\u001b[0m\u001b[1;33m(\u001b[0m\u001b[0mself\u001b[0m\u001b[1;33m,\u001b[0m \u001b[0mobj\u001b[0m\u001b[1;33m,\u001b[0m \u001b[0mkey\u001b[0m\u001b[1;33m,\u001b[0m \u001b[0mdefault\u001b[0m\u001b[1;33m)\u001b[0m\u001b[1;33m:\u001b[0m\u001b[1;33m\u001b[0m\u001b[1;33m\u001b[0m\u001b[0m\n",
      "\u001b[1;31mNoSuchElementException\u001b[0m: Message: no such element: Unable to locate element: {\"method\":\"xpath\",\"selector\":\"//select[@id='dnn_ctr437_FindAnArborist_ddl_strCity']/option[text()=\"New Franklin \"]\"}\n  (Session info: chrome=91.0.4472.124)\n"
     ]
    }
   ],
   "metadata": {
    "tags": []
   }
  },
  {
   "cell_type": "code",
   "execution_count": null,
   "source": [],
   "outputs": [],
   "metadata": {}
  }
 ],
 "metadata": {
  "kernelspec": {
   "name": "python3",
   "display_name": "Python 3.8.3 64-bit ('base': conda)"
  },
  "language_info": {
   "codemirror_mode": {
    "name": "ipython",
    "version": 3
   },
   "file_extension": ".py",
   "mimetype": "text/x-python",
   "name": "python",
   "nbconvert_exporter": "python",
   "pygments_lexer": "ipython3",
   "version": "3.8.3"
  },
  "interpreter": {
   "hash": "3699bb797b899b627d36f21adabb2cdaee2b95eda3fe52ea0b2b2afa726d161a"
  }
 },
 "nbformat": 4,
 "nbformat_minor": 2
}