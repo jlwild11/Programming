{
 "cells": [
  {
   "cell_type": "code",
   "execution_count": null,
   "metadata": {
    "tags": []
   },
   "outputs": [],
   "source": [
    "#pip install selenium"
   ]
  },
  {
   "cell_type": "code",
   "execution_count": null,
   "metadata": {
    "tags": []
   },
   "outputs": [],
   "source": [
    "#pip install webdriver_manager"
   ]
  },
  {
   "cell_type": "code",
   "execution_count": null,
   "metadata": {},
   "outputs": [],
   "source": [
    "from selenium import webdriver\n",
    "from selenium.webdriver.chrome.options import Options\n",
    "from webdriver_manager.chrome import ChromeDriverManager\n",
    "opts = Options()\n",
    "opts.set_headless()\n",
    "assert opts.headless  # Operating in headless mode\n",
    "import pandas as pd\n",
    "import re"
   ]
  },
  {
   "cell_type": "code",
   "execution_count": null,
   "metadata": {},
   "outputs": [],
   "source": [
    "country = \"United States\""
   ]
  },
  {
   "cell_type": "code",
   "execution_count": null,
   "metadata": {
    "tags": []
   },
   "outputs": [],
   "source": [
    "browser = webdriver.Chrome(ChromeDriverManager().install())\n",
    "browser.get('https://www.treesaregood.org/findanarborist/findanarborist')"
   ]
  },
  {
   "cell_type": "code",
   "execution_count": null,
   "metadata": {},
   "outputs": [],
   "source": [
    "search_form = browser.find_element_by_id('dnn_ctr437_FindAnArborist_ddl_strCountry')\n",
    "search_form.send_keys('United States')"
   ]
  },
  {
   "cell_type": "code",
   "execution_count": null,
   "metadata": {
    "tags": []
   },
   "outputs": [],
   "source": [
    "\n",
    "search_form2 = browser.find_element_by_id('dnn_ctr437_FindAnArborist_ddl_strStateProv')\n",
    "list = search_form2.text\n",
    "list = re.sub(\"[^\\w]\", \" \",  list).split()\n",
    "state_list = list[2:]\n",
    "master_state_list = state_list\n",
    "\n"
   ]
  },
  {
   "cell_type": "code",
   "execution_count": null,
   "metadata": {
    "tags": []
   },
   "outputs": [],
   "source": [
    "print(master_state_list)"
   ]
  },
  {
   "cell_type": "code",
   "execution_count": null,
   "metadata": {},
   "outputs": [],
   "source": [
    "search_form2 = browser.find_element_by_id('dnn_ctr437_FindAnArborist_ddl_strStateProv')\n",
    "search_form2.send_keys('CA')"
   ]
  },
  {
   "cell_type": "code",
   "execution_count": null,
   "metadata": {},
   "outputs": [],
   "source": [
    "browser.find_element_by_name('dnn$ctr437$FindAnArborist$btnLocationSearch').click()"
   ]
  },
  {
   "cell_type": "code",
   "execution_count": null,
   "metadata": {},
   "outputs": [],
   "source": [
    "def select_USA():\n",
    "    browser.get('https://www.treesaregood.org/findanarborist/findanarborist')\n",
    "    search_form = browser.find_element_by_id('dnn_ctr437_FindAnArborist_ddl_strCountry')\n",
    "    search_form.send_keys(country)\n",
    "    \n",
    "def select_State(n):\n",
    "    search_form2 = browser.find_element_by_id('dnn_ctr437_FindAnArborist_ddl_strStateProv')\n",
    "    search_form2.send_keys(state_list[n])\n",
    "    browser.find_element_by_name('dnn$ctr437$FindAnArborist$btnLocationSearch').click()"
   ]
  },
  {
   "cell_type": "code",
   "execution_count": null,
   "metadata": {},
   "outputs": [],
   "source": [
    "select_USA()"
   ]
  },
  {
   "cell_type": "code",
   "execution_count": null,
   "metadata": {},
   "outputs": [],
   "source": [
    "num = 0\n",
    "def select_name(num):\n",
    "    id = \"dnn_ctr437_FindAnArborist_GridViewFindAnArborist_linkbutton_SelectArborist_\"+str(num)\n",
    "    browser.find_element_by_id(id).click()"
   ]
  },
  {
   "cell_type": "code",
   "execution_count": null,
   "metadata": {},
   "outputs": [],
   "source": [
    "num = 2\n",
    "def select_page(num):\n",
    "    browser.find_element_by_link_text(num).click()\n",
    "select_page(num)"
   ]
  },
  {
   "cell_type": "code",
   "execution_count": null,
   "metadata": {
    "tags": []
   },
   "outputs": [],
   "source": [
    "\n",
    "    page_href = browser.find_elements_by_xpath(\"//*[@href]\")\n",
    "    page_list = []\n",
    "    page_list_len = 0\n",
    "    for ii in page_href:\n",
    "        #print(ii.get_attribute('href'))\n",
    "        x = ii.get_attribute('href')\n",
    "        page_list.append(x)\n",
    "        matching = [s for s in page_list if \"javascript:__doPostBack('dnn$ctr437$FindAnArborist$GridViewFindAnArborist','Page$\" in s]\n",
    "        page_list = matching\n",
    "        page_list_len = len(page_list)\n",
    "        #print(page_list)\n",
    "    #page_list = page_list\n",
    "    #page_list_len = len(page_list)\n",
    "    print(page_list_len)\n",
    "    print(page_list_len - page_list_len +2)"
   ]
  },
  {
   "cell_type": "code",
   "execution_count": null,
   "metadata": {
    "tags": []
   },
   "outputs": [],
   "source": [
    "#dnn_ctr437_FindAnArborist_GridViewFindAnArborist_linkbutton_SelectArborist_\n",
    "#name_list = browser.find_elements_by_xpath(\"//*[contains(@id, 'dnn_ctr437_FindAnArborist_GridViewFindAnArborist_linkbutton_SelectArborist_')]\")\n",
    "#name_list_len = len(name_list)\n",
    "#print(name_list_len)"
   ]
  },
  {
   "cell_type": "code",
   "execution_count": null,
   "metadata": {
    "tags": []
   },
   "outputs": [],
   "source": [
    "\n",
    "global Name\n",
    "global Address\n",
    "global Phone\n",
    "global Mobile\n",
    "global Email\n",
    "global Credentials\n",
    "global Services_Offered\n",
    "global Link_to_Profile\n",
    "from selenium.common.exceptions import NoSuchElementException\n",
    "\n",
    "def Arborist_info():\n",
    "    global Name\n",
    "    global Address\n",
    "    global Phone\n",
    "    global Mobile\n",
    "    global Email\n",
    "    global Credentials\n",
    "    global Services_Offered\n",
    "    global Link_to_Profile\n",
    "    try:\n",
    "        Name = browser.find_element_by_id(\"dnn_ctr437_FindAnArborist_lbl_strName\")\n",
    "        Name = Name.text\n",
    "    except NoSuchElementException:\n",
    "        Name = \"\"  \n",
    "    try:\n",
    "        Address = browser.find_element_by_id(\"dnn_ctr437_FindAnArborist_lbl_strAddress\")\n",
    "        Address = Address.text\n",
    "    except NoSuchElementException:\n",
    "        Address = \"\"\n",
    "    try:\n",
    "        Phone = browser.find_element_by_id(\"dnn_ctr437_FindAnArborist_lbl_strPhone\")\n",
    "        Phone = Phone.text\n",
    "    except NoSuchElementException:\n",
    "        Phone = \"\"\n",
    "    try:\n",
    "        Mobile = browser.find_element_by_id(\"dnn_ctr437_FindAnArborist_lbl_strMobile\")\n",
    "        Mobile = Mobile.text\n",
    "    except NoSuchElementException:\n",
    "        Mobile = \"\"\n",
    "    try:    \n",
    "        Email = browser.find_element_by_id(\"dnn_ctr437_FindAnArborist_lbl_strEmail\")\n",
    "        Email = Email.text\n",
    "    except NoSuchElementException:\n",
    "        Email = \"\"\n",
    "    try:\n",
    "        Credentials = browser.find_element_by_id(\"dnn_ctr437_FindAnArborist_panelCredentials\")\n",
    "        Credentials = Credentials.text\n",
    "    except NoSuchElementException:\n",
    "        Credentials = \"\"\n",
    "    try:\n",
    "        Services_Offered = browser.find_element_by_id(\"dnn_ctr437_FindAnArborist_panelServices\")\n",
    "        Services_Offered = Services_Offered.text\n",
    "    except NoSuchElementException:\n",
    "        Services_Offered = \"\"\n",
    "    try:   \n",
    "        Direct_Link_Button = browser.find_element_by_id(\"dnn_ctr437_FindAnArborist_lblDirectLink\")\n",
    "        Link_to_Profile = Direct_Link_Button.get_attribute('innerHTML')\n",
    "        Link_to_Profile = Link_to_Profile.split(\"\\\"\")\n",
    "        Link_to_Profile = Link_to_Profile[1]\n",
    "        Link_to_Profile = Link_to_Profile.split(\"=\")\n",
    "        ProfileID = Link_to_Profile[1]\n",
    "        Link_to_Profile = \"https://www.treesaregood.org/findanarborist/findanarborist/id/\"+str(ProfileID)\n",
    "        Link_to_Profile = Link_to_Profile\n",
    "    except NoSuchElementException:\n",
    "        Link_to_Profile = \"\""
   ]
  },
  {
   "cell_type": "code",
   "execution_count": null,
   "metadata": {
    "tags": []
   },
   "outputs": [],
   "source": [
    "Arborist_info()\n",
    "print(Mobile)\n",
    "print(Name)"
   ]
  },
  {
   "cell_type": "code",
   "execution_count": null,
   "metadata": {},
   "outputs": [],
   "source": [
    "Arborist_Info = {'Name':[Name],\n",
    "                'Address': [Address],\n",
    "                'Phone': [Phone],\n",
    "                'Mobile': [Mobile],\n",
    "                'Email': [Email],\n",
    "                'Credentials': [Credentials],\n",
    "                'Services_Offered': [Services_Offered],\n",
    "                'Link_to_Profile': [Link_to_Profile]\n",
    "                }"
   ]
  },
  {
   "cell_type": "code",
   "execution_count": null,
   "metadata": {},
   "outputs": [],
   "source": [
    "df = pd.DataFrame(Arborist_Info, columns= ['Name', 'Address','Phone','Mobile','Email','Credentials','Services_Offered','Link_to_Profile'])"
   ]
  },
  {
   "cell_type": "code",
   "execution_count": null,
   "metadata": {},
   "outputs": [],
   "source": [
    "df.to_csv (r'C:\\Users\\jaw\\OneDrive - Mountain G. Enterprises, Inc\\Documents\\Programming\\Jupyter_Notebooks\\Arborists\\Aroborists.csv',mode='a', index = False, header=False)\n"
   ]
  },
  {
   "cell_type": "code",
   "execution_count": null,
   "metadata": {},
   "outputs": [],
   "source": []
  },
  {
   "cell_type": "code",
   "execution_count": null,
   "metadata": {},
   "outputs": [],
   "source": [
    "browser.execute_script(\"window.history.go(-1)\")"
   ]
  },
  {
   "cell_type": "code",
   "execution_count": null,
   "metadata": {},
   "outputs": [],
   "source": [
    "browser.close()\n",
    "quit()"
   ]
  },
  {
   "cell_type": "code",
   "execution_count": null,
   "metadata": {
    "tags": []
   },
   "outputs": [],
   "source": [
    "wait = WebDriverWait(browser, 50)\n",
    "element = wait.until(EC.element_to_be_clickable((By.ID, \"dnn_ctr437_FindAnArborist_ddl_strCity\")))\n",
    "element = wait.until(EC.text_to_be_present_in_element((By.ID, \"dnn_ctr437_FindAnArborist_ddl_strCity\"),\"Any...\"))\n",
    "search_form3 = browser.find_element_by_id('dnn_ctr437_FindAnArborist_ddl_strCity')\n",
    "list1 = search_form3.text\n",
    "#print(list1)\n",
    "list2 = re.sub(\"[-]\", \"||\", list1)\n",
    "list2 = re.sub(\"[\\']\", \"'\", list1)\n",
    "#list2 = re.sub(\"[^\\w]\", \"_\", list2)\n",
    "#print(list2)\n",
    "#list3 = list2.split(\"___\")\n",
    "list3 = list2.split(\"_\")\n",
    "list3 = list3[0].split(\"\\n\")\n",
    "#print(list3)\n",
    "list4 = [sub.strip() for sub in list3]\n",
    "#print(list4)\n",
    "while(\"\" in list4): \n",
    "    list4.remove(\"\")\n",
    "#print(list4)\n",
    "list5 = list4[1:]\n",
    "#print(list5)\n",
    "city_list = list5\n",
    "print(city_list)\n"
   ]
  },
  {
   "cell_type": "code",
   "execution_count": null,
   "metadata": {},
   "outputs": [],
   "source": []
  },
  {
   "cell_type": "code",
   "execution_count": null,
   "metadata": {},
   "outputs": [],
   "source": []
  },
  {
   "cell_type": "code",
   "execution_count": null,
   "metadata": {},
   "outputs": [],
   "source": []
  }
 ],
 "metadata": {
  "kernelspec": {
   "display_name": "Python 3.8.3 64-bit ('base': conda)",
   "language": "python",
   "name": "python_defaultSpec_1596462595645"
  },
  "language_info": {
   "codemirror_mode": {
    "name": "ipython",
    "version": 3
   },
   "file_extension": ".py",
   "mimetype": "text/x-python",
   "name": "python",
   "nbconvert_exporter": "python",
   "pygments_lexer": "ipython3",
   "version": "3.8.3-final"
  }
 },
 "nbformat": 4,
 "nbformat_minor": 2
}