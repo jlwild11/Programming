{
 "cells": [
  {
   "cell_type": "code",
   "execution_count": null,
   "metadata": {},
   "outputs": [],
   "source": [
    "#https://www.dataquest.io/blog/python-excel-xlwings-tutorial/"
   ]
  },
  {
   "cell_type": "code",
   "execution_count": 56,
   "metadata": {},
   "outputs": [
    {
     "data": {
      "text/html": [
       "<div>\n",
       "<style scoped>\n",
       "    .dataframe tbody tr th:only-of-type {\n",
       "        vertical-align: middle;\n",
       "    }\n",
       "\n",
       "    .dataframe tbody tr th {\n",
       "        vertical-align: top;\n",
       "    }\n",
       "\n",
       "    .dataframe thead th {\n",
       "        text-align: right;\n",
       "    }\n",
       "</style>\n",
       "<table border=\"1\" class=\"dataframe\">\n",
       "  <thead>\n",
       "    <tr style=\"text-align: right;\">\n",
       "      <th></th>\n",
       "      <th>No.</th>\n",
       "      <th>Day</th>\n",
       "      <th>DD</th>\n",
       "      <th>MMM</th>\n",
       "      <th>YYYY</th>\n",
       "      <th>N1</th>\n",
       "      <th>N2</th>\n",
       "      <th>N3</th>\n",
       "      <th>N4</th>\n",
       "      <th>N5</th>\n",
       "      <th>L1</th>\n",
       "      <th>L2</th>\n",
       "      <th>Jackpot</th>\n",
       "      <th>Wins</th>\n",
       "    </tr>\n",
       "  </thead>\n",
       "  <tbody>\n",
       "    <tr>\n",
       "      <th>354</th>\n",
       "      <td>898</td>\n",
       "      <td>Fri</td>\n",
       "      <td>29</td>\n",
       "      <td>Apr</td>\n",
       "      <td>2016</td>\n",
       "      <td>4</td>\n",
       "      <td>25</td>\n",
       "      <td>28</td>\n",
       "      <td>5</td>\n",
       "      <td>43</td>\n",
       "      <td>6</td>\n",
       "      <td>11</td>\n",
       "      <td>37275721</td>\n",
       "      <td>0</td>\n",
       "    </tr>\n",
       "    <tr>\n",
       "      <th>1154</th>\n",
       "      <td>98</td>\n",
       "      <td>Fri</td>\n",
       "      <td>23</td>\n",
       "      <td>Dec</td>\n",
       "      <td>2005</td>\n",
       "      <td>31</td>\n",
       "      <td>42</td>\n",
       "      <td>37</td>\n",
       "      <td>36</td>\n",
       "      <td>15</td>\n",
       "      <td>1</td>\n",
       "      <td>7</td>\n",
       "      <td>45483082</td>\n",
       "      <td>0</td>\n",
       "    </tr>\n",
       "    <tr>\n",
       "      <th>790</th>\n",
       "      <td>462</td>\n",
       "      <td>Fri</td>\n",
       "      <td>24</td>\n",
       "      <td>Feb</td>\n",
       "      <td>2012</td>\n",
       "      <td>34</td>\n",
       "      <td>3</td>\n",
       "      <td>12</td>\n",
       "      <td>26</td>\n",
       "      <td>7</td>\n",
       "      <td>10</td>\n",
       "      <td>8</td>\n",
       "      <td>46432285</td>\n",
       "      <td>1</td>\n",
       "    </tr>\n",
       "    <tr>\n",
       "      <th>1021</th>\n",
       "      <td>231</td>\n",
       "      <td>Fri</td>\n",
       "      <td>11</td>\n",
       "      <td>Jul</td>\n",
       "      <td>2008</td>\n",
       "      <td>37</td>\n",
       "      <td>19</td>\n",
       "      <td>11</td>\n",
       "      <td>13</td>\n",
       "      <td>9</td>\n",
       "      <td>3</td>\n",
       "      <td>4</td>\n",
       "      <td>12022500</td>\n",
       "      <td>1</td>\n",
       "    </tr>\n",
       "    <tr>\n",
       "      <th>4</th>\n",
       "      <td>1248</td>\n",
       "      <td>Fri</td>\n",
       "      <td>6</td>\n",
       "      <td>Sep</td>\n",
       "      <td>2019</td>\n",
       "      <td>13</td>\n",
       "      <td>22</td>\n",
       "      <td>40</td>\n",
       "      <td>10</td>\n",
       "      <td>48</td>\n",
       "      <td>5</td>\n",
       "      <td>2</td>\n",
       "      <td>125665319</td>\n",
       "      <td>0</td>\n",
       "    </tr>\n",
       "  </tbody>\n",
       "</table>\n",
       "</div>"
      ],
      "text/plain": [
       "       No.   Day  DD  MMM  YYYY   N1  N2  N3  N4  N5  L1  L2    Jackpot  \\\n",
       "354    898   Fri  29  Apr  2016    4  25  28   5  43   6  11   37275721   \n",
       "1154    98   Fri  23  Dec  2005   31  42  37  36  15   1   7   45483082   \n",
       "790    462   Fri  24  Feb  2012   34   3  12  26   7  10   8   46432285   \n",
       "1021   231   Fri  11  Jul  2008   37  19  11  13   9   3   4   12022500   \n",
       "4     1248   Fri   6  Sep  2019   13  22  40  10  48   5   2  125665319   \n",
       "\n",
       "         Wins  \n",
       "354         0  \n",
       "1154        0  \n",
       "790         1  \n",
       "1021        1  \n",
       "4           0  "
      ]
     },
     "execution_count": 56,
     "metadata": {},
     "output_type": "execute_result"
    }
   ],
   "source": [
    "import pandas as pd\n",
    "import xlwings as xw\n",
    "df = pd.read_csv(r'C:\\Users\\jaw\\OneDrive - Mountain G. Enterprises, Inc\\Documents\\Programming\\xlwings\\Dataquest_Tutorial\\euromillions.csv')\n",
    "df.sample(5)"
   ]
  },
  {
   "cell_type": "code",
   "execution_count": 57,
   "metadata": {},
   "outputs": [],
   "source": [
    "wb = xw.Book() # wb = xw.Book(filename) would open an existing file"
   ]
  },
  {
   "cell_type": "code",
   "execution_count": 58,
   "metadata": {},
   "outputs": [
    {
     "name": "stdout",
     "output_type": "stream",
     "text": [
      "Apps([<Excel App 3892>])\n"
     ]
    }
   ],
   "source": [
    "print(xw.apps)"
   ]
  },
  {
   "cell_type": "code",
   "execution_count": 59,
   "metadata": {},
   "outputs": [
    {
     "name": "stdout",
     "output_type": "stream",
     "text": [
      "Sheets([<Sheet [Book1]Sheet1>, <Sheet [Book1]ESRI_MAPINFO_SHEET>])\n"
     ]
    }
   ],
   "source": [
    "print(wb.sheets)"
   ]
  },
  {
   "cell_type": "code",
   "execution_count": 60,
   "metadata": {},
   "outputs": [
    {
     "name": "stdout",
     "output_type": "stream",
     "text": [
      "True\n"
     ]
    }
   ],
   "source": [
    "#creates a worksheet object assigns it to ws\n",
    "ws = wb.sheets[\"Sheet1\"]\n",
    "#checks that wb.sheets[0] equals ws\n",
    "print(ws == wb.sheets[0])"
   ]
  },
  {
   "cell_type": "code",
   "execution_count": 61,
   "metadata": {},
   "outputs": [],
   "source": [
    "ws.name = \"EuroMillions\""
   ]
  },
  {
   "cell_type": "code",
   "execution_count": 62,
   "metadata": {},
   "outputs": [],
   "source": [
    "#ws.range(\"A1\") is a Range object\n",
    "ws.range(\"A1\").value = df"
   ]
  },
  {
   "cell_type": "code",
   "execution_count": 63,
   "metadata": {},
   "outputs": [],
   "source": [
    "ws.clear_contents()"
   ]
  },
  {
   "cell_type": "code",
   "execution_count": 64,
   "metadata": {},
   "outputs": [],
   "source": [
    "ws.range(\"A1\").options(index=False).value = df"
   ]
  },
  {
   "cell_type": "code",
   "execution_count": 65,
   "metadata": {},
   "outputs": [
    {
     "name": "stdout",
     "output_type": "stream",
     "text": [
      "The last row is 1253.\n",
      "The DataFrame df has 1252 rows.\n"
     ]
    }
   ],
   "source": [
    "last_row = ws.range(1,1).end('down').row\n",
    "print(\"The last row is {row}.\".format(row=last_row))\n",
    "print(\"The DataFrame df has {rows} rows.\".format(rows=df.shape[0]))"
   ]
  },
  {
   "cell_type": "code",
   "execution_count": 66,
   "metadata": {},
   "outputs": [
    {
     "data": {
      "text/plain": [
       "True"
      ]
     },
     "execution_count": 66,
     "metadata": {},
     "output_type": "execute_result"
    }
   ],
   "source": [
    "ws.range(\n",
    "\"A2:N{row}\".format(row=last_row)\n",
    ").api.Sort(Key1=ws.range(\"A:A\").api, Order1=1)"
   ]
  },
  {
   "cell_type": "code",
   "execution_count": 67,
   "metadata": {},
   "outputs": [],
   "source": [
    "ws.range(\"O1\").value = \"Date\""
   ]
  },
  {
   "cell_type": "code",
   "execution_count": 68,
   "metadata": {},
   "outputs": [],
   "source": [
    "ws.range(\"O2\").value = \"=C2&D2&RIGHT(E2, 2)\""
   ]
  },
  {
   "cell_type": "code",
   "execution_count": 69,
   "metadata": {},
   "outputs": [
    {
     "data": {
      "text/plain": [
       "True"
      ]
     },
     "execution_count": 69,
     "metadata": {},
     "output_type": "execute_result"
    }
   ],
   "source": [
    "ws.range(\"O2\").api.AutoFill(ws.range(\"O2:O{row}\".format(row=last_row)).api,0)"
   ]
  },
  {
   "cell_type": "code",
   "execution_count": 70,
   "metadata": {},
   "outputs": [],
   "source": [
    "def autofill(worksheet, cell, last_row):\n",
    "   rg_cell = worksheet.range(cell)\n",
    "   to_fill = \"{col}{top_row}:{col}{last_row}\".format(\n",
    "      col=rg_cell.get_address(0,0)[0],\n",
    "      top_row=rg_cell.row,\n",
    "      last_row=last_row\n",
    "   )\n",
    "   rg_cell.api.Autofill(worksheet.range(to_fill).api, 0)"
   ]
  },
  {
   "cell_type": "code",
   "execution_count": 71,
   "metadata": {},
   "outputs": [
    {
     "name": "stdout",
     "output_type": "stream",
     "text": [
      "<class 'list'>\n"
     ]
    }
   ],
   "source": [
    "print(type(ws.range(\"O2:O{row}\".format(row=last_row)).value))"
   ]
  },
  {
   "cell_type": "code",
   "execution_count": 72,
   "metadata": {},
   "outputs": [
    {
     "name": "stdout",
     "output_type": "stream",
     "text": [
      "['13Feb04', '20Feb04', '27Feb04', '5Mar04', '12Mar04', '19Mar04', '26Mar04', '2Apr04', '9Apr04', '16Apr04']\n"
     ]
    }
   ],
   "source": [
    "print(ws.range('O2:O{row}'.format(row=last_row)).value[:10])"
   ]
  },
  {
   "cell_type": "code",
   "execution_count": 73,
   "metadata": {},
   "outputs": [],
   "source": [
    "ws.range('O2').options(transpose=True).value = ws.range('O2:O{row}'.format(row=last_row)).value"
   ]
  },
  {
   "cell_type": "code",
   "execution_count": 74,
   "metadata": {},
   "outputs": [
    {
     "data": {
      "text/plain": [
       "True"
      ]
     },
     "execution_count": 74,
     "metadata": {},
     "output_type": "execute_result"
    }
   ],
   "source": [
    "ws.range('C:E').api.Delete()"
   ]
  },
  {
   "cell_type": "code",
   "execution_count": 75,
   "metadata": {},
   "outputs": [],
   "source": [
    "ws.range('1:1').api.Font.Bold = True"
   ]
  },
  {
   "cell_type": "code",
   "execution_count": 77,
   "metadata": {},
   "outputs": [],
   "source": [
    "ws.range('J:J').number_format = \"$#,##0\""
   ]
  },
  {
   "cell_type": "code",
   "execution_count": 78,
   "metadata": {},
   "outputs": [],
   "source": [
    "last_column = ws.range(1,1).end('right').get_address(0,0)[0]"
   ]
  },
  {
   "cell_type": "code",
   "execution_count": 79,
   "metadata": {},
   "outputs": [
    {
     "name": "stdout",
     "output_type": "stream",
     "text": [
      "L\n"
     ]
    }
   ],
   "source": [
    "print(last_column)"
   ]
  },
  {
   "cell_type": "code",
   "execution_count": 80,
   "metadata": {},
   "outputs": [],
   "source": [
    "ws.range('A1:{}1'.format(last_column)).api.Borders(9).LineStyle = -4119"
   ]
  },
  {
   "cell_type": "code",
   "execution_count": 81,
   "metadata": {},
   "outputs": [],
   "source": [
    "ws.autofit()"
   ]
  },
  {
   "cell_type": "code",
   "execution_count": 82,
   "metadata": {},
   "outputs": [],
   "source": [
    "ws.range('A:L').api.ColumnWidth = ws.range('J:J').api.ColumnWidth"
   ]
  },
  {
   "cell_type": "code",
   "execution_count": 83,
   "metadata": {},
   "outputs": [
    {
     "data": {
      "text/plain": [
       "<Sheet [Book1]Frequencies>"
      ]
     },
     "execution_count": 83,
     "metadata": {},
     "output_type": "execute_result"
    }
   ],
   "source": [
    "wb.sheets.add('Frequencies')"
   ]
  },
  {
   "cell_type": "code",
   "execution_count": 84,
   "metadata": {},
   "outputs": [],
   "source": [
    "frequencies = wb.sheets['Frequencies']"
   ]
  },
  {
   "cell_type": "code",
   "execution_count": null,
   "metadata": {},
   "outputs": [],
   "source": []
  }
 ],
 "metadata": {
  "kernelspec": {
   "display_name": "Python 3",
   "language": "python",
   "name": "python3"
  },
  "language_info": {
   "codemirror_mode": {
    "name": "ipython",
    "version": 3
   },
   "file_extension": ".py",
   "mimetype": "text/x-python",
   "name": "python",
   "nbconvert_exporter": "python",
   "pygments_lexer": "ipython3",
   "version": "3.8.3"
  }
 },
 "nbformat": 4,
 "nbformat_minor": 4
}
